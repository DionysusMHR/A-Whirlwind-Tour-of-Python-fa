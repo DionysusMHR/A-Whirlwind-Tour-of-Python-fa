{
 "cells": [
  {
   "cell_type": "markdown",
   "id": "3c9dc7e3",
   "metadata": {},
   "source": [
    "# خطاها و استثناها (Errors and Exceptions)"
   ]
  },
  {
   "cell_type": "markdown",
   "id": "cc65cd11",
   "metadata": {},
   "source": [
    "مهم نیست چقدر به عنوان یک برنامه‌نویس مهارت داشته باشید، در نهایت مرتکب اشتباه کدنویسی خواهید شد.  \n",
    "این اشتباهات عموماً در سه دسته اصلی قرار می‌گیرند:  \n",
    "\n",
    "- **خطاهای نحوی (Syntax errors):** خطاهایی که در آن کد از نظر پایتون معتبر نیست (معمولاً به راحتی رفع می‌شوند).  \n",
    "- **خطاهای زمان اجرا (Runtime errors):** خطاهایی که در آن کد از نظر نحوی معتبر است، اما در اجرا با شکست مواجه می‌شود؛ اغلب به دلیل ورودی نامعتبر کاربر (گاهی به راحتی رفع می‌شوند).  \n",
    "- **خطاهای معنایی (Semantic errors):** خطاهای منطقی؛ کد بدون مشکل اجرا می‌شود، اما نتیجه آن چیزی نیست که انتظار دارید (اغلب ردیابی و رفع آن‌ها بسیار دشوار است).  \n",
    "\n",
    "در اینجا قصد داریم بر نحوه مدیریت تمیز **خطاهای زمان اجرا** تمرکز کنیم.  \n",
    "همان‌طور که خواهیم دید، پایتون این خطاها را از طریق چارچوب **مدیریت استثناها (exception handling)** پردازش می‌کند."
   ]
  },
  {
   "cell_type": "markdown",
   "id": "4c14d90d",
   "metadata": {},
   "source": [
    "## خطاهای زمان اجرا (Runtime Errors)\n",
    "\n",
    "اگر تا به حال در پایتون کدنویسی کرده باشید، احتمالاً با خطاهای زمان اجرا مواجه شده‌اید.  \n",
    "این خطاها می‌توانند به روش‌های مختلفی رخ دهند.  \n",
    "\n",
    "برای مثال، اگر سعی کنید به یک متغیر تعریف‌نشده ارجاع دهید:"
   ]
  },
  {
   "cell_type": "code",
   "execution_count": null,
   "id": "a5d902fb",
   "metadata": {},
   "outputs": [
    {
     "ename": "NameError",
     "evalue": "name 'Q' is not defined",
     "output_type": "error",
     "traceback": [
      "\u001b[0;31m---------------------------------------------------------------------------\u001b[0m\n",
      "\u001b[0;31mNameError\u001b[0m                                 Traceback (most recent call last)\n",
      "\u001b[0;32m<ipython-input-3-e796bdcf24ff>\u001b[0m in \u001b[0;36m<module>\u001b[0;34m()\u001b[0m\n",
      "\u001b[0;32m----> 1\u001b[0;31m \u001b[0mprint\u001b[0m\u001b[0;34m(\u001b[0m\u001b[0mQ\u001b[0m\u001b[0;34m)\u001b[0m\u001b[0;34m\u001b[0m\u001b[0m\n",
      "\u001b[0m\n",
      "\u001b[0;31mNameError\u001b[0m: name 'Q' is not defined"
     ]
    }
   ],
   "source": [
    "print(Q)"
   ]
  },
  {
   "cell_type": "markdown",
   "id": "4bdac482",
   "metadata": {},
   "source": [
    "یا اگر عملیاتی را امتحان کنید که تعریف نشده است:"
   ]
  },
  {
   "cell_type": "code",
   "execution_count": null,
   "id": "42250996",
   "metadata": {},
   "outputs": [
    {
     "ename": "TypeError",
     "evalue": "unsupported operand type(s) for +: 'int' and 'str'",
     "output_type": "error",
     "traceback": [
      "\u001b[0;31m---------------------------------------------------------------------------\u001b[0m\n",
      "\u001b[0;31mTypeError\u001b[0m                                 Traceback (most recent call last)\n",
      "\u001b[0;32m<ipython-input-4-aab9e8ede4f7>\u001b[0m in \u001b[0;36m<module>\u001b[0;34m()\u001b[0m\n",
      "\u001b[0;32m----> 1\u001b[0;31m \u001b[0;36m1\u001b[0m \u001b[0;34m+\u001b[0m \u001b[0;34m'abc'\u001b[0m\u001b[0;34m\u001b[0m\u001b[0m\n",
      "\u001b[0m\n",
      "\u001b[0;31mTypeError\u001b[0m: unsupported operand type(s) for +: 'int' and 'str'"
     ]
    }
   ],
   "source": [
    "1 + 'abc'"
   ]
  },
  {
   "cell_type": "markdown",
   "id": "169fb0ac",
   "metadata": {},
   "source": [
    "یا ممکن است در حال محاسبه یک نتیجه‌ی mathematically ill-defined (از نظر ریاضی تعریف‌نشده) باشید:"
   ]
  },
  {
   "cell_type": "code",
   "execution_count": null,
   "id": "dfddab85",
   "metadata": {},
   "outputs": [
    {
     "ename": "ZeroDivisionError",
     "evalue": "division by zero",
     "output_type": "error",
     "traceback": [
      "\u001b[0;31m---------------------------------------------------------------------------\u001b[0m\n",
      "\u001b[0;31mZeroDivisionError\u001b[0m                         Traceback (most recent call last)\n",
      "\u001b[0;32m<ipython-input-5-ae0c5d243292>\u001b[0m in \u001b[0;36m<module>\u001b[0;34m()\u001b[0m\n",
      "\u001b[0;32m----> 1\u001b[0;31m \u001b[0;36m2\u001b[0m \u001b[0;34m/\u001b[0m \u001b[0;36m0\u001b[0m\u001b[0;34m\u001b[0m\u001b[0m\n",
      "\u001b[0m\n",
      "\u001b[0;31mZeroDivisionError\u001b[0m: division by zero"
     ]
    }
   ],
   "source": [
    "2 / 0"
   ]
  },
  {
   "cell_type": "markdown",
   "id": "ba4c4abe",
   "metadata": {},
   "source": [
    "یا شاید بخواهید به یک عنصر در دنباله (sequence) دسترسی پیدا کنید که وجود ندارد:"
   ]
  },
  {
   "cell_type": "code",
   "execution_count": null,
   "id": "f473e8b8",
   "metadata": {},
   "outputs": [
    {
     "ename": "IndexError",
     "evalue": "list index out of range",
     "output_type": "error",
     "traceback": [
      "\u001b[0;31m---------------------------------------------------------------------------\u001b[0m\n",
      "\u001b[0;31mIndexError\u001b[0m                                Traceback (most recent call last)\n",
      "\u001b[0;32m<ipython-input-6-06b6eb1b8957>\u001b[0m in \u001b[0;36m<module>\u001b[0;34m()\u001b[0m\n",
      "\u001b[1;32m      1\u001b[0m \u001b[0mL\u001b[0m \u001b[0;34m=\u001b[0m \u001b[0;34m[\u001b[0m\u001b[0;36m1\u001b[0m\u001b[0;34m,\u001b[0m \u001b[0;36m2\u001b[0m\u001b[0;34m,\u001b[0m \u001b[0;36m3\u001b[0m\u001b[0;34m]\u001b[0m\u001b[0;34m\u001b[0m\u001b[0m\n",
      "\u001b[0;32m----> 2\u001b[0;31m \u001b[0mL\u001b[0m\u001b[0;34m[\u001b[0m\u001b[0;36m1000\u001b[0m\u001b[0;34m]\u001b[0m\u001b[0;34m\u001b[0m\u001b[0m\n",
      "\u001b[0m\n",
      "\u001b[0;31mIndexError\u001b[0m: list index out of range"
     ]
    }
   ],
   "source": [
    "L = [1, 2, 3]\n",
    "L[1000]"
   ]
  },
  {
   "cell_type": "markdown",
   "id": "b11efa26",
   "metadata": {},
   "source": [
    "توجه کنید که در هر مورد، پایتون به اندازه‌ای هوشمند است که نه تنها وقوع خطا را نشان می‌دهد، بلکه یک استثنای **معنادار** (meaningful exception) ارائه می‌کند که شامل اطلاعاتی دربارهٔ دقیقاً چه چیزی اشتباه رخ داده است، به همراه شمارهٔ دقیق خطای کد که خطا در آن رخ داده است.  \n",
    "دسترسی به خطاهای معنادار مانند این، هنگام ردیابی ریشه مشکلات در کد شما، فوق‌العاده مفید است."
   ]
  },
  {
   "cell_type": "markdown",
   "id": "0eb058eb",
   "metadata": {},
   "source": [
    "## گرفتن استثناها: ``try`` و ``except``\n",
    "\n",
    "ابزار اصلی که پایتون برای مدیریت استثناهای زمان اجرا در اختیار شما قرار می‌دهد، دستور ``try``...``except`` است.  \n",
    "ساختار پایهٔ آن به این شکل است:"
   ]
  },
  {
   "cell_type": "code",
   "execution_count": null,
   "id": "0f191efe",
   "metadata": {},
   "outputs": [
    {
     "name": "stdout",
     "output_type": "stream",
     "text": [
      "this gets executed first\n"
     ]
    }
   ],
   "source": [
    "try:\n",
    "    print(\"this gets executed first\")\n",
    "except:\n",
    "    print(\"this gets executed only if there is an error\")"
   ]
  },
  {
   "cell_type": "markdown",
   "id": "556789e6",
   "metadata": {},
   "source": [
    "توجه کنید که بلوک دوم در اینجا اجرا نشد: زیرا بلوک اول خطایی بازنگرداند.  \n",
    "بیایید یک دستور مشکل‌دار در بلوک ``try`` قرار دهیم و ببینیم چه اتفاقی می‌افتد:"
   ]
  },
  {
   "cell_type": "code",
   "execution_count": null,
   "id": "5fa1c450",
   "metadata": {},
   "outputs": [
    {
     "name": "stdout",
     "output_type": "stream",
     "text": [
      "let's try something:\n",
      "something bad happened!\n"
     ]
    }
   ],
   "source": [
    "try:\n",
    "    print(\"let's try something:\")\n",
    "    x = 1 / 0 # ZeroDivisionError\n",
    "except:\n",
    "    print(\"something bad happened!\")"
   ]
  },
  {
   "cell_type": "markdown",
   "id": "92357fae",
   "metadata": {},
   "source": [
    "در اینجا مشاهده می‌کنیم که وقتی خطا در عبارت ``try`` ایجاد شد (در این مورد، یک ``ZeroDivisionError``)، خطا گرفته شد و عبارت ``except`` اجرا گردید.\n",
    "\n",
    "یکی از کاربردهای رایج این روش، بررسی ورودی کاربر درون یک تابع یا بخش دیگری از کد است.\n",
    "برای مثال، ممکن است بخواهیم تابعی داشته باشیم که تقسیم بر صفر را گرفته و مقدار دیگری برگرداند، مثلاً یک عدد به اندازه‌ی کافی بزرگ مانند $10^{100}$:"
   ]
  },
  {
   "cell_type": "code",
   "execution_count": null,
   "id": "9b9ae32a",
   "metadata": {},
   "outputs": [],
   "source": [
    "def safe_divide(a, b):\n",
    "    try:\n",
    "        return a / b\n",
    "    except:\n",
    "        return 1E100"
   ]
  },
  {
   "cell_type": "code",
   "execution_count": null,
   "id": "c5f5df68",
   "metadata": {},
   "outputs": [
    {
     "data": {
      "text/plain": [
       "0.5"
      ]
     },
     "metadata": {},
     "output_type": "display_data"
    }
   ],
   "source": [
    "safe_divide(1, 2)"
   ]
  },
  {
   "cell_type": "code",
   "execution_count": null,
   "id": "18b2b2f4",
   "metadata": {},
   "outputs": [
    {
     "data": {
      "text/plain": [
       "1e+100"
      ]
     },
     "metadata": {},
     "output_type": "display_data"
    }
   ],
   "source": [
    "safe_divide(2, 0)"
   ]
  },
  {
   "cell_type": "markdown",
   "id": "a059de8a",
   "metadata": {},
   "source": [
    "با این حال، یک مشکل ظریف در این کد وجود دارد: اگر نوع دیگری از exception رخ دهد چه اتفاقی می‌افتد؟ برای مثال، احتمالاً این چیزی نیست که ما در نظر داشتیم:"
   ]
  },
  {
   "cell_type": "code",
   "execution_count": null,
   "id": "7844b1ea",
   "metadata": {},
   "outputs": [
    {
     "data": {
      "text/plain": [
       "1e+100"
      ]
     },
     "metadata": {},
     "output_type": "display_data"
    }
   ],
   "source": [
    "safe_divide (1, '2')"
   ]
  },
  {
   "cell_type": "markdown",
   "id": "31aa1efc",
   "metadata": {},
   "source": [
    "تقسیم یک عدد صحیح و یک رشته، یک ``TypeError`` ایجاد می‌کند که کد بیش از حد سختگیرانه‌ی ما آن را گرفته و به اشتباه فرض کرده یک ``ZeroDivisionError`` است!\n",
    "\n",
    "به همین دلیل، تقریباً همیشه بهتر است exceptionها را به صورت *explicit* (صریح) بگیریم:"
   ]
  },
  {
   "cell_type": "code",
   "execution_count": null,
   "id": "b02e9913",
   "metadata": {},
   "outputs": [],
   "source": [
    "def safe_divide(a, b):\n",
    "    try:\n",
    "        return a / b\n",
    "    except ZeroDivisionError:\n",
    "        return 1E100"
   ]
  },
  {
   "cell_type": "code",
   "execution_count": null,
   "id": "8486a5fe",
   "metadata": {},
   "outputs": [
    {
     "data": {
      "text/plain": [
       "1e+100"
      ]
     },
     "metadata": {},
     "output_type": "display_data"
    }
   ],
   "source": [
    "safe_divide(1, 0)"
   ]
  },
  {
   "cell_type": "code",
   "execution_count": null,
   "id": "46d7ad40",
   "metadata": {},
   "outputs": [
    {
     "ename": "TypeError",
     "evalue": "unsupported operand type(s) for /: 'int' and 'str'",
     "output_type": "error",
     "traceback": [
      "\u001b[0;31m---------------------------------------------------------------------------\u001b[0m\n",
      "\u001b[0;31mTypeError\u001b[0m                                 Traceback (most recent call last)\n",
      "\u001b[0;32m<ipython-input-15-2331af6a0acf>\u001b[0m in \u001b[0;36m<module>\u001b[0;34m()\u001b[0m\n",
      "\u001b[0;32m----> 1\u001b[0;31m \u001b[0msafe_divide\u001b[0m\u001b[0;34m(\u001b[0m\u001b[0;36m1\u001b[0m\u001b[0;34m,\u001b[0m \u001b[0;34m'2'\u001b[0m\u001b[0;34m)\u001b[0m\u001b[0;34m\u001b[0m\u001b[0m\n",
      "\u001b[0m\n",
      "\u001b[0;32m<ipython-input-13-10b5f0163af8>\u001b[0m in \u001b[0;36msafe_divide\u001b[0;34m(a, b)\u001b[0m\n",
      "\u001b[1;32m      1\u001b[0m \u001b[0;32mdef\u001b[0m \u001b[0msafe_divide\u001b[0m\u001b[0;34m(\u001b[0m\u001b[0ma\u001b[0m\u001b[0;34m,\u001b[0m \u001b[0mb\u001b[0m\u001b[0;34m)\u001b[0m\u001b[0;34m:\u001b[0m\u001b[0;34m\u001b[0m\u001b[0m\n",
      "\u001b[1;32m      2\u001b[0m     \u001b[0;32mtry\u001b[0m\u001b[0;34m:\u001b[0m\u001b[0;34m\u001b[0m\u001b[0m\n",
      "\u001b[0;32m----> 3\u001b[0;31m         \u001b[0;32mreturn\u001b[0m \u001b[0ma\u001b[0m \u001b[0;34m/\u001b[0m \u001b[0mb\u001b[0m\u001b[0;34m\u001b[0m\u001b[0m\n",
      "\u001b[0m\u001b[1;32m      4\u001b[0m     \u001b[0;32mexcept\u001b[0m \u001b[0mZeroDivisionError\u001b[0m\u001b[0;34m:\u001b[0m\u001b[0;34m\u001b[0m\u001b[0m\n",
      "\u001b[1;32m      5\u001b[0m         \u001b[0;32mreturn\u001b[0m \u001b[0;36m1E100\u001b[0m\u001b[0;34m\u001b[0m\u001b[0m\n",
      "\n",
      "\u001b[0;31mTypeError\u001b[0m: unsupported operand type(s) for /: 'int' and 'str'"
     ]
    }
   ],
   "source": [
    "safe_divide(1, '2')"
   ]
  },
  {
   "cell_type": "markdown",
   "id": "f62cd8b0",
   "metadata": {},
   "source": [
    "اکنون فقط خطاهای تقسیم بر صفر را می‌گیریم و به سایر خطاها اجازه می‌دهیم بدون تغییر عبور کنند."
   ]
  },
  {
   "cell_type": "markdown",
   "id": "4e7d0c97",
   "metadata": {},
   "source": [
    "## ایجاد استثناها با ``raise``\n",
    "دیدیم که چقدر داشتن استثناهای informative (اطلاع‌دهنده) هنگام استفاده از بخش‌های مختلف زبان پایتون ارزشمند است.\n",
    "به همان اندازه، استفاده از استثناهای informative در کدی که می‌نویسید نیز ارزشمند است، تا کاربران کد شما (که در درجه اول خود شما هستید!) بتوانند علت خطاهای خود را تشخیص دهند.\n",
    "\n",
    "راه ایجاد استثناهای خودتان استفاده از عبارت ``raise`` است. برای مثال:"
   ]
  },
  {
   "cell_type": "code",
   "execution_count": null,
   "id": "fec889e7",
   "metadata": {},
   "outputs": [
    {
     "ename": "RuntimeError",
     "evalue": "my error message",
     "output_type": "error",
     "traceback": [
      "\u001b[0;31m---------------------------------------------------------------------------\u001b[0m\n",
      "\u001b[0;31mRuntimeError\u001b[0m                              Traceback (most recent call last)\n",
      "\u001b[0;32m<ipython-input-16-c6a4c1ed2f34>\u001b[0m in \u001b[0;36m<module>\u001b[0;34m()\u001b[0m\n",
      "\u001b[0;32m----> 1\u001b[0;31m \u001b[0;32mraise\u001b[0m \u001b[0mRuntimeError\u001b[0m\u001b[0;34m(\u001b[0m\u001b[0;34m\"my error message\"\u001b[0m\u001b[0;34m)\u001b[0m\u001b[0;34m\u001b[0m\u001b[0m\n",
      "\u001b[0m\n",
      "\u001b[0;31mRuntimeError\u001b[0m: my error message"
     ]
    }
   ],
   "source": [
    "raise RuntimeError(\"my error message\")"
   ]
  },
  {
   "cell_type": "markdown",
   "id": "222edd69",
   "metadata": {},
   "source": [
    "به عنوان مثالی از کاربرد این قابلیت، بیایید به تابع ``fibonacci`` که قبلاً تعریف کردیم بازگردیم:"
   ]
  },
  {
   "cell_type": "code",
   "execution_count": null,
   "id": "627b6398",
   "metadata": {},
   "outputs": [],
   "source": [
    "def fibonacci(N):\n",
    "    L = []\n",
    "    a, b = 0, 1\n",
    "    while len(L) < N:\n",
    "        a, b = b, a + b\n",
    "        L.append(a)\n",
    "    return L"
   ]
  },
  {
   "cell_type": "markdown",
   "id": "44ce7ba3",
   "metadata": {},
   "source": [
    "یک مشکل احتمالی اینجا این است که مقدار ورودی می‌تواند منفی باشد.\n",
    "این در حال حاضر باعث بروز هیچ خطایی در تابع ما نمی‌شود، اما ممکن است بخواهیم به کاربر اطلاع دهیم که مقدار منفی برای ``N`` پشتیبانی نمی‌شود.\n",
    "طبق قرارداد، خطاهای ناشی از مقادیر پارامتر نامعتبر، منجر به ایجاد یک ``ValueError`` می‌شوند:"
   ]
  },
  {
   "cell_type": "code",
   "execution_count": null,
   "id": "972bc43c",
   "metadata": {},
   "outputs": [],
   "source": [
    "def fibonacci(N):\n",
    "    if N < 0:\n",
    "        raise ValueError(\"N must be non-negative\")\n",
    "    L = []\n",
    "    a, b = 0, 1\n",
    "    while len(L) < N:\n",
    "        a, b = b, a + b\n",
    "        L.append(a)\n",
    "    return L"
   ]
  },
  {
   "cell_type": "code",
   "execution_count": null,
   "id": "fe477e4c",
   "metadata": {},
   "outputs": [
    {
     "data": {
      "text/plain": [
       "[1, 1, 2, 3, 5, 8, 13, 21, 34, 55]"
      ]
     },
     "metadata": {},
     "output_type": "display_data"
    }
   ],
   "source": [
    "fibonacci(10)"
   ]
  },
  {
   "cell_type": "code",
   "execution_count": null,
   "id": "55e4292c",
   "metadata": {},
   "outputs": [
    {
     "ename": "ValueError",
     "evalue": "N must be non-negative",
     "output_type": "error",
     "traceback": [
      "\u001b[0;31m---------------------------------------------------------------------------\u001b[0m\n",
      "\u001b[0;31mValueError\u001b[0m                                Traceback (most recent call last)\n",
      "\u001b[0;32m<ipython-input-20-3d291499cfa7>\u001b[0m in \u001b[0;36m<module>\u001b[0;34m()\u001b[0m\n",
      "\u001b[0;32m----> 1\u001b[0;31m \u001b[0mfibonacci\u001b[0m\u001b[0;34m(\u001b[0m\u001b[0;34m-\u001b[0m\u001b[0;36m10\u001b[0m\u001b[0;34m)\u001b[0m\u001b[0;34m\u001b[0m\u001b[0m\n",
      "\u001b[0m\n",
      "\u001b[0;32m<ipython-input-18-01d0cf168d63>\u001b[0m in \u001b[0;36mfibonacci\u001b[0;34m(N)\u001b[0m\n",
      "\u001b[1;32m      1\u001b[0m \u001b[0;32mdef\u001b[0m \u001b[0mfibonacci\u001b[0m\u001b[0;34m(\u001b[0m\u001b[0mN\u001b[0m\u001b[0;34m)\u001b[0m\u001b[0;34m:\u001b[0m\u001b[0;34m\u001b[0m\u001b[0m\n",
      "\u001b[1;32m      2\u001b[0m     \u001b[0;32mif\u001b[0m \u001b[0mN\u001b[0m \u001b[0;34m<\u001b[0m \u001b[0;36m0\u001b[0m\u001b[0;34m:\u001b[0m\u001b[0;34m\u001b[0m\u001b[0m\n",
      "\u001b[0;32m----> 3\u001b[0;31m         \u001b[0;32mraise\u001b[0m \u001b[0mValueError\u001b[0m\u001b[0;34m(\u001b[0m\u001b[0;34m\"N must be non-negative\"\u001b[0m\u001b[0;34m)\u001b[0m\u001b[0;34m\u001b[0m\u001b[0m\n",
      "\u001b[0m\u001b[1;32m      4\u001b[0m     \u001b[0mL\u001b[0m \u001b[0;34m=\u001b[0m \u001b[0;34m[\u001b[0m\u001b[0;34m]\u001b[0m\u001b[0;34m\u001b[0m\u001b[0m\n",
      "\u001b[1;32m      5\u001b[0m     \u001b[0ma\u001b[0m\u001b[0;34m,\u001b[0m \u001b[0mb\u001b[0m \u001b[0;34m=\u001b[0m \u001b[0;36m0\u001b[0m\u001b[0;34m,\u001b[0m \u001b[0;36m1\u001b[0m\u001b[0;34m\u001b[0m\u001b[0m\n",
      "\n",
      "\u001b[0;31mValueError\u001b[0m: N must be non-negative"
     ]
    }
   ],
   "source": [
    "fibonacci(-10)"
   ]
  },
  {
   "cell_type": "markdown",
   "id": "11a74aa5",
   "metadata": {},
   "source": [
    "aاکنون کاربر دقیقاً می‌داند چرا ورودی نامعتبر است و حتی می‌تواند از بلوک ``try``...``except`` برای مدیریت آن استفاده کند!"
   ]
  },
  {
   "cell_type": "code",
   "execution_count": null,
   "id": "7b7d3ff9",
   "metadata": {},
   "outputs": [
    {
     "name": "stdout",
     "output_type": "stream",
     "text": [
      "trying this...\n",
      "Bad value: need to do something else\n"
     ]
    }
   ],
   "source": [
    "N = -10\n",
    "try:\n",
    "    print(\"trying this...\")\n",
    "    print(fibonacci(N))\n",
    "except ValueError:\n",
    "    print(\"Bad value: need to do something else\")"
   ]
  },
  {
   "cell_type": "markdown",
   "id": "15d593ae",
   "metadata": {},
   "source": [
    "## بررسی عمیق‌تر Exceptions\n",
    "\n",
    "به طور خلاصه، در اینجا می‌خواهم به چند مفهوم دیگر که ممکن است با آنها مواجه شوید اشاره کنم.\n",
    "قصد ندارم در مورد جزئیات این مفاهیم و چگونگی و دلایل استفاده از آنها توضیح مفصلی بدهم، بلکه فقط syntax را به شما نشان می‌دهم تا بتوانید به طور مستقل بیشتر کاوش کنید."
   ]
  },
  {
   "cell_type": "markdown",
   "id": "e93c3c21",
   "metadata": {},
   "source": [
    "### دسترسی به پیغام خطا\n",
    "\n",
    "گاهی اوقات در عبارت ``try``...``except``، ممکن است بخواهید با خود پیغام خطا کار کنید.\n",
    "این کار با استفاده از کلیدواژه‌ی ``as`` امکان‌پذیر است:"
   ]
  },
  {
   "cell_type": "code",
   "execution_count": null,
   "id": "7de31dfa",
   "metadata": {},
   "outputs": [
    {
     "name": "stdout",
     "output_type": "stream",
     "text": [
      "Error class is:   <class 'ZeroDivisionError'>\n",
      "Error message is: division by zero\n"
     ]
    }
   ],
   "source": [
    "try:\n",
    "    x = 1 / 0\n",
    "except ZeroDivisionError as err:\n",
    "    print(\"Error class is:  \", type(err))\n",
    "    print(\"Error message is:\", err)"
   ]
  },
  {
   "cell_type": "markdown",
   "id": "315a7f0b",
   "metadata": {},
   "source": [
    "با این الگو، می‌توانید مدیریت exception در تابع خود را بیشتر سفارشی کنید."
   ]
  },
  {
   "cell_type": "markdown",
   "id": "a1ed1e1e",
   "metadata": {},
   "source": [
    "### تعریف exception های سفارشی\n",
    "\n",
    "علاوه بر exception های داخلی، می‌توان از طریق *class inheritance* (ارث‌بری کلاس) exception های سفارشی تعریف کرد.\n",
    "\n",
    "برای مثال، اگر به یک نوع خاص از ``ValueError`` نیاز دارید، می‌توانید این کار را انجام دهید:"
   ]
  },
  {
   "cell_type": "code",
   "execution_count": null,
   "id": "3d93ce9b",
   "metadata": {},
   "outputs": [
    {
     "ename": "MySpecialError",
     "evalue": "here's the message",
     "output_type": "error",
     "traceback": [
      "\u001b[0;31m---------------------------------------------------------------------------\u001b[0m\n",
      "\u001b[0;31mMySpecialError\u001b[0m                            Traceback (most recent call last)\n",
      "\u001b[0;32m<ipython-input-23-92c36e04a9d0>\u001b[0m in \u001b[0;36m<module>\u001b[0;34m()\u001b[0m\n",
      "\u001b[1;32m      2\u001b[0m     \u001b[0;32mpass\u001b[0m\u001b[0;34m\u001b[0m\u001b[0m\n",
      "\u001b[1;32m      3\u001b[0m \u001b[0;34m\u001b[0m\u001b[0m\n",
      "\u001b[0;32m----> 4\u001b[0;31m \u001b[0;32mraise\u001b[0m \u001b[0mMySpecialError\u001b[0m\u001b[0;34m(\u001b[0m\u001b[0;34m\"here's the message\"\u001b[0m\u001b[0;34m)\u001b[0m\u001b[0;34m\u001b[0m\u001b[0m\n",
      "\u001b[0m\n",
      "\u001b[0;31mMySpecialError\u001b[0m: here's the message"
     ]
    }
   ],
   "source": [
    "class MySpecialError(ValueError):\n",
    "    pass\n",
    "\n",
    "raise MySpecialError(\"here's the message\")"
   ]
  },
  {
   "cell_type": "markdown",
   "id": "469e596a",
   "metadata": {},
   "source": [
    "این امکان را به شما می‌دهد که از یک بلوک ``try``...``except`` استفاده کنید که فقط این نوع خطا را می‌گیرد:"
   ]
  },
  {
   "cell_type": "code",
   "execution_count": null,
   "id": "c9a9f9b5",
   "metadata": {},
   "outputs": [
    {
     "name": "stdout",
     "output_type": "stream",
     "text": [
      "do something\n",
      "do something else\n"
     ]
    }
   ],
   "source": [
    "try:\n",
    "    print(\"do something\")\n",
    "    raise MySpecialError(\"[informative error message here]\")\n",
    "except MySpecialError:\n",
    "    print(\"do something else\")"
   ]
  },
  {
   "cell_type": "markdown",
   "id": "e75ef421",
   "metadata": {},
   "source": [
    "ممکن است این ویژگی در حین توسعه کدهای سفارشی‌تر برای شما مفید باشد."
   ]
  },
  {
   "cell_type": "markdown",
   "id": "4842d517",
   "metadata": {},
   "source": [
    "## ``try``...``except``...``else``...``finally``\n",
    "\n",
    "علاوه بر ``try`` و ``except``، می‌توانید از کلیدواژه‌های ``else`` و ``finally`` برای تنظیم دقیق‌تر مدیریت استثناها در کد خود استفاده کنید.\n",
    "ساختار پایه به این شکل است:"
   ]
  },
  {
   "cell_type": "code",
   "execution_count": null,
   "id": "dde8e2df",
   "metadata": {},
   "outputs": [
    {
     "name": "stdout",
     "output_type": "stream",
     "text": [
      "try something here\n",
      "this happens only if it succeeds\n",
      "this happens no matter what\n"
     ]
    }
   ],
   "source": [
    "try:\n",
    "    print(\"try something here\")\n",
    "except:\n",
    "    print(\"this happens only if it fails\")\n",
    "else:\n",
    "    print(\"this happens only if it succeeds\")\n",
    "finally:\n",
    "    print(\"this happens no matter what\")"
   ]
  },
  {
   "cell_type": "markdown",
   "id": "20e7d72d",
   "metadata": {},
   "source": [
    "کاربرد ``else`` در اینجا واضح است، اما هدف از ``finally`` چیست؟\n",
    "در واقع، بند ``finally`` *under any circumstances* (در هر شرایطی) اجرا می‌شود: معمولاً از آن برای انجام برخی عملیات نظافتی پس از اتمام یک عملیات استفاده می‌شود."
   ]
  }
 ],
 "metadata": {
  "language_info": {
   "name": "python"
  }
 },
 "nbformat": 4,
 "nbformat_minor": 5
}
