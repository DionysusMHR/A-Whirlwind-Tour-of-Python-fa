{
 "cells": [
  {
   "cell_type": "markdown",
   "id": "b8c4ba1d",
   "metadata": {},
   "source": [
    "# کار با رشته‌ها و عبارات باقاعده"
   ]
  },
  {
   "cell_type": "markdown",
   "id": "cdd3e506",
   "metadata": {},
   "source": [
    "یکی از حوزه‌هایی که پایتون واقعاً در آن می‌درخشد، کار با رشته‌ها است.  \n",
    "این بخش به برخی از متدهای داخلی پایتون برای رشته‌ها و عملیات قالب‌بندی می‌پردازد و سپس راهنمایی سریع در مورد مبحث بسیار مفید *عبارات باقاعده* ارائه می‌دهد.  \n",
    "این الگوهای کار با رشته‌ها اغلب در زمینه علم داده کاربرد دارند و یکی از مزیت‌های بزرگ پایتون در این حوزه محسوب می‌شوند.\n",
    "\n",
    "رشته‌ها در پایتون را می‌توان با استفاده از نقل‌قول‌های تکی یا دوتایی تعریف کرد (از نظر عملکردی معادل هستند):"
   ]
  },
  {
   "cell_type": "code",
   "execution_count": null,
   "id": "ca757a7e",
   "metadata": {},
   "outputs": [
    {
     "data": {
      "text/plain": [
       "True"
      ]
     },
     "metadata": {},
     "output_type": "display_data"
    }
   ],
   "source": [
    "x = 'a string'\n",
    "y = \"a string\"\n",
    "x == y"
   ]
  },
  {
   "cell_type": "markdown",
   "id": "f848ae01",
   "metadata": {},
   "source": [
    "علاوه بر این، امکان تعریف رشته‌های چندخطی با استفاده از سینتکس سه‌قلوتی وجود دارد:"
   ]
  },
  {
   "cell_type": "code",
   "execution_count": null,
   "id": "feb7b8c4",
   "metadata": {},
   "outputs": [],
   "source": [
    "multiline = \"\"\"\n",
    "one\n",
    "two\n",
    "three\n",
    "\"\"\""
   ]
  },
  {
   "cell_type": "markdown",
   "id": "d26442dd",
   "metadata": {},
   "source": [
    "با این مقدمه، اجازه دهید نگاهی سریع به برخی از ابزارهای manipulate رشته‌ها در پایتون بیندازیم."
   ]
  },
  {
   "cell_type": "markdown",
   "id": "9ffc2e2d",
   "metadata": {},
   "source": [
    "## کاربرد ساده رشته‌ها در پایتون\n",
    "\n",
    "برای دستکاری پایه رشته‌ها، متدهای داخلی رشته‌های پایتون می‌توانند بسیار کاربردی باشند. اگر پیشینه کار با C یا زبان‌های سطح پایین دیگر را دارید، به احتمال زیاد سادگی متدهای پایتون را بسیار دلنشین خواهید یافت. ما پیش‌تر نوع داده رشته و برخی از این متدها را معرفی کردیم؛ در اینجا کمی عمیق‌تر به آنها می‌پردازیم."
   ]
  },
  {
   "cell_type": "markdown",
   "id": "5e36b192",
   "metadata": {},
   "source": [
    "### قالب‌بندی رشته‌ها: تنظیم حروف\n",
    "\n",
    "پایتون تنظیم حالت حروف یک رشته را بسیار آسان کرده است. در اینجا به متدهای ``upper()``، ``lower()``، ``capitalize()``، ``title()`` و ``swapcase()`` نگاهی می‌اندازیم و از رشته زیر به عنوان مثال استفاده می‌کنیم:"
   ]
  },
  {
   "cell_type": "code",
   "execution_count": null,
   "id": "07f29af4",
   "metadata": {},
   "outputs": [],
   "source": [
    "fox = \"tHe qUICk bROWn fOx.\""
   ]
  },
  {
   "cell_type": "markdown",
   "id": "7c01f92c",
   "metadata": {},
   "source": [
    "برای تبدیل کل رشته به حروف بزرگ یا کوچک، به ترتیب می‌توانید از متدهای ``upper()`` یا ``lower()`` استفاده کنید:"
   ]
  },
  {
   "cell_type": "code",
   "execution_count": null,
   "id": "08ddee32",
   "metadata": {},
   "outputs": [
    {
     "data": {
      "text/plain": [
       "'THE QUICK BROWN FOX.'"
      ]
     },
     "metadata": {},
     "output_type": "display_data"
    }
   ],
   "source": [
    "fox.upper()"
   ]
  },
  {
   "cell_type": "code",
   "execution_count": null,
   "id": "14fa21a4",
   "metadata": {},
   "outputs": [
    {
     "data": {
      "text/plain": [
       "'the quick brown fox.'"
      ]
     },
     "metadata": {},
     "output_type": "display_data"
    }
   ],
   "source": [
    "fox.lower()"
   ]
  },
  {
   "cell_type": "markdown",
   "id": "bd8511d4",
   "metadata": {},
   "source": [
    "یک نیاز رایج در قالب‌بندی، بزرگ کردن فقط حرف اول هر کلمه یا احتمالاً حرف اول هر جمله است. این کار را می‌توان با متدهای ``title()`` و ``capitalize()`` انجام داد:"
   ]
  },
  {
   "cell_type": "code",
   "execution_count": null,
   "id": "f68a3afb",
   "metadata": {},
   "outputs": [
    {
     "data": {
      "text/plain": [
       "'The Quick Brown Fox.'"
      ]
     },
     "metadata": {},
     "output_type": "display_data"
    }
   ],
   "source": [
    "fox.title()"
   ]
  },
  {
   "cell_type": "code",
   "execution_count": null,
   "id": "900858df",
   "metadata": {},
   "outputs": [
    {
     "data": {
      "text/plain": [
       "'The quick brown fox.'"
      ]
     },
     "metadata": {},
     "output_type": "display_data"
    }
   ],
   "source": [
    "fox.capitalize()"
   ]
  },
  {
   "cell_type": "markdown",
   "id": "00a7195d",
   "metadata": {},
   "source": [
    "می‌توان حالات حروف را با استفاده از متد ``swapcase()`` معکوس کرد:"
   ]
  },
  {
   "cell_type": "code",
   "execution_count": null,
   "id": "fd81c0cd",
   "metadata": {},
   "outputs": [
    {
     "data": {
      "text/plain": [
       "'ThE QuicK BrowN FoX.'"
      ]
     },
     "metadata": {},
     "output_type": "display_data"
    }
   ],
   "source": [
    "fox.swapcase()"
   ]
  },
  {
   "cell_type": "markdown",
   "id": "be239ef9",
   "metadata": {},
   "source": [
    "### قالب‌بندی رشته‌ها: افزودن و حذف فاصله‌ها\n",
    "\n",
    "نیاز رایج دیگر، حذف فاصله‌ها (یا کاراکترهای دیگر) از ابتدا یا انتهای رشته است.  \n",
    "روش اصلی حذف کاراکترها، متد ``strip()`` است که فاصله‌های سفید را از ابتدا و انتهای خط حذف می‌کند:"
   ]
  },
  {
   "cell_type": "code",
   "execution_count": null,
   "id": "2fae133e",
   "metadata": {},
   "outputs": [
    {
     "data": {
      "text/plain": [
       "'this is the content'"
      ]
     },
     "metadata": {},
     "output_type": "display_data"
    }
   ],
   "source": [
    "line = '         this is the content         '\n",
    "line.strip()"
   ]
  },
  {
   "cell_type": "markdown",
   "id": "5fd690f2",
   "metadata": {},
   "source": [
    "برای حذف فاصله فقط از سمت راست یا چپ، به ترتیب از ``rstrip()`` یا ``lstrip()`` استفاده کنید:"
   ]
  },
  {
   "cell_type": "code",
   "execution_count": null,
   "id": "c4b7d34a",
   "metadata": {},
   "outputs": [
    {
     "data": {
      "text/plain": [
       "'         this is the content'"
      ]
     },
     "metadata": {},
     "output_type": "display_data"
    }
   ],
   "source": [
    "line.rstrip()"
   ]
  },
  {
   "cell_type": "code",
   "execution_count": null,
   "id": "756ccfe7",
   "metadata": {},
   "outputs": [
    {
     "data": {
      "text/plain": [
       "'this is the content         '"
      ]
     },
     "metadata": {},
     "output_type": "display_data"
    }
   ],
   "source": [
    "line.lstrip()"
   ]
  },
  {
   "cell_type": "markdown",
   "id": "68b83374",
   "metadata": {},
   "source": [
    "برای حذف کاراکترهای غیر از فاصله، می‌توانید کاراکتر مورد نظر را به متد ``strip()`` ارسال کنید:"
   ]
  },
  {
   "cell_type": "code",
   "execution_count": null,
   "id": "0b5dc018",
   "metadata": {},
   "outputs": [
    {
     "data": {
      "text/plain": [
       "'435'"
      ]
     },
     "metadata": {},
     "output_type": "display_data"
    }
   ],
   "source": [
    "num = \"000000000000435\"\n",
    "num.strip('0')"
   ]
  },
  {
   "cell_type": "markdown",
   "id": "fabab7f7",
   "metadata": {},
   "source": [
    "عملکرد معکوس این عملیات، یعنی افزودن فاصله یا کاراکترهای دیگر، با استفاده از متدهای \n",
    "`center()`\n",
    "، \n",
    "`ljust()`\n",
    " و \n",
    "`rjust()`\n",
    " قابل انجام است.\n",
    "\n",
    "برای مثال، میتوانیم از متد \n",
    "`center()`\n",
    " استفاده کنیم تا یک رشته را در میان تعداد مشخصی فاصله، وسط‌چین کنیم:"
   ]
  },
  {
   "cell_type": "code",
   "execution_count": null,
   "id": "c27d13ac",
   "metadata": {},
   "outputs": [
    {
     "data": {
      "text/plain": [
       "'     this is the content      '"
      ]
     },
     "metadata": {},
     "output_type": "display_data"
    }
   ],
   "source": [
    "line = \"this is the content\"\n",
    "line.center(30)"
   ]
  },
  {
   "cell_type": "markdown",
   "id": "05e78873",
   "metadata": {},
   "source": [
    "به طور مشابه، متدهای \n",
    "`ljust()`\n",
    " و \n",
    "`rjust()`\n",
    " رشته را به ترتیب در سمت چپ یا راست فضاهای با طول مشخص، تراز می‌کنند:"
   ]
  },
  {
   "cell_type": "code",
   "execution_count": null,
   "id": "a56eeba7",
   "metadata": {},
   "outputs": [
    {
     "data": {
      "text/plain": [
       "'this is the content           '"
      ]
     },
     "metadata": {},
     "output_type": "display_data"
    }
   ],
   "source": [
    "line.ljust(30)"
   ]
  },
  {
   "cell_type": "code",
   "execution_count": null,
   "id": "cb8ce41e",
   "metadata": {},
   "outputs": [
    {
     "data": {
      "text/plain": [
       "'           this is the content'"
      ]
     },
     "metadata": {},
     "output_type": "display_data"
    }
   ],
   "source": [
    "line.rjust(30)"
   ]
  },
  {
   "cell_type": "markdown",
   "id": "ae40fe1e",
   "metadata": {},
   "source": [
    "همه این متدها علاوه بر این، هر کاراکتر دیگری را نیز به عنوان پرکننده فضا می‌پذیرند.  \n",
    "برای مثال:"
   ]
  },
  {
   "cell_type": "code",
   "execution_count": null,
   "id": "f6d8c3b5",
   "metadata": {},
   "outputs": [
    {
     "data": {
      "text/plain": [
       "'0000000435'"
      ]
     },
     "metadata": {},
     "output_type": "display_data"
    }
   ],
   "source": [
    "'435'.rjust(10, '0')"
   ]
  },
  {
   "cell_type": "markdown",
   "id": "4dd3c2e8",
   "metadata": {},
   "source": [
    "با توجه به اینکه پر کردن با صفر نیاز رایجی است، پایتون متد \n",
    "`zfill()`\n",
    " را نیز ارائه می‌دهد که یک متد ویژه برای افزودن صفر به سمت چپ رشته است:"
   ]
  },
  {
   "cell_type": "code",
   "execution_count": null,
   "id": "7d84a48c",
   "metadata": {},
   "outputs": [
    {
     "data": {
      "text/plain": [
       "'0000000435'"
      ]
     },
     "metadata": {},
     "output_type": "display_data"
    }
   ],
   "source": [
    "'435'.zfill(10)"
   ]
  },
  {
   "cell_type": "markdown",
   "id": "bb4fafab",
   "metadata": {},
   "source": [
    "### یافتن و جایگزینی زیررشته‌ها\n",
    "\n",
    "اگر می‌خواهید رخدادهای یک کاراکتر خاص را در یک رشته پیدا کنید، متدهای \n",
    "`find()`\n",
    "/\n",
    "`rfind()`\n",
    "، \n",
    "`index()`\n",
    "/\n",
    "`rindex()`\n",
    " و \n",
    "`replace()`\n",
    " بهترین متدهای داخلی برای این کار هستند.\n",
    "\n",
    "`find()`\n",
    " و \n",
    "`index()`\n",
    " بسیار شبیه به هم هستند؛ هر دو برای جستجوی اولین رخداد یک کاراکتر یا زیررشته درون رشته استفاده می‌شوند و اندیس آن زیررشته را برمی‌گردانند:"
   ]
  },
  {
   "cell_type": "code",
   "execution_count": null,
   "id": "a95cb6d3",
   "metadata": {},
   "outputs": [
    {
     "data": {
      "text/plain": [
       "16"
      ]
     },
     "metadata": {},
     "output_type": "display_data"
    }
   ],
   "source": [
    "line = 'the quick brown fox jumped over a lazy dog'\n",
    "line.find('fox')"
   ]
  },
  {
   "cell_type": "code",
   "execution_count": null,
   "id": "153a1304",
   "metadata": {},
   "outputs": [
    {
     "data": {
      "text/plain": [
       "16"
      ]
     },
     "metadata": {},
     "output_type": "display_data"
    }
   ],
   "source": [
    "line.index('fox')"
   ]
  },
  {
   "cell_type": "markdown",
   "id": "6ee3e39a",
   "metadata": {},
   "source": [
    "تنها تفاوت بین \n",
    "`find()`\n",
    " و \n",
    "`index()`\n",
    " در رفتار آن‌ها زمانی است که رشته جستجو پیدا نشود؛ \n",
    "`find()`\n",
    " مقدار \n",
    "`1-`\n",
    " را برمی‌گرداند، در حالی که \n",
    "`index()`\n",
    " یک خطای \n",
    "`ValueError`\n",
    " ایجاد می‌کند:"
   ]
  },
  {
   "cell_type": "code",
   "execution_count": null,
   "id": "c77788f8",
   "metadata": {},
   "outputs": [
    {
     "data": {
      "text/plain": [
       "-1"
      ]
     },
     "metadata": {},
     "output_type": "display_data"
    }
   ],
   "source": [
    "line.find('bear')"
   ]
  },
  {
   "cell_type": "code",
   "execution_count": null,
   "id": "6a259a14",
   "metadata": {},
   "outputs": [
    {
     "ename": "ValueError",
     "evalue": "substring not found",
     "output_type": "error",
     "traceback": [
      "\u001b[0;31m---------------------------------------------------------------------------\u001b[0m\n",
      "\u001b[0;31mValueError\u001b[0m                                Traceback (most recent call last)\n",
      "\u001b[0;32m<ipython-input-21-4cbe6ee9b0eb>\u001b[0m in \u001b[0;36m<module>\u001b[0;34m()\u001b[0m\n",
      "\u001b[0;32m----> 1\u001b[0;31m \u001b[0mline\u001b[0m\u001b[0;34m.\u001b[0m\u001b[0mindex\u001b[0m\u001b[0;34m(\u001b[0m\u001b[0;34m'bear'\u001b[0m\u001b[0;34m)\u001b[0m\u001b[0;34m\u001b[0m\u001b[0m\n",
      "\u001b[0m\n",
      "\u001b[0;31mValueError\u001b[0m: substring not found"
     ]
    }
   ],
   "source": [
    "line.index('bear')"
   ]
  },
  {
   "cell_type": "markdown",
   "id": "5938a5f4",
   "metadata": {},
   "source": [
    "متدهای مرتبط \n",
    "`rfind()`\n",
    " و \n",
    "`rindex()`\n",
    " به طور مشابه عمل می‌کنند، با این تفاوت که آن‌ها اولین occurrence (رخداد) را از انتهای رشته به جای ابتدای آن جستجو می‌کنند:"
   ]
  },
  {
   "cell_type": "code",
   "execution_count": null,
   "id": "bb68e1ac",
   "metadata": {},
   "outputs": [
    {
     "data": {
      "text/plain": [
       "35"
      ]
     },
     "metadata": {},
     "output_type": "display_data"
    }
   ],
   "source": [
    "line.rfind('a')"
   ]
  },
  {
   "cell_type": "markdown",
   "id": "81a947d2",
   "metadata": {},
   "source": [
    "برای بررسی وجود یک زیررشته در ابتدا یا انتهای رشته، پایتون متدهای \n",
    "`startswith()`\n",
    " و \n",
    "`endswith()`\n",
    " را ارائه می‌دهد:"
   ]
  },
  {
   "cell_type": "code",
   "execution_count": null,
   "id": "41a17bc5",
   "metadata": {},
   "outputs": [
    {
     "data": {
      "text/plain": [
       "True"
      ]
     },
     "metadata": {},
     "output_type": "display_data"
    }
   ],
   "source": [
    "line.endswith('dog')"
   ]
  },
  {
   "cell_type": "code",
   "execution_count": null,
   "id": "fe53804c",
   "metadata": {},
   "outputs": [
    {
     "data": {
      "text/plain": [
       "False"
      ]
     },
     "metadata": {},
     "output_type": "display_data"
    }
   ],
   "source": [
    "line.startswith('fox')"
   ]
  },
  {
   "cell_type": "markdown",
   "id": "7756cede",
   "metadata": {},
   "source": [
    "برای جایگزینی یک زیررشته با رشته‌ی جدید، می‌توانید از متد \n",
    "`replace()`\n",
    " استفاده کنید.  \n",
    "در این مثال، بیایید \n",
    "`'brown'`\n",
    " را با \n",
    "`'red'`\n",
    " جایگزین کنیم:"
   ]
  },
  {
   "cell_type": "code",
   "execution_count": null,
   "id": "cb4583cc",
   "metadata": {},
   "outputs": [
    {
     "data": {
      "text/plain": [
       "'the quick red fox jumped over a lazy dog'"
      ]
     },
     "metadata": {},
     "output_type": "display_data"
    }
   ],
   "source": [
    "line.replace('brown', 'red')"
   ]
  },
  {
   "cell_type": "markdown",
   "id": "d8f02f0b",
   "metadata": {},
   "source": [
    "متد \n",
    "`replace()`\n",
    " یک رشته جدید برمی‌گرداند و تمامی occurrenceها (رخدادهای) ورودی را جایگزین می‌کند:"
   ]
  },
  {
   "cell_type": "code",
   "execution_count": null,
   "id": "03c4f048",
   "metadata": {},
   "outputs": [
    {
     "data": {
      "text/plain": [
       "'the quick br--wn f--x jumped --ver a lazy d--g'"
      ]
     },
     "metadata": {},
     "output_type": "display_data"
    }
   ],
   "source": [
    "line.replace('o', '--')"
   ]
  },
  {
   "cell_type": "markdown",
   "id": "947bf2a2",
   "metadata": {},
   "source": [
    "برای دستیابی به یک رویکرد انعطاف‌پذیرتر نسبت به این قابلیت \n",
    "`replace()`\n",
    "، به بخش بحث در مورد عبارات باقاعده در [همسان‌سازی الگوهای انعطاف‌پذیر با عبارات باقاعده](#Flexible-Pattern-Matching-with-Regular-Expressions) مراجعه کنید."
   ]
  },
  {
   "cell_type": "markdown",
   "id": "41f53597",
   "metadata": {},
   "source": [
    "### تقسیم‌بندی و جدا کردن رشته‌ها\n",
    "\n",
    "اگر می‌خواهید یک زیررشته را پیدا کنید و *سپس* رشته را بر اساس موقعیت آن تقسیم کنید، متدهای \n",
    "`partition()`\n",
    " و/یا \n",
    "`split()`\n",
    " همان چیزی هستند که به دنبال آن هستید.  \n",
    "هر دو دنباله‌ای از زیررشته‌ها را بازمی‌گردانند.\n",
    "\n",
    "متد \n",
    "`partition()`\n",
    " یک تاپل سه‌عنصری بازمی‌گرداند: زیررشته قبل از اولین occurrence نقطه تقسیم، خود نقطه تقسیم، و زیررشته بعد از آن:"
   ]
  },
  {
   "cell_type": "code",
   "execution_count": null,
   "id": "4227afe4",
   "metadata": {},
   "outputs": [
    {
     "data": {
      "text/plain": [
       "('the quick brown ', 'fox', ' jumped over a lazy dog')"
      ]
     },
     "metadata": {},
     "output_type": "display_data"
    }
   ],
   "source": [
    "line.partition('fox')"
   ]
  },
  {
   "cell_type": "markdown",
   "id": "8bf8cfb8",
   "metadata": {},
   "source": [
    "متد \n",
    "`rpartition()`\n",
    " مشابه است، اما از سمت راست رشته جستجو می‌کند.\n",
    "\n",
    "متد \n",
    "`split()`\n",
    " احتمالاً کاربردی‌تر است؛ این متد *همه* occurrenceهای نقطه تقسیم را پیدا کرده و زیررشته‌های بین آن‌ها را برمی‌گرداند.\n",
    "پیش‌فرض آن تقسیم بر اساس هر گونه فضای خالی (whitespace) است که لیستی از کلمات جداگانه در یک رشته را بازمی‌گرداند:"
   ]
  },
  {
   "cell_type": "code",
   "execution_count": null,
   "id": "71615310",
   "metadata": {},
   "outputs": [
    {
     "data": {
      "text/plain": [
       "['the', 'quick', 'brown', 'fox', 'jumped', 'over', 'a', 'lazy', 'dog']"
      ]
     },
     "metadata": {},
     "output_type": "display_data"
    }
   ],
   "source": [
    "line.split()"
   ]
  },
  {
   "cell_type": "markdown",
   "id": "70c885e1",
   "metadata": {},
   "source": [
    "متد مرتبط دیگر \n",
    "`splitlines()`\n",
    " است که بر اساس کاراکترهای newline (نویسه‌های جدید خط) تقسیم‌بندی می‌کند.  \n",
    "بیایید این کار را با یک هایکو انجام دهیم که عموماً به ماتسوئو باشو، شاعر سده هفدهم نسبت داده می‌شود:"
   ]
  },
  {
   "cell_type": "code",
   "execution_count": null,
   "id": "adce7fcf",
   "metadata": {},
   "outputs": [
    {
     "data": {
      "text/plain": [
       "['matsushima-ya', 'aah matsushima-ya', 'matsushima-ya']"
      ]
     },
     "metadata": {},
     "output_type": "display_data"
    }
   ],
   "source": [
    "haiku = \"\"\"matsushima-ya\n",
    "aah matsushima-ya\n",
    "matsushima-ya\"\"\"\n",
    "\n",
    "haiku.splitlines()"
   ]
  },
  {
   "cell_type": "markdown",
   "id": "e2ebb2a0",
   "metadata": {},
   "source": [
    "توجه داشته باشید که اگر بخواهید عمل \n",
    "`split()`\n",
    " را لغو کنید، می‌توانید از متد \n",
    "`join()`\n",
    " استفاده کنید که یک رشته را از یک نقطه اتصال و یک شیء قابل پیمایش (iterable) می‌سازد:"
   ]
  },
  {
   "cell_type": "code",
   "execution_count": null,
   "id": "4c506252",
   "metadata": {},
   "outputs": [
    {
     "data": {
      "text/plain": [
       "'1--2--3'"
      ]
     },
     "metadata": {},
     "output_type": "display_data"
    }
   ],
   "source": [
    "'--'.join(['1', '2', '3'])"
   ]
  },
  {
   "cell_type": "markdown",
   "id": "6b24e2cd",
   "metadata": {},
   "source": [
    "یک الگوی رایج، استفاده از کاراکتر ویژه \n",
    "`\"\\n\"`\n",
    " (نویسه جدید خط) برای پیوند دادن خطوطی است که قبلاً تقسیم شده‌اند و بازیابی ورودی اصلی است:"
   ]
  },
  {
   "cell_type": "code",
   "execution_count": null,
   "id": "1e25b73d",
   "metadata": {},
   "outputs": [
    {
     "name": "stdout",
     "output_type": "stream",
     "text": [
      "matsushima-ya\n",
      "aah matsushima-ya\n",
      "matsushima-ya\n"
     ]
    }
   ],
   "source": [
    "print(\"\\n\".join(['matsushima-ya', 'aah matsushima-ya', 'matsushima-ya']))"
   ]
  },
  {
   "cell_type": "markdown",
   "id": "ac374fda",
   "metadata": {},
   "source": [
    "## قالب‌بندی رشته‌ها (Format Strings)\n",
    "\n",
    "در روش‌های قبلی، یاد گرفتیم که چگونه مقادیر را از رشته‌ها استخراج کنیم و خود رشته‌ها را به فرمت‌های دلخواه تغییر دهیم.\n",
    "کاربرد دیگر متدهای رشته‌ای، تغییر *بازنمایی‌های* رشته‌ای از مقادیر با انواع دیگر (داده‌ای) است.\n",
    "البته که همیشه می‌توان بازنمایی رشته‌ای را با استفاده از تابع `str()` به دست آورد؛ برای مثال:"
   ]
  },
  {
   "cell_type": "code",
   "execution_count": null,
   "id": "9c199248",
   "metadata": {},
   "outputs": [
    {
     "data": {
      "text/plain": [
       "'3.14159'"
      ]
     },
     "metadata": {},
     "output_type": "display_data"
    }
   ],
   "source": [
    "pi = 3.14159\n",
    "str(pi)"
   ]
  },
  {
   "cell_type": "markdown",
   "id": "83b54ae1",
   "metadata": {},
   "source": [
    "برای قالب‌بندی‌های پیچیده‌تر، ممکن است وسوسه شوید که از عملیات حسابی روی رشته‌ها استفاده کنید، همان‌طور که در [مفاهیم پایه‌ای پایتون: عملگرها](04-Semantics-Operators.ipynb) توضیح داده شد:"
   ]
  },
  {
   "cell_type": "code",
   "execution_count": null,
   "id": "2a5b43a1",
   "metadata": {},
   "outputs": [
    {
     "data": {
      "text/plain": [
       "'The value of pi is 3.14159'"
      ]
     },
     "metadata": {},
     "output_type": "display_data"
    }
   ],
   "source": [
    "\"The value of pi is \" + str(pi)"
   ]
  },
  {
   "cell_type": "markdown",
   "id": "28a4eeae",
   "metadata": {},
   "source": [
    "روش انعطاف‌پذیرتر برای این کار، استفاده از *رشته‌های قالب* (format strings) است. این رشته‌ها حاوی نشانگرهای ویژه‌ای (که با آکولاد مشخص می‌شوند) هستند و مقادیر قالب‌بندی شده درون آن‌ها قرار می‌گیرند.\n",
    "در اینجا یک مثال پایه آورده شده است:"
   ]
  },
  {
   "cell_type": "code",
   "execution_count": null,
   "id": "dcf620a8",
   "metadata": {},
   "outputs": [
    {
     "data": {
      "text/plain": [
       "'The value of pi is 3.14159'"
      ]
     },
     "metadata": {},
     "output_type": "display_data"
    }
   ],
   "source": [
    "\"The value of pi is {}\".format(pi)"
   ]
  },
  {
   "cell_type": "markdown",
   "id": "2ff84bf1",
   "metadata": {},
   "source": [
    "درون نشانگر `{}` می‌توانید اطلاعاتی دربارهٔ *چیزی* که دقیقاً می‌خواهید در آنجا نمایش داده شود، قرار دهید.\n",
    "اگر یک عدد وارد کنید، به ایندکس آرگومانی که باید وارد شود اشاره می‌کند:"
   ]
  },
  {
   "cell_type": "code",
   "execution_count": null,
   "id": "124dab10",
   "metadata": {},
   "outputs": [
    {
     "data": {
      "text/plain": [
       "'First letter: A. Last letter: Z.'"
      ]
     },
     "metadata": {},
     "output_type": "display_data"
    }
   ],
   "source": [
    "\"\"\"First letter: {0}. Last letter: {1}.\"\"\".format('A', 'Z')"
   ]
  },
  {
   "cell_type": "markdown",
   "id": "67b19532",
   "metadata": {},
   "source": [
    "اگر یک رشته وارد کنید، به کلید هر آرگومان کلیدواژه‌ای اشاره خواهد کرد:"
   ]
  },
  {
   "cell_type": "code",
   "execution_count": null,
   "id": "85dfbd53",
   "metadata": {},
   "outputs": [
    {
     "data": {
      "text/plain": [
       "'First letter: A. Last letter: Z.'"
      ]
     },
     "metadata": {},
     "output_type": "display_data"
    }
   ],
   "source": [
    "\"\"\"First letter: {first}. Last letter: {last}.\"\"\".format(last='Z', first='A')"
   ]
  },
  {
   "cell_type": "markdown",
   "id": "e06dcfed",
   "metadata": {},
   "source": [
    "در نهایت، برای ورودی‌های عددی می‌توانید کدهای فرمت را اضافه کنید که نحوه تبدیل مقدار به رشته را کنترل می‌کنند.\n",
    "برای مثال، برای نمایش یک عدد به صورت ممیز شناور با سه رقم پس از ممیز، می‌توانید از روش زیر استفاده کنید:"
   ]
  },
  {
   "cell_type": "code",
   "execution_count": null,
   "id": "6eb7d1ca",
   "metadata": {},
   "outputs": [
    {
     "data": {
      "text/plain": [
       "'pi = 3.142'"
      ]
     },
     "metadata": {},
     "output_type": "display_data"
    }
   ],
   "source": [
    "\"pi = {0:.3f}\".format(pi)"
   ]
  },
  {
   "cell_type": "markdown",
   "id": "dd59334e",
   "metadata": {},
   "source": [
    "همان‌طور که پیش‌تر اشاره شد، عدد \"`0`\" در اینجا به ایندکس مقداری که باید قرار گیرد اشاره می‌کند.  \n",
    "علامت \"`:`\" نشان‌دهنده این است که کدهای فرمت پس از آن می‌آیند.  \n",
    "\"`.3f`\" دقت مورد نظر را مشخص می‌کند: سه رقم پس از نقطه اعشار، با فرمت ممیز شناور.  \n",
    "\n",
    "این سبک مشخص‌سازی فرمت بسیار انعطاف‌پذیر است و مثال‌های ارائه‌شده در اینجا تنها بخش کوچکی از گزینه‌های موجود برای قالب‌بندی را پوشش می‌دهند.  \n",
    "برای اطلاعات بیشتر در مورد نحو این رشته‌های فرمت، به بخش [Format Specification](https://docs.python.org/3/library/string.html#formatspec) در مستندات آنلاین پایتون مراجعه کنید."
   ]
  },
  {
   "cell_type": "markdown",
   "id": "e41fa820",
   "metadata": {},
   "source": [
    "## تطابق الگوی انعطاف‌پذیر با عبارات باقاعده (Regular Expressions)\n",
    "\n",
    "متدهای نوع `str` در پایتون، مجموعه‌ای قدرتمند از ابزارها برای قالب‌بندی، تقسیم و دستکاری داده‌های رشته‌ای در اختیار شما قرار می‌دهند.  \n",
    "اما ابزارهای حتی قدرتمندتری در ماژول *عبارات باقاعده* (regular expressions) داخلی پایتون موجود است.  \n",
    "عبارات باقاعده یک موضوع بسیار گسترده است؛ کتاب‌های کاملی در این زمینه نوشته شده‌اند (از جمله کتاب [*Mastering Regular Expressions, 3rd Edition*](http://shop.oreilly.com/product/9780596528126.do) اثر Jeffrey E.F. Friedl)، بنابراین پرداختن به آن در تنها یک زیربخش کار دشواری است.  \n",
    "\n",
    "هدف من در اینجا این است که به شما درکی از انواع مسائلی که می‌توان با استفاده از عبارات باقاعده حل کرد، و همچنین ایده‌ای پایه از نحوه استفاده از آن‌ها در پایتون بدهم.  \n",
    "در بخش [منابع بیشتر برای یادگیری عبارات باقاعده](#Further-Resources-on-Regular-Expressions) برخی منابع برای یادگیری بیشتر را پیشنهاد خواهم داد.  \n",
    "\n",
    "در اساس، عبارات باقاعده وسیله‌ای برای *تطابق الگوی انعطاف‌پذیر* در رشته‌ها هستند.  \n",
    "اگر اغلب از خط فرمان استفاده می‌کنید، احتمالاً با این نوع تطابق انعطاف‌پذیر با کاراکتر \"`*`\" آشنا هستید که به عنوان یک کاراکتر جایگزین (wildcard) عمل می‌کند.  \n",
    "برای مثال، می‌توانیم تمامی notebookهای آی‌پایتون (یعنی فایل‌های با پسوند *.ipynb*) که حاوی کلمه \"Python\" در نام فایل خود هستند را با استفاده از wildcard \"`*`\" برای تطابق با هر کاراکتری در میان آن‌ها فهرست کنیم:"
   ]
  },
  {
   "cell_type": "code",
   "execution_count": null,
   "id": "677ecda0",
   "metadata": {},
   "outputs": [
    {
     "name": "stdout",
     "output_type": "stream",
     "text": [
      "01-How-to-Run-Python-Code.ipynb 02-Basic-Python-Syntax.ipynb\r\n"
     ]
    }
   ],
   "source": [
    "!ls *Python*.ipynb"
   ]
  },
  {
   "cell_type": "markdown",
   "id": "de498714",
   "metadata": {},
   "source": [
    "عبارات باقاعده این ایده «کاراکتر جایگزین» (wildcard) را به طیف گسترده‌ای از نحوهای انعطاف‌پذیر برای تطابق رشته تعمیم می‌دهند.  \n",
    "رابط پایتون برای عبارات باقاعده در ماژول داخلی `re` قرار دارد. به عنوان یک مثال ساده، بیایید از آن برای تکرار عملکرد متد `split()` رشته استفاده کنیم:"
   ]
  },
  {
   "cell_type": "code",
   "execution_count": null,
   "id": "0c1b1b62",
   "metadata": {},
   "outputs": [
    {
     "data": {
      "text/plain": [
       "['the', 'quick', 'brown', 'fox', 'jumped', 'over', 'a', 'lazy', 'dog']"
      ]
     },
     "metadata": {},
     "output_type": "display_data"
    }
   ],
   "source": [
    "import re\n",
    "regex = re.compile('\\s+')\n",
    "regex.split(line)"
   ]
  },
  {
   "cell_type": "markdown",
   "id": "9f0e8f2c",
   "metadata": {},
   "source": [
    "در اینجا ابتدا یک عبارت باقاعده را *کامپایل* کرده‌ایم، سپس از آن برای *تقسیم* یک رشته استفاده کرده‌ایم.  \n",
    "درست مانند متد `split()` پایتون که لیستی از تمام زیررشته‌های بین فضاهای خالی را برمی‌گرداند، متد `split()` عبارات باقاعده نیز لیستی از تمام زیررشته‌های بین تطابق‌های الگوی ورودی را برمی‌گرداند.  \n",
    "\n",
    "در این مورد، ورودی `\"\\s+\"` است: \"`\\s`\" یک کاراکتر ویژه است که با هر نویسه فضای خالی (فاصله، تب، خط جدید و غیره) مطابقت دارد، و \"`+`\" کاراکتری است که نشان‌دهنده *یک یا چند* مورد از نویسه قبل از خود است.  \n",
    "بنابراین، عبارت باقاعده با هر زیررشته متشکل از یک یا چند فاصله مطابقت می‌کند.  \n",
    "\n",
    "متد `split()` در اینجا اساساً یک روال کمکی است که بر اساس این رفتار *تطابق الگو* ساخته شده است. روش بنیادی‌تر، متد `match()` است که به شما می‌گوید آیا ابتدای یک رشته با الگو مطابقت دارد یا خیر:"
   ]
  },
  {
   "cell_type": "code",
   "execution_count": null,
   "id": "5d981b61",
   "metadata": {},
   "outputs": [
    {
     "name": "stdout",
     "output_type": "stream",
     "text": [
      "'     ' matches\n",
      "'abc  ' does not match\n",
      "'  abc' matches\n"
     ]
    }
   ],
   "source": [
    "for s in [\"     \", \"abc  \", \"  abc\"]:\n",
    "    if regex.match(s):\n",
    "        print(repr(s), \"matches\")\n",
    "    else:\n",
    "        print(repr(s), \"does not match\")"
   ]
  },
  {
   "cell_type": "markdown",
   "id": "14e642f5",
   "metadata": {},
   "source": [
    "مانند `split()`، روال‌های کمکی مشابهی برای یافتن اولین تطابق (مانند `str.index()` یا `str.find()`) یا برای یافتن و جایگزینی (مانند `str.replace()`) وجود دارد.  \n",
    "ما دوباره از خط قبلی استفاده خواهیم کرد:"
   ]
  },
  {
   "cell_type": "code",
   "execution_count": null,
   "id": "17b6478f",
   "metadata": {},
   "outputs": [],
   "source": [
    "line = 'the quick brown fox jumped over a lazy dog'"
   ]
  },
  {
   "cell_type": "markdown",
   "id": "f0bd452f",
   "metadata": {},
   "source": [
    "با این می‌توانیم ببینیم که متد `regex.search()` بسیار شبیه به `str.index()` یا `str.find()` عمل می‌کند:"
   ]
  },
  {
   "cell_type": "code",
   "execution_count": null,
   "id": "596c55bb",
   "metadata": {},
   "outputs": [
    {
     "data": {
      "text/plain": [
       "16"
      ]
     },
     "metadata": {},
     "output_type": "display_data"
    }
   ],
   "source": [
    "line.index('fox')"
   ]
  },
  {
   "cell_type": "code",
   "execution_count": null,
   "id": "95ed0ef6",
   "metadata": {},
   "outputs": [
    {
     "data": {
      "text/plain": [
       "16"
      ]
     },
     "metadata": {},
     "output_type": "display_data"
    }
   ],
   "source": [
    "regex = re.compile('fox')\n",
    "match = regex.search(line)\n",
    "match.start()"
   ]
  },
  {
   "cell_type": "markdown",
   "id": "1e007d19",
   "metadata": {},
   "source": [
    "به طور مشابه، متد `regex.sub()` نیز بسیار شبیه به `str.replace()` عمل می‌کند:"
   ]
  },
  {
   "cell_type": "code",
   "execution_count": null,
   "id": "3efe9afa",
   "metadata": {},
   "outputs": [
    {
     "data": {
      "text/plain": [
       "'the quick brown BEAR jumped over a lazy dog'"
      ]
     },
     "metadata": {},
     "output_type": "display_data"
    }
   ],
   "source": [
    "line.replace('fox', 'BEAR')"
   ]
  },
  {
   "cell_type": "code",
   "execution_count": null,
   "id": "cd28677b",
   "metadata": {},
   "outputs": [
    {
     "data": {
      "text/plain": [
       "'the quick brown BEAR jumped over a lazy dog'"
      ]
     },
     "metadata": {},
     "output_type": "display_data"
    }
   ],
   "source": [
    "regex.sub('BEAR', line)"
   ]
  },
  {
   "cell_type": "markdown",
   "id": "c604a807",
   "metadata": {},
   "source": [
    "با کمی تأمل، سایر عملیات بومی رشته‌ها نیز می‌توانند به صورت عبارات باقاعده بیان شوند."
   ]
  },
  {
   "cell_type": "markdown",
   "id": "e3a05339",
   "metadata": {},
   "source": [
    "### یک مثال پیچیده‌تر\n",
    "\n",
    "اما ممکن است بپرسید، چرا باید از نحو پیچیده‌تر و طولانی‌تر عبارات باقاعده به جای متدهای ساده‌تر و شهودی رشته‌ها استفاده کرد؟  \n",
    "مزیت این است که عبارات باقاعده *انعطاف بسیار بیشتری* ارائه می‌دهند.  \n",
    "\n",
    "در اینجا یک مثال پیچیده‌تر را در نظر می‌گیریم: کار رایج تطابق آدرس‌های ایمیل.  \n",
    "من با نوشتن یک عبارت باقاعده (تا حدودی پیچیده) شروع می‌کنم و سپس توضیح می‌دهم که چه اتفاقی در حال رخ دادن است.  \n",
    "این هم از آن:"
   ]
  },
  {
   "cell_type": "code",
   "execution_count": null,
   "id": "9bb9fd31",
   "metadata": {},
   "outputs": [],
   "source": [
    "email = re.compile('\\w+@\\w+\\.[a-z]{3}')"
   ]
  },
  {
   "cell_type": "markdown",
   "id": "cceafcd8",
   "metadata": {},
   "source": [
    "با استفاده از این، اگر یک خط از یک سند به ما داده شود، می‌توانیم به سرعت مواردی که شبیه آدرس ایمیل هستند را استخراج کنیم"
   ]
  },
  {
   "cell_type": "code",
   "execution_count": null,
   "id": "acbdb56b",
   "metadata": {},
   "outputs": [
    {
     "data": {
      "text/plain": [
       "['guido@python.org', 'guido@google.com']"
      ]
     },
     "metadata": {},
     "output_type": "display_data"
    }
   ],
   "source": [
    "text = \"To email Guido, try guido@python.org or the older address guido@google.com.\"\n",
    "email.findall(text)"
   ]
  },
  {
   "cell_type": "markdown",
   "id": "d180899f",
   "metadata": {},
   "source": [
    "(توجه کنید که این آدرس‌ها کاملاً ساختگی هستند؛ احتمالاً راه‌های بهتری برای تماس با گیدو [خالق پایتون] وجود دارد).\n",
    "\n",
    "می‌توانیم عملیات بیشتری انجام دهیم، مانند جایگزینی این آدرس‌های ایمیل با رشته‌ای دیگر، مثلاً برای مخفی کردن آدرس‌ها در خروجی:"
   ]
  },
  {
   "cell_type": "code",
   "execution_count": null,
   "id": "f00d8d34",
   "metadata": {},
   "outputs": [
    {
     "data": {
      "text/plain": [
       "'To email Guido, try --@--.-- or the older address --@--.--.'"
      ]
     },
     "metadata": {},
     "output_type": "display_data"
    }
   ],
   "source": [
    "email.sub('--@--.--', text)"
   ]
  },
  {
   "cell_type": "markdown",
   "id": "6542d6bb",
   "metadata": {},
   "source": [
    "در نهایت، توجه کنید که اگر واقعاً می‌خواهید *هر* آدرس ایمیلی را مطابقت دهید، عبارت باقاعده قبلی بسیار ساده‌تر از حد لازم است.  \n",
    "برای مثال، این عبارت فقط آدرس‌های متشکل از کاراکترهای الفبایی-عددی را که به یکی از پسوندهای دامنه متداول ختم می‌شوند، مجاز می‌داند.  \n",
    "بنابراین، برای مثال، نقطه استفاده شده در اینجا به این معنی است که فقط بخشی از آدرس را پیدا می‌کنیم:"
   ]
  },
  {
   "cell_type": "code",
   "execution_count": null,
   "id": "31ff1687",
   "metadata": {},
   "outputs": [
    {
     "data": {
      "text/plain": [
       "['obama@whitehouse.gov']"
      ]
     },
     "metadata": {},
     "output_type": "display_data"
    }
   ],
   "source": [
    "email.findall('barack.obama@whitehouse.gov')"
   ]
  },
  {
   "cell_type": "markdown",
   "id": "363414b6",
   "metadata": {},
   "source": [
    "این نشان می‌دهد که عبارات باقاعده چقدر می‌توانند بی‌رحمانه باشند اگر مراقب نباشید!  \n",
    "اگر در اینترنت جستجو کنید، می‌توانید پیشنهاداتی برای عبارات باقاعده پیدا کنید که با *همه* ایمیل‌های معتبر مطابقت کنند، اما مراقب باشید: آن عبارات بسیار پیچیده‌تر از عبارت ساده‌ای هستند که در اینجا استفاده شد!"
   ]
  },
  {
   "cell_type": "markdown",
   "id": "59a5a810",
   "metadata": {},
   "source": [
    "### مبانی نحو عبارات باقاعده (Regular Expression Syntax)\n",
    "\n",
    "حوزه نحو عبارات باقاعده برای این بخش کوتاه بیش از حد گسترده است.  \n",
    "با این حال، آشنایی نسبی با آن می‌تواند بسیار مفید باشد: در اینجا برخی از ساختارهای پایه را مرور می‌کنم و سپس چند منبع کامل‌تر را برای یادگیری بیشتر فهرست خواهم کرد.  \n",
    "امیدوارم این مرور سریع، شما را قادر سازد تا از این منابع به طور موثر استفاده کنید."
   ]
  },
  {
   "cell_type": "markdown",
   "id": "c78f8c6e",
   "metadata": {},
   "source": [
    "#### رشته‌های ساده مستقیماً تطابق داده می‌شوند\n",
    "\n",
    "اگر یک عبارت باقاعده بر اساس یک رشته ساده از کاراکترها یا ارقام بسازید، با همان رشته دقیق تطابق خواهد داد:"
   ]
  },
  {
   "cell_type": "code",
   "execution_count": null,
   "id": "13498ef9",
   "metadata": {},
   "outputs": [
    {
     "data": {
      "text/plain": [
       "['ion']"
      ]
     },
     "metadata": {},
     "output_type": "display_data"
    }
   ],
   "source": [
    "regex = re.compile('ion')\n",
    "regex.findall('Great Expectations')"
   ]
  },
  {
   "cell_type": "markdown",
   "id": "82a5c078",
   "metadata": {},
   "source": [
    "#### برخی کاراکترها دارای معانی ویژه هستند\n",
    "\n",
    "در حالی که حروف یا اعداد ساده به صورت مستقیم تطابق داده می‌شوند، تعدادی کاراکتر وجود دارند که درون عبارات باقاعده معانی ویژه‌ای دارند. این کاراکترها عبارت‌اند از:\n",
    "```\n",
    ". ^ $ * + ? { } [ ] \\ | ( )\n",
    "```\n",
    "به زودی معنای برخی از این موارد را بررسی خواهیم کرد.\n",
    "در عین حال، باید بدانید که اگر می‌خواهید هر یک از این کاراکترها را مستقیماً تطابق دهید، می‌توانید آن‌ها را با استفاده از بک‌اسلش *escape* کنید:"
   ]
  },
  {
   "cell_type": "code",
   "execution_count": null,
   "id": "4a616b23",
   "metadata": {},
   "outputs": [
    {
     "data": {
      "text/plain": [
       "['$']"
      ]
     },
     "metadata": {},
     "output_type": "display_data"
    }
   ],
   "source": [
    "regex = re.compile(r'\\$')\n",
    "regex.findall(\"the cost is $20\")"
   ]
  },
  {
   "cell_type": "markdown",
   "id": "c4fdf140",
   "metadata": {},
   "source": [
    "پیشوند `r` در `r'\\$'` نشان‌دهنده یک *رشته خام* (raw string) است. در رشته‌های استاندارد پایتون، از بک‌اسلش برای نشان دادن کاراکترهای ویژه استفاده می‌شود.  \n",
    "برای مثال، یک تب با `\"\\t\"` نشان داده می‌شود:"
   ]
  },
  {
   "cell_type": "code",
   "execution_count": null,
   "id": "9a757d6b",
   "metadata": {},
   "outputs": [
    {
     "name": "stdout",
     "output_type": "stream",
     "text": [
      "a\tb\tc\n"
     ]
    }
   ],
   "source": [
    "print('a\\tb\\tc')"
   ]
  },
  {
   "cell_type": "markdown",
   "id": "bc456203",
   "metadata": {},
   "source": [
    "این گونه جایگزینی‌ها در یک رشته خام (raw string) انجام نمی‌شوند:"
   ]
  },
  {
   "cell_type": "code",
   "execution_count": null,
   "id": "4a4b284b",
   "metadata": {},
   "outputs": [
    {
     "name": "stdout",
     "output_type": "stream",
     "text": [
      "a\\tb\\tc\n"
     ]
    }
   ],
   "source": [
    "print(r'a\\tb\\tc')"
   ]
  },
  {
   "cell_type": "markdown",
   "id": "a8dfbc3a",
   "metadata": {},
   "source": [
    "به همین دلیل، هر زمان که از بک‌اسلش در یک عبارت باقاعده استفاده می‌کنید، استفاده از یک رشته خام (raw string) روش توصیه‌شده است."
   ]
  },
  {
   "cell_type": "markdown",
   "id": "77fff2e7",
   "metadata": {},
   "source": [
    "#### کاراکترهای ویژه می‌توانند با گروه‌های کاراکتری تطابق پیدا کنند\n",
    "\n",
    "همان‌طور که کاراکتر `\"\\\"` در عبارات باقاعده می‌تواند کاراکترهای ویژه را escape کند و آن‌ها را به کاراکترهای معمولی تبدیل کند، می‌تواند به کاراکترهای معمولی نیز معانی ویژه بدهد.  \n",
    "این کاراکترهای ویژه با گروه‌های مشخصی از کاراکترها تطابق پیدا می‌کنند و ما قبلاً آن‌ها را دیده‌ایم.  \n",
    "در عبارت باقاعده آدرس ایمیل قبلی، از کاراکتر `\"\\w\"` استفاده کردیم که یک نشانگر ویژه برای تطابق با *هر کاراکتر الفبایی-عددی* است. به طور مشابه، در مثال ساده `split()`، `\"\\s\"` را نیز دیدیم که یک نشانگر ویژه برای *هر کاراکتر فضای خالی* است.  \n",
    "\n",
    "با ترکیب این موارد، می‌توانیم یک عبارت باقاعده ایجاد کنیم که *هر دو حرف/عدد با فاصله خالی بین آن‌ها* را تطابق دهد:"
   ]
  },
  {
   "cell_type": "code",
   "execution_count": null,
   "id": "707f9b11",
   "metadata": {},
   "outputs": [
    {
     "data": {
      "text/plain": [
       "['e f', 'x i', 's 9', 's o']"
      ]
     },
     "metadata": {},
     "output_type": "display_data"
    }
   ],
   "source": [
    "regex = re.compile(r'\\w\\s\\w')\n",
    "regex.findall('the fox is 9 years old')"
   ]
  },
  {
   "cell_type": "markdown",
   "id": "adc9e278",
   "metadata": {},
   "source": [
    "این مثال شروع به نشان دادن قدرت و انعطاف‌پذیری عبارات باقاعده می‌کند."
   ]
  },
  {
   "cell_type": "markdown",
   "id": "991c66fe",
   "metadata": {},
   "source": [
    "جدول زیر برخی از این کاراکترهای پرکاربرد را فهرست کرده است:\n",
    "\n",
    "| کاراکتر   | توضیح                           | کاراکتر   | توضیح                               |\n",
    "|-----------|---------------------------------|-----------|-------------------------------------|\n",
    "| `\"\\d\"`    | تطابق با هر رقم                | `\"\\D\"`    | تطابق با هر غیررقم                 |\n",
    "| `\"\\s\"`    | تطابق با هر فاصله خالی         | `\"\\S\"`    | تطابق با هر غیر فاصله خالی         |\n",
    "| `\"\\w\"`    | تطابق با هر کاراکتر الفبایی-عددی | `\"\\W\"`    | تطابق با هر کاراکتر غیر الفبایی-عددی |\n",
    "\n",
    "این لیست *کامل* یا توضیحات جامعی نیست؛ برای جزئیات بیشتر، به [مستندات نحو عبارات باقاعده پایتون](https://docs.python.org/3/library/re.html#re-syntax) مراجعه کنید."
   ]
  },
  {
   "cell_type": "markdown",
   "id": "c39f2e8f",
   "metadata": {},
   "source": [
    "#### براکت‌های مربعی با گروه‌های کاراکتری سفارشی تطابق پیدا می‌کنند\n",
    "\n",
    "اگر گروه‌های کاراکتری داخلی به اندازه کافی برای نیازهای شما خاص نیستند، می‌توانید از براکت‌های مربعی برای مشخص کردن هر مجموعه کاراکتری که مدنظرتان است استفاده کنید.  \n",
    "برای مثال، مورد زیر با هر حرف صدادار کوچک تطابق خواهد داد:"
   ]
  },
  {
   "cell_type": "code",
   "execution_count": null,
   "id": "b2fe295d",
   "metadata": {},
   "outputs": [
    {
     "data": {
      "text/plain": [
       "['c', 'ns', 'q', '', 'nt', '', 'l']"
      ]
     },
     "metadata": {},
     "output_type": "display_data"
    }
   ],
   "source": [
    "regex = re.compile('[aeiou]')\n",
    "regex.split('consequential')"
   ]
  },
  {
   "cell_type": "markdown",
   "id": "98b73f82",
   "metadata": {},
   "source": [
    "به طور مشابه، می‌توانید از خط تیره برای مشخص کردن یک بازه استفاده کنید: برای مثال، `\"[a-z]\"` با هر حرف کوچک و `\"[1-3]\"` با هر یک از `\"1\"`، `\"2\"` یا `\"3\"` تطابق خواهد داد.  \n",
    "به عنوان مثال، ممکن است نیاز باشد کدهای عددی خاصی را از یک سند استخراج کنید که شامل یک حرف بزرگ و به دنبال آن یک رقم هستند. می‌توانید این کار را به صورت زیر انجام دهید:"
   ]
  },
  {
   "cell_type": "code",
   "execution_count": null,
   "id": "873a8230",
   "metadata": {},
   "outputs": [
    {
     "data": {
      "text/plain": [
       "['G2', 'H6']"
      ]
     },
     "metadata": {},
     "output_type": "display_data"
    }
   ],
   "source": [
    "regex = re.compile('[A-Z][0-9]')\n",
    "regex.findall('1043879, G2, H6')"
   ]
  },
  {
   "cell_type": "markdown",
   "id": "ed26cf1d",
   "metadata": {},
   "source": [
    "#### کاراکترهای جایگزین (Wildcards) با کاراکترهای تکراری تطابق پیدا می‌کنند\n",
    "\n",
    "اگر می‌خواهید با رشته‌ای تطابق دهید که، مثلاً، سه کاراکتر الفبایی-عددی پشت سر هم دارد، می‌توانید به صورت `\"\\w\\w\\w\"` بنویسید.  \n",
    "از آنجا که این نیاز بسیار رایجی است، یک نحو خاص برای تطابق با تکرارها وجود دارد – استفاده از آکولاد با یک عدد:"
   ]
  },
  {
   "cell_type": "code",
   "execution_count": null,
   "id": "e1c8b298",
   "metadata": {},
   "outputs": [
    {
     "data": {
      "text/plain": [
       "['The', 'qui', 'bro', 'fox']"
      ]
     },
     "metadata": {},
     "output_type": "display_data"
    }
   ],
   "source": [
    "regex = re.compile(r'\\w{3}')\n",
    "regex.findall('The quick brown fox')"
   ]
  },
  {
   "cell_type": "markdown",
   "id": "aac2bc7c",
   "metadata": {},
   "source": [
    "همچنین نشانگرهایی برای تطابق با هر تعداد تکرار وجود دارند – برای مثال، کاراکتر `\"+\"` با *یک یا چند* تکرار از چیزی که قبل از آن می‌آید تطابق می‌یابد:"
   ]
  },
  {
   "cell_type": "code",
   "execution_count": null,
   "id": "382d1f50",
   "metadata": {},
   "outputs": [
    {
     "data": {
      "text/plain": [
       "['The', 'quick', 'brown', 'fox']"
      ]
     },
     "metadata": {},
     "output_type": "display_data"
    }
   ],
   "source": [
    "regex = re.compile(r'\\w+')\n",
    "regex.findall('The quick brown fox')"
   ]
  },
  {
   "cell_type": "markdown",
   "id": "5d76ba81",
   "metadata": {},
   "source": [
    "جدول زیر نشانگرهای تکرار موجود برای استفاده در عبارات باقاعده را نمایش می‌دهد:\n",
    "\n",
    "| کاراکتر | توضیح | مثال |\n",
    "|-----------|-------------|---------|\n",
    "| `?` | تطابق با صفر یا یک تکرار از المان قبلی | `\"ab?\"` با `\"a\"` یا `\"ab\"` تطابق می‌یابد |\n",
    "| `*` | تطابق با صفر یا چند تکرار از المان قبلی | `\"ab*\"` با `\"a\"`, `\"ab\"`, `\"abb\"`, `\"abbb\"` و ... تطابق می‌یابد |\n",
    "| `+` | تطابق با یک یا چند تکرار از المان قبلی | `\"ab+\"` با `\"ab\"`, `\"abb\"`, `\"abbb\"` و ... تطابق می‌یابد اما با `\"a\"` خیر |\n",
    "| `{n}` | تطابق با دقیقاً `n` تکرار از المان قبلی | `\"ab{2}\"` با `\"abb\"` تطابق می‌یابد |\n",
    "| `{m,n}` | تطابق با بین `m` تا `n` تکرار از المان قبلی | `\"ab{2,3}\"` با `\"abb\"` یا `\"abbb\"` تطابق می‌یابد |"
   ]
  },
  {
   "cell_type": "markdown",
   "id": "33966f71",
   "metadata": {},
   "source": [
    "با در نظر گرفتن این مبانی پایه، اجازه دهید به تطابق‌دهنده آدرس ایمیل خود بازگردیم:"
   ]
  },
  {
   "cell_type": "code",
   "execution_count": null,
   "id": "5d009783",
   "metadata": {},
   "outputs": [],
   "source": [
    "email = re.compile(r'\\w+@\\w+\\.[a-z]{3}')"
   ]
  },
  {
   "cell_type": "markdown",
   "id": "467b875c",
   "metadata": {},
   "source": [
    "اکنون میتوانیم معنای این عبارت را درک کنیم: میخواهیم یک یا چند نویسه الفباعددی (``\"\\w+\"``) داشته باشیم که بعد از آن *علامت at* (``\"@\"``) بیاید، سپس دوباره یک یا چند نویسه الفباعددی (``\"\\w+\"``) آمده و بعد از آن یک نقطه (``\"\\.\"`` — توجه کنید که نیاز به escape با بک‌اسلش دارد) قرار گیرد و در نهایت دقیقاً سه حرف کوچک بیاید.\n",
    "\n",
    "اگر حالا بخواهیم این عبارت را طوری تغییر دهیم که آدرس ایمیل اوباما نیز با آن مطابقت کند، می‌توانیم این کار را با استفاده از نماد براکت انجام دهیم:"
   ]
  },
  {
   "cell_type": "code",
   "execution_count": null,
   "id": "53ec2be3",
   "metadata": {},
   "outputs": [
    {
     "data": {
      "text/plain": [
       "['barack.obama@whitehouse.gov']"
      ]
     },
     "metadata": {},
     "output_type": "display_data"
    }
   ],
   "source": [
    "email2 = re.compile(r'[\\w.]+@\\w+\\.[a-z]{3}')\n",
    "email2.findall('barack.obama@whitehouse.gov')"
   ]
  },
  {
   "cell_type": "markdown",
   "id": "657e8ab6",
   "metadata": {},
   "source": [
    "ما ``\"\\w+\"`` را به ``\"[\\w.]+\"`` تغییر دادیم، بنابراین حالا هر نویسه الفباعددی *یا* یک نقطه را مطابقت خواهیم داد.\n",
    "\n",
    "با این عبارت انعطاف‌پذیرتر، می‌توانیم طیف وسیع‌تری از آدرس‌های ایمیل را مطابقت دهیم (اگرچه هنوز هم همه را شامل نمی‌شود – آیا می‌توانید سایر کاستی‌های این عبارت را شناسایی کنید؟)."
   ]
  },
  {
   "cell_type": "markdown",
   "id": "650d63f7",
   "metadata": {},
   "source": [
    "#### پرانتزها نشان‌دهنده *گروه‌هایی* برای استخراج هستند\n",
    "\n",
    "برای عبارات منظم مرکب مانند تطبیق‌دهنده ایمیل ما، اغلب می‌خواهیم اجزای آن را به جای تطابق کامل استخراج کنیم. این کار را می‌توان با استفاده از پرانتز برای *گروه‌بندی* نتایج انجام داد:"
   ]
  },
  {
   "cell_type": "code",
   "execution_count": null,
   "id": "c01bfbab",
   "metadata": {},
   "outputs": [],
   "source": [
    "email3 = re.compile(r'([\\w.]+)@(\\w+)\\.([a-z]{3})')"
   ]
  },
  {
   "cell_type": "code",
   "execution_count": null,
   "id": "6809edce",
   "metadata": {},
   "outputs": [
    {
     "data": {
      "text/plain": [
       "[('guido', 'python', 'org'), ('guido', 'google', 'com')]"
      ]
     },
     "metadata": {},
     "output_type": "display_data"
    }
   ],
   "source": [
    "text = \"To email Guido, try guido@python.org or the older address guido@google.com.\"\n",
    "email3.findall(text)"
   ]
  },
  {
   "cell_type": "markdown",
   "id": "d9fdfbc8",
   "metadata": {},
   "source": [
    "همان‌طور که می‌بینید، این گروه‌بندی در واقع یک لیست از زیراجزای آدرس ایمیل را استخراج می‌کند.\n",
    "\n",
    "می‌توانیم یک قدم فراتر برویم و اجزای استخراج شده را با استفاده از سینتکس ``\"(?P<name> )\"`` *نام‌گذاری* کنیم. در این حالت، گروه‌ها می‌توانند به عنوان یک دیکشنری پایتون استخراج شوند:"
   ]
  },
  {
   "cell_type": "code",
   "execution_count": null,
   "id": "4bad04be",
   "metadata": {},
   "outputs": [
    {
     "data": {
      "text/plain": [
       "{'domain': 'python', 'suffix': 'org', 'user': 'guido'}"
      ]
     },
     "metadata": {},
     "output_type": "display_data"
    }
   ],
   "source": [
    "email4 = re.compile(r'(?P<user>[\\w.]+)@(?P<domain>\\w+)\\.(?P<suffix>[a-z]{3})')\n",
    "match = email4.match('guido@python.org')\n",
    "match.groupdict()"
   ]
  },
  {
   "cell_type": "markdown",
   "id": "31009969",
   "metadata": {},
   "source": [
    "ترکیب این ایده‌ها (همراه با برخی از syntaxهای قدرتمند عبارات باقاعده که در اینجا به آنها نپرداختیم) به شما امکان میدهد تا به شکلی انعطاف‌پذیر و سریع، اطلاعات را از رشتهها در پایتون استخراج کنید."
   ]
  },
  {
   "cell_type": "markdown",
   "id": "045d8905",
   "metadata": {},
   "source": [
    "### منابع بیشتر برای یادگیری عبارات باقاعده\n",
    "\n",
    "بحث فوق تنها یک مرور سریع (و البته بسیار ناکامل) از این موضوع گسترده بود. اگر مایلید بیشتر یاد بگیرید، منابع زیر را توصیه میکنم:\n",
    "\n",
    "- **[مستندات بسته ``re`` پایتون](https://docs.python.org/3/library/re.html)**: من همیشه متوجه میشوم که تقریباً هر بار که از عبارات باقاعده استفاده میکنم، نحوه استفاده از آنها را فراموش کردهام. حالا که اصول اولیه را فهمیدهام، این صفحه منبعی بسیار ارزشمند برای یادآوری معنای هر کاراکتر یا دنباله خاص در یک عبارت باقاعده است.\n",
    "- **[راهنمای رسمی عبارات باقاعده در پایتون](https://docs.python.org/3/howto/regex.html)**: یک رویکرد رواییتر برای یادگیری عبارات باقاعده در پایتون.\n",
    "- **[کتاب Mastering Regular Expressions (انتشارات OReilly، 2006)](http://shop.oreilly.com/product/9780596528126.do)**: یک کتاب 500+ صفحهای در این زمینه. اگر به دنبال یک درمان واقعاً کامل از این موضوع هستید، این منبع مناسب شماست.\n",
    "\n",
    "برای مشاهده نمونه‌هایی از کاربردهای عملی manipulation رشتهها و عبارات باقاعده در مقیاس بزرگ‌تر، میتوانید به بخش **[Pandas: داده‌های برچسب‌دار ستونی-محور](15-Preview-of-Data-Science-Tools.ipynb#Pandas:-Labeled-Column-oriented-Data)** مراجعه کنید، جایی که به بررسی اعمال این نوع expressions روی *جدول‌های* داده متنی در بسته Pandas می‌پردازیم."
   ]
  }
 ],
 "metadata": {
  "language_info": {
   "name": "python"
  }
 },
 "nbformat": 4,
 "nbformat_minor": 5
}
