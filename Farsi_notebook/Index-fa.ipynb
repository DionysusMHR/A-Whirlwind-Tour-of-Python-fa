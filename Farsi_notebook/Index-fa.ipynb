{
 "cells": [
  {
   "cell_type": "markdown",
   "id": "b63f3f7a",
   "metadata": {},
   "source": [
    "# تور سریع السیر پایتون"
   ]
  },
  {
   "cell_type": "markdown",
   "id": "ebecd971",
   "metadata": {},
   "source": [
    "*جیک واندرپلاس*"
   ]
  },
  {
   "cell_type": "markdown",
   "id": "e1367c1d",
   "metadata": {},
   "source": [
    "<img src=\"fig/cover-large.gif\">"
   ]
  },
  {
   "cell_type": "markdown",
   "id": "a367aad5",
   "metadata": {},
   "source": [
    "این‌ها نوتبوک‌های ژوپیتر پشت گزارش من برای انتشارات اُریلی هستند،  \n",
    "[*یک تور سریع از پایتون*](http://www.oreilly.com/programming/free/a-whirlwind-tour-of-python.csp).  \n",
    "فهرست کامل نوتبوک‌ها [در گیت‌هاب](https://github.com/jakevdp/WhirlwindTourOfPython) در دسترس است.\n",
    "\n",
    "*یک تور سریع از پایتون* یک معرفی سریع و فشرده از مولفه‌های ضروری زبان پایتون برای پژوهشگران و توسعه‌دهندگانی است که قبلاً با برنامه‌نویسی به زبان دیگری آشنا هستند.\n",
    "\n",
    "این مطالب به‌ویژه برای کسانی طراحی شده که می‌خواهند از پایتون برای علم داده و/یا برنامه‌نویسی علمی استفاده کنند، و در این ظرفیت به عنوان مقدمه‌ای برای کتاب آینده من، *کتاب راهنمای علم داده با پایتون* عمل می‌کند.  \n",
    "این نوتبوک‌ها از سخنرانی‌ها و کارگاه‌هایی که در این زمینه‌ها در دانشگاه واشنگتن و همچنین در کنفرانس‌ها، جلسات و کارگاه‌های مختلف در سراسر جهان ارائه کرده‌ام، اقتباس شده‌اند."
   ]
  },
  {
   "cell_type": "markdown",
   "id": "4141483a",
   "metadata": {},
   "source": [
    "## فهرست مطالب\n",
    "\n",
    "1. [مقدمه](00-Introduction.ipynb)\n",
    "2. [نحوه اجرای کد پایتون](01-How-to-Run-Python-Code.ipynb)\n",
    "3. [سینتکس پایه پایتون](02-Basic-Python-Syntax.ipynb)\n",
    "4. [معناشناسی پایتون: متغیرها](03-Semantics-Variables.ipynb)\n",
    "5. [معناشناسی پایتون: عملگرها](04-Semantics-Operators.ipynb)\n",
    "6. [انواع скаляр داخلی](05-Built-in-Scalar-Types.ipynb)\n",
    "7. [ساختارهای داده داخلی](06-Built-in-Data-Structures.ipynb)\n",
    "8. [دستورات کنترل جریان](07-Control-Flow-Statements.ipynb)\n",
    "9. [تعریف توابع](08-Defining-Functions.ipynb)\n",
    "10. [خطاها و استثناها](09-Errors-and-Exceptions.ipynb)\n",
    "11. [تکرارکننده‌ها](10-Iterators.ipynb)\n",
    "12. [فهم لیست](11-List-Comprehensions.ipynb)\n",
    "13. [مولدها و عبارات مولد](12-Generators.ipynb)\n",
    "14. [ماژول‌ها و پکیج‌ها](13-Modules-and-Packages.ipynb)\n",
    "15. [رشته‌ها و عبارات منظم](14-Strings-and-Regular-Expressions.ipynb)\n",
    "16. [پیش‌نمایش ابزارهای علم داده](15-Preview-of-Data-Science-Tools.ipynb)\n",
    "17. [منابع برای یادگیری بیشتر](16-Further-Resources.ipynb)\n",
    "18. [ضمیمه: کدهای تولید نمودارها](17-Figures.ipynb)"
   ]
  },
  {
   "cell_type": "markdown",
   "id": "9d56f488",
   "metadata": {},
   "source": [
    "## مجوز\n",
    "\n",
    "این اثر تحت مجوز [CC0](LICENSE) \"بدون حق محفوظ\" منتشر شده است، بنابراین شما آزاد هستید که این مطالب را برای هر منظوری مجدداً استفاده، تغییر، توسعه و بهبود بخشید.\n",
    "\n",
    "با این حال، درخواست می‌کنم (اما اجباری نیست) که در صورت استفاده یا اقتباس از این مطالب، نسبت مناسب و/یا استناد ذکر شود؛ به عنوان مثال:\n",
    "\n",
    "> *یک تور سریع از پایتون* اثر جیک واندرپلاس (انتشارات اُریلی). حق چاپ ۲۰۱۶ O’Reilly Media, Inc., شابک 978-1-491-96465-1\n",
    "\n",
    "اطلاعات بیشتر درباره CC0 را [اینجا](https://creativecommons.org/share-your-work/public-domain/cc0/) بخوانید."
   ]
  }
 ],
 "metadata": {
  "language_info": {
   "name": "python"
  }
 },
 "nbformat": 4,
 "nbformat_minor": 5
}
