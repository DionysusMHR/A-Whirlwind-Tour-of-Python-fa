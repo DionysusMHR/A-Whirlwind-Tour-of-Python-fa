{
 "cells": [
  {
   "cell_type": "markdown",
   "id": "ff5b87b2",
   "metadata": {},
   "source": [
    "# ساختارهای داده داخلی"
   ]
  },
  {
   "cell_type": "markdown",
   "id": "5f26fc98",
   "metadata": {},
   "source": [
    "ما انواع ساده پایتون را دیده‌ایم: `int`، `float`، `complex`، `bool`، `str` و غیره. پایتون همچنین چندین نوع مرکب داخلی دارد که به عنوان نگهدارنده برای انواع دیگر عمل می‌کنند. این انواع مرکب عبارت‌اند از:\n",
    "\n",
    "| نام نوع   | مثال                   | توضیح                                 |\n",
    "|-----------|---------------------------|---------------------------------------|\n",
    "| `list`    | `[1, 2, 3]`               | مجموعه مرتب‌شده                     |\n",
    "| `tuple`   | `(1, 2, 3)`               | مجموعه مرتب و تغییرناپذیر           |\n",
    "| `dict`    | `{'a':1, 'b':2, 'c':3}`   | نگاشت نامرتب (کلید، مقدار)           |\n",
    "| `set`     | `{1, 2, 3}`               | مجموعه نامرتب از مقادیر منحصربه‌فرد |\n",
    "\n",
    "همان‌طور که می‌بینید، پرانتزهای گرد، کروشه و آکولاد معانی متمایزی در مورد نوع مجموعه تولید شده دارند. در اینجا به طور خلاصه این ساختارهای داده را بررسی می‌کنیم."
   ]
  },
  {
   "cell_type": "markdown",
   "id": "a138c76a",
   "metadata": {},
   "source": [
    "## لیست‌ها\n",
    "\n",
    "لیست‌ها، نوع پایه‌ی مجموعه‌داده‌های **مرتب** و **تغییرپذیر** در پایتون هستند. آن‌ها با مقادیر جدا شده با کاما درون کروشه تعریف می‌شوند. برای مثال، در زیر لیستی از چند عدد اول آورده شده است:"
   ]
  },
  {
   "cell_type": "code",
   "execution_count": null,
   "id": "4cb3e484",
   "metadata": {},
   "outputs": [],
   "source": [
    "L = [2, 3, 5, 7]"
   ]
  },
  {
   "cell_type": "markdown",
   "id": "ff1c6f34",
   "metadata": {},
   "source": [
    "لیست‌ها دارای تعدادی ویژگی و متد مفید هستند. در اینجا نگاهی سریع به برخی از متداول‌ترین و کاربردی‌ترین آنها می‌اندازیم:"
   ]
  },
  {
   "cell_type": "code",
   "execution_count": null,
   "id": "b94c76bb",
   "metadata": {},
   "outputs": [
    {
     "data": {
      "text/plain": [
       "4"
      ]
     },
     "metadata": {},
     "output_type": "display_data"
    }
   ],
   "source": [
    "# Length of a list\n",
    "len(L)"
   ]
  },
  {
   "cell_type": "code",
   "execution_count": null,
   "id": "6cac0b8c",
   "metadata": {},
   "outputs": [
    {
     "data": {
      "text/plain": [
       "[2, 3, 5, 7, 11]"
      ]
     },
     "metadata": {},
     "output_type": "display_data"
    }
   ],
   "source": [
    "# Append a value to the end\n",
    "L.append(11)\n",
    "L"
   ]
  },
  {
   "cell_type": "code",
   "execution_count": null,
   "id": "fc441a3a",
   "metadata": {},
   "outputs": [
    {
     "data": {
      "text/plain": [
       "[2, 3, 5, 7, 11, 13, 17, 19]"
      ]
     },
     "metadata": {},
     "output_type": "display_data"
    }
   ],
   "source": [
    "# Addition concatenates lists\n",
    "L + [13, 17, 19]"
   ]
  },
  {
   "cell_type": "code",
   "execution_count": null,
   "id": "38c8f3d4",
   "metadata": {},
   "outputs": [
    {
     "data": {
      "text/plain": [
       "[1, 2, 3, 4, 5, 6]"
      ]
     },
     "metadata": {},
     "output_type": "display_data"
    }
   ],
   "source": [
    "# sort() method sorts in-place\n",
    "L = [2, 5, 1, 6, 3, 4]\n",
    "L.sort()\n",
    "L"
   ]
  },
  {
   "cell_type": "markdown",
   "id": "79697550",
   "metadata": {},
   "source": [
    "علاوه بر این، متدهای داخلی بسیار بیشتری برای لیست‌ها وجود دارد که به خوبی در [مستندات آنلاین پایتون](https://docs.python.org/3/tutorial/datastructures.html) پوشش داده شده‌اند.\n",
    "\n",
    "در حالی که ما لیست‌های حاوی مقادیر از یک نوع را نشان می‌دادیم، یکی از ویژگی‌های قدرتمند اشیاء مرکب پایتون این است که می‌توانند حاوی اشیاء از ***هر*** نوع، یا حتی ترکیبی از انواع باشند. برای مثال:"
   ]
  },
  {
   "cell_type": "code",
   "execution_count": null,
   "id": "4ab3ceb0",
   "metadata": {},
   "outputs": [],
   "source": [
    "L = [1, 'two', 3.14, [0, 3, 5]]"
   ]
  },
  {
   "cell_type": "markdown",
   "id": "4494a818",
   "metadata": {},
   "source": [
    "این انعطاف نتیجه سیستم نوع پویای پایتون است.\n",
    "ایجاد چنین دنباله‌ای مختلط در یک زبان با نوع ایستا مانند C می‌تواند بسیار دردسرسازتر باشد!\n",
    "می‌بینیم که لیست‌ها حتی می‌توانند شامل لیست‌های دیگر به عنوان عناصر باشند.\n",
    "چنین انعطاف نوعی بخش ضروری از چیزی است که کد پایتون را نسبتاً سریع و آسان برای نوشتن می‌کند.\n",
    "\n",
    "تاکنون ما دستکاری‌های لیست‌ها را به صورت کلی در نظر گرفته‌ایم؛ بخش ضروری دیگر دسترسی به عناصر منفرد است.\n",
    "این کار در پایتون از طریق *ایندکس‌گذاری* و *برش‌زنی* انجام می‌شود، که در ادامه بررسی خواهیم کرد."
   ]
  },
  {
   "cell_type": "markdown",
   "id": "e2cb1438",
   "metadata": {},
   "source": [
    "### ایندکس‌گذاری و برش‌زنی لیست‌ها\n",
    "\n",
    "پایتون دسترسی به عناصر در انواع مرکب را از طریق *ایندکس‌گذاری* برای عناصر منفرد و *برش‌زنی* برای چندین عنصر فراهم می‌کند.\n",
    "همان‌طور که خواهیم دید، هر دو با استفاده از یک سینتکس کروشه‌ای نشان‌ داده می‌شوند.\n",
    "فرض کنید به لیست اعداد اول اولیه خود بازگردیم:"
   ]
  },
  {
   "cell_type": "code",
   "execution_count": null,
   "id": "90261d46",
   "metadata": {},
   "outputs": [],
   "source": [
    "L = [2, 3, 5, 7, 11]"
   ]
  },
  {
   "cell_type": "markdown",
   "id": "2fa4638a",
   "metadata": {},
   "source": [
    "پایتون از ایندکس‌گذاری *بر مبنای صفر* استفاده می‌کند، بنابراین می‌توانیم با استفاده از سینتکس زیر به عناصر اول و دوم دسترسی پیدا کنیم:"
   ]
  },
  {
   "cell_type": "code",
   "execution_count": null,
   "id": "5a56033b",
   "metadata": {},
   "outputs": [
    {
     "data": {
      "text/plain": [
       "2"
      ]
     },
     "metadata": {},
     "output_type": "display_data"
    }
   ],
   "source": [
    "L[0]"
   ]
  },
  {
   "cell_type": "code",
   "execution_count": null,
   "id": "53ffc1fe",
   "metadata": {},
   "outputs": [
    {
     "data": {
      "text/plain": [
       "3"
      ]
     },
     "metadata": {},
     "output_type": "display_data"
    }
   ],
   "source": [
    "L[1]"
   ]
  },
  {
   "cell_type": "markdown",
   "id": "6545f778",
   "metadata": {},
   "source": [
    "عناصر موجود در انتهای لیست را می‌توان با اعداد منفی، که از -۱ شروع می‌شوند، دسترسی یافت:"
   ]
  },
  {
   "cell_type": "code",
   "execution_count": null,
   "id": "598738d1",
   "metadata": {},
   "outputs": [
    {
     "data": {
      "text/plain": [
       "11"
      ]
     },
     "metadata": {},
     "output_type": "display_data"
    }
   ],
   "source": [
    "L[-1]"
   ]
  },
  {
   "cell_type": "code",
   "execution_count": null,
   "id": "ea2b3726",
   "metadata": {},
   "outputs": [
    {
     "data": {
      "text/plain": [
       "7"
      ]
     },
     "metadata": {},
     "output_type": "display_data"
    }
   ],
   "source": [
    "L[-2]"
   ]
  },
  {
   "cell_type": "markdown",
   "id": "569eb268",
   "metadata": {},
   "source": [
    "می‌توانید این روش ایندکس‌گذاری را به این صورت تصویر کنید:"
   ]
  },
  {
   "cell_type": "markdown",
   "id": "4dc4495f",
   "metadata": {},
   "source": [
    "![List Indexing Figure](fig/list-indexing.png)"
   ]
  },
  {
   "cell_type": "markdown",
   "id": "67904133",
   "metadata": {},
   "source": [
    "در اینجا مقادیر داخل لیست با اعداد بزرگ درون کادرها نشان داده شده‌اند؛  \n",
    "و اندیس‌های لیست با اعداد کوچک در بالا و پایین نمایش داده شده‌اند.  \n",
    "در این حالت، ``L[2]`` مقدار ``5`` را برمی‌گرداند،  \n",
    "چون این مقدار بعدی در اندیس ``2`` است."
   ]
  },
  {
   "cell_type": "markdown",
   "id": "84fdcd40",
   "metadata": {},
   "source": [
    "در حالی که *ایندکس‌گذاری* روشی برای دریافت یک مقدار واحد از لیست است،  \n",
    "*برش‌زنی* روشی برای دسترسی به چندین مقدار در زیرلیست‌ها محسوب می‌شود.  \n",
    "\n",
    "در این روش از دونقطه برای نشان دادن نقطه شروع (شامل) و نقطه پایان (غیرشامل) زیرآرایه استفاده می‌شود.  \n",
    "به عنوان مثال، برای دریافت سه عنصر اول لیست، می‌توانیم بنویسیم:"
   ]
  },
  {
   "cell_type": "code",
   "execution_count": null,
   "id": "5c85e5c7",
   "metadata": {},
   "outputs": [
    {
     "data": {
      "text/plain": [
       "[2, 3, 5]"
      ]
     },
     "metadata": {},
     "output_type": "display_data"
    }
   ],
   "source": [
    "L[0:3]"
   ]
  },
  {
   "cell_type": "markdown",
   "id": "09d04a9a",
   "metadata": {},
   "source": [
    "توجه کنید که ``0`` و ``3`` در نمودار قبلی در کجا قرار گرفته‌اند،  \n",
    "و چگونه برش فقط مقادیر بین این اندیس‌ها را انتخاب می‌کند.  \n",
    "\n",
    "اگر اندیس اول را حذف کنیم، مقدار ``0`` به طور پیش‌فرض در نظر گرفته می‌شود،  \n",
    "بنابراین می‌توانیم به طور معادل بنویسیم:"
   ]
  },
  {
   "cell_type": "code",
   "execution_count": null,
   "id": "29b10c63",
   "metadata": {},
   "outputs": [
    {
     "data": {
      "text/plain": [
       "[2, 3, 5]"
      ]
     },
     "metadata": {},
     "output_type": "display_data"
    }
   ],
   "source": [
    "L[:3]"
   ]
  },
  {
   "cell_type": "markdown",
   "id": "5a58b7a1",
   "metadata": {},
   "source": [
    "به طور مشابه، اگر اندیس آخر را حذف کنیم، به طور پیش‌فرض تا طول لیست در نظر گرفته می‌شود.  \n",
    "بنابراین، سه عنصر آخر را می‌توان به صورت زیر دسترسی یافت:"
   ]
  },
  {
   "cell_type": "code",
   "execution_count": null,
   "id": "57d52915",
   "metadata": {},
   "outputs": [
    {
     "data": {
      "text/plain": [
       "[5, 7, 11]"
      ]
     },
     "metadata": {},
     "output_type": "display_data"
    }
   ],
   "source": [
    "L[-3:]"
   ]
  },
  {
   "cell_type": "markdown",
   "id": "82a04a28",
   "metadata": {},
   "source": [
    "در نهایت، می‌توان یک عدد صحیح سوم را مشخص کرد که نشان‌دهنده اندازه گام است؛  \n",
    "برای مثال، برای انتخاب هر عنصر دوم لیست، می‌توان نوشت:"
   ]
  },
  {
   "cell_type": "code",
   "execution_count": null,
   "id": "b503d50e",
   "metadata": {},
   "outputs": [
    {
     "data": {
      "text/plain": [
       "[2, 5, 11]"
      ]
     },
     "metadata": {},
     "output_type": "display_data"
    }
   ],
   "source": [
    "L[::2]  # equivalent to L[0:len(L):2]"
   ]
  },
  {
   "cell_type": "markdown",
   "id": "f79938c9",
   "metadata": {},
   "source": [
    "یک نسخه بسیار مفید از این قابلیت، مشخص کردن گام منفی است که آرایه را معکوس می‌کند:"
   ]
  },
  {
   "cell_type": "code",
   "execution_count": null,
   "id": "1babd294",
   "metadata": {},
   "outputs": [
    {
     "data": {
      "text/plain": [
       "[11, 7, 5, 3, 2]"
      ]
     },
     "metadata": {},
     "output_type": "display_data"
    }
   ],
   "source": [
    "L[::-1]"
   ]
  },
  {
   "cell_type": "markdown",
   "id": "ad88109c",
   "metadata": {},
   "source": [
    "هم ایندکس‌گذاری و هم برش‌زنی می‌توانند برای تنظیم عناصر و همچنین دسترسی به آنها استفاده شوند.  \n",
    "سینتکس آن همانطور که انتظار می‌رود به صورت زیر است:"
   ]
  },
  {
   "cell_type": "code",
   "execution_count": null,
   "id": "f2d28cad",
   "metadata": {},
   "outputs": [
    {
     "name": "stdout",
     "output_type": "stream",
     "text": [
      "[100, 3, 5, 7, 11]\n"
     ]
    }
   ],
   "source": [
    "L[0] = 100\n",
    "print(L)"
   ]
  },
  {
   "cell_type": "code",
   "execution_count": null,
   "id": "72de602c",
   "metadata": {},
   "outputs": [
    {
     "name": "stdout",
     "output_type": "stream",
     "text": [
      "[100, 55, 56, 7, 11]\n"
     ]
    }
   ],
   "source": [
    "L[1:3] = [55, 56]\n",
    "print(L)"
   ]
  },
  {
   "cell_type": "markdown",
   "id": "664e1750",
   "metadata": {},
   "source": [
    "سینتکس بسیار مشابه برای برش‌زنی در بسیاری از پکیج‌های متمرکز بر علم داده، از جمله NumPy و Pandas (که در مقدمه ذکر شد) نیز استفاده می‌شود.\n",
    "\n",
    "حال که با لیست‌های پایتون و نحوه دسترسی به عناصر در انواع داده مرکب مرتب آشنا شدیم، اجازه دهید نگاهی به سه نوع داده مرکب استاندارد دیگر که پیش‌تر اشاره شد بیندازیم."
   ]
  },
  {
   "cell_type": "markdown",
   "id": "80a93667",
   "metadata": {},
   "source": [
    "## تاپل‌ها (Tuples)  \n",
    "تاپل‌ها از بسیاری جهات شبیه به لیست‌ها هستند، اما به جای کروشه با پرانتز تعریف می‌شوند:"
   ]
  },
  {
   "cell_type": "code",
   "execution_count": null,
   "id": "4876cc2e",
   "metadata": {},
   "outputs": [],
   "source": [
    "t = (1, 2, 3)"
   ]
  },
  {
   "cell_type": "markdown",
   "id": "986dd9a1",
   "metadata": {},
   "source": [
    "همچنین می‌توان آن‌ها را بدون هیچ پرانتزی تعریف کرد:"
   ]
  },
  {
   "cell_type": "code",
   "execution_count": null,
   "id": "e4ea9bda",
   "metadata": {},
   "outputs": [
    {
     "name": "stdout",
     "output_type": "stream",
     "text": [
      "(1, 2, 3)\n"
     ]
    }
   ],
   "source": [
    "t = 1, 2, 3\n",
    "print(t)"
   ]
  },
  {
   "cell_type": "markdown",
   "id": "20625ef4",
   "metadata": {},
   "source": [
    "مانند لیست‌هایی که پیش‌تر بحث شد، تاپل‌ها نیز طول دارند و عناصر منفرد را می‌توان با استفاده از ایندکس‌گذاری کروشه‌ای استخراج کرد:"
   ]
  },
  {
   "cell_type": "code",
   "execution_count": null,
   "id": "a73e1f21",
   "metadata": {},
   "outputs": [
    {
     "data": {
      "text/plain": [
       "3"
      ]
     },
     "metadata": {},
     "output_type": "display_data"
    }
   ],
   "source": [
    "len(t)"
   ]
  },
  {
   "cell_type": "code",
   "execution_count": null,
   "id": "c69cd78b",
   "metadata": {},
   "outputs": [
    {
     "data": {
      "text/plain": [
       "1"
      ]
     },
     "metadata": {},
     "output_type": "display_data"
    }
   ],
   "source": [
    "t[0]"
   ]
  },
  {
   "cell_type": "markdown",
   "id": "4c8f7500",
   "metadata": {},
   "source": [
    "ویژگی اصلی متمایزکننده تاپل‌ها این است که آن‌ها *غیرقابل تغییر* (immutable) هستند: این بدان معنی است که پس از ایجاد، اندازه و محتوای آن‌ها را نمی‌توان تغییر داد:"
   ]
  },
  {
   "cell_type": "code",
   "execution_count": null,
   "id": "efe77a8a",
   "metadata": {},
   "outputs": [
    {
     "ename": "TypeError",
     "evalue": "'tuple' object does not support item assignment",
     "output_type": "error",
     "traceback": [
      "\u001b[0;31m---------------------------------------------------------------------------\u001b[0m\n",
      "\u001b[0;31mTypeError\u001b[0m                                 Traceback (most recent call last)\n",
      "\u001b[0;32m<ipython-input-23-141c76cb54a2>\u001b[0m in \u001b[0;36m<module>\u001b[0;34m()\u001b[0m\n",
      "\u001b[0;32m----> 1\u001b[0;31m \u001b[0mt\u001b[0m\u001b[0;34m[\u001b[0m\u001b[0;36m1\u001b[0m\u001b[0;34m]\u001b[0m \u001b[0;34m=\u001b[0m \u001b[0;36m4\u001b[0m\u001b[0;34m\u001b[0m\u001b[0m\n",
      "\u001b[0m\n",
      "\u001b[0;31mTypeError\u001b[0m: 'tuple' object does not support item assignment"
     ]
    }
   ],
   "source": [
    "t[1] = 4"
   ]
  },
  {
   "cell_type": "code",
   "execution_count": null,
   "id": "b35c2c16",
   "metadata": {},
   "outputs": [
    {
     "ename": "AttributeError",
     "evalue": "'tuple' object has no attribute 'append'",
     "output_type": "error",
     "traceback": [
      "\u001b[0;31m---------------------------------------------------------------------------\u001b[0m\n",
      "\u001b[0;31mAttributeError\u001b[0m                            Traceback (most recent call last)\n",
      "\u001b[0;32m<ipython-input-24-e8bd1632f9dd>\u001b[0m in \u001b[0;36m<module>\u001b[0;34m()\u001b[0m\n",
      "\u001b[0;32m----> 1\u001b[0;31m \u001b[0mt\u001b[0m\u001b[0;34m.\u001b[0m\u001b[0mappend\u001b[0m\u001b[0;34m(\u001b[0m\u001b[0;36m4\u001b[0m\u001b[0;34m)\u001b[0m\u001b[0;34m\u001b[0m\u001b[0m\n",
      "\u001b[0m\n",
      "\u001b[0;31mAttributeError\u001b[0m: 'tuple' object has no attribute 'append'"
     ]
    }
   ],
   "source": [
    "t.append(4)"
   ]
  },
  {
   "cell_type": "markdown",
   "id": "ecace7b6",
   "metadata": {},
   "source": [
    "تاپل‌ها اغلب در برنامه‌های پایتون استفاده می‌شوند. یک مورد بسیار رایج، در توابعی است که چندین مقدار بازگشتی دارند.  \n",
    "به عنوان مثال، متد ``as_integer_ratio()`` برای اشیاء اعشاری، یک صورت و مخرج بازمی‌گرداند. این مقدار بازگشتی دوگانه به صورت یک تاپل ارائه می‌شود:"
   ]
  },
  {
   "cell_type": "code",
   "execution_count": null,
   "id": "d547758b",
   "metadata": {},
   "outputs": [
    {
     "data": {
      "text/plain": [
       "(1, 8)"
      ]
     },
     "metadata": {},
     "output_type": "display_data"
    }
   ],
   "source": [
    "x = 0.125\n",
    "x.as_integer_ratio()"
   ]
  },
  {
   "cell_type": "markdown",
   "id": "e4328eed",
   "metadata": {},
   "source": [
    "این مقادیر بازگشتی چندگانه را می‌توان به صورت جداگانه به این صورت تخصیص داد:"
   ]
  },
  {
   "cell_type": "code",
   "execution_count": null,
   "id": "8033e513",
   "metadata": {},
   "outputs": [
    {
     "name": "stdout",
     "output_type": "stream",
     "text": [
      "0.125\n"
     ]
    }
   ],
   "source": [
    "numerator, denominator = x.as_integer_ratio()\n",
    "print(numerator / denominator)"
   ]
  },
  {
   "cell_type": "markdown",
   "id": "91974a38",
   "metadata": {},
   "source": [
    "منطق ایندکس‌گذاری و برش‌زنی که پیش‌تر برای لیست‌ها اشاره شد، برای تاپل‌ها نیز کاربرد دارد، به همراه میزانی از متدهای دیگر.  \n",
    "برای فهرست کامل‌تر این موارد به [مستندات پایتون](https://docs.python.org/3/tutorial/datastructures.html) مراجعه کنید."
   ]
  },
  {
   "cell_type": "markdown",
   "id": "a5c21d8f",
   "metadata": {},
   "source": [
    "## دیکشنری‌ها  \n",
    "دیکشنری‌ها نگاشت‌های بسیار انعطاف‌پذیری از کلیدها به مقادیر هستند و پایه بسیاری از پیاده‌سازی‌های داخلی پایتون را تشکیل می‌دهند.  \n",
    "آنها را می‌توان از طریق یک لیست جدا شده با کاما از جفت‌های ``کلید:مقدار`` درون آکولاد ایجاد کرد:"
   ]
  },
  {
   "cell_type": "code",
   "execution_count": null,
   "id": "02917e43",
   "metadata": {},
   "outputs": [],
   "source": [
    "numbers = {'one':1, 'two':2, 'three':3}"
   ]
  },
  {
   "cell_type": "markdown",
   "id": "f2953b04",
   "metadata": {},
   "source": [
    "عناصر از طریق سینتکس ایندکس‌گذاری مورد استفاده برای لیست‌ها و تاپل‌ها قابل دسترسی و تنظیم هستند، با این تفاوت که در اینجا ایندکس بر اساس ترتیب مبتنی بر صفر نیست، بلکه یک کلید معتبر در دیکشنری است:\n"
   ]
  },
  {
   "cell_type": "code",
   "execution_count": null,
   "id": "afdc23c9",
   "metadata": {},
   "outputs": [
    {
     "data": {
      "text/plain": [
       "2"
      ]
     },
     "metadata": {},
     "output_type": "display_data"
    }
   ],
   "source": [
    "# Access a value via the key\n",
    "numbers['two']"
   ]
  },
  {
   "cell_type": "markdown",
   "id": "4ce96e87",
   "metadata": {},
   "source": [
    "مقادیر جدید نیز می‌توانند با استفاده از ایندکس‌گذاری به دیکشنری اضافه شوند:"
   ]
  },
  {
   "cell_type": "code",
   "execution_count": null,
   "id": "be0d12cc",
   "metadata": {},
   "outputs": [
    {
     "name": "stdout",
     "output_type": "stream",
     "text": [
      "{'three': 3, 'ninety': 90, 'two': 2, 'one': 1}\n"
     ]
    }
   ],
   "source": [
    "# Set a new key:value pair\n",
    "numbers['ninety'] = 90\n",
    "print(numbers)"
   ]
  },
  {
   "cell_type": "markdown",
   "id": "6796769c",
   "metadata": {},
   "source": [
    "در نظر داشته باشید که دیکشنری‌ها هیچ ترتیبی برای پارامترهای ورودی حفظ نمی‌کنند؛ این موضوع به صورت طراحی شده است.  \n",
    "این عدم حفظ ترتیب به دیکشنری‌ها اجازه می‌دهد تا با کارایی بسیار بالا پیاده‌سازی شوند، به طوری که دسترسی تصادفی به عناصر بسیار سریع باشد، بدون توجه به اندازه دیکشنری (اگر کنجکاو هستید که این چگونه کار می‌کند، در مورد مفهوم *جدول هش* مطالعه کنید).  \n",
    "[مستندات پایتون](https://docs.python.org/3/library/stdtypes.html) دارای یک لیست کامل از متدهای موجود برای دیکشنری‌ها است."
   ]
  },
  {
   "cell_type": "markdown",
   "id": "59310df8",
   "metadata": {},
   "source": [
    "## مجموعه‌ها (Sets)  \n",
    "چهارمین مجموعه پایه، مجموعه است که شامل مجموعه‌های بدون ترتیب از آیتم‌های منحصربه‌فرد می‌باشد.  \n",
    "آنها بسیار شبیه به لیست‌ها و تاپل‌ها تعریف می‌شوند، با این تفاوت که از آکولادهای دیکشنری‌ها استفاده می‌کنند:"
   ]
  },
  {
   "cell_type": "code",
   "execution_count": null,
   "id": "0b87f75c",
   "metadata": {},
   "outputs": [],
   "source": [
    "primes = {2, 3, 5, 7}\n",
    "odds = {1, 3, 5, 7, 9}"
   ]
  },
  {
   "cell_type": "markdown",
   "id": "16977965",
   "metadata": {},
   "source": [
    "اگر با ریاضیات مجموعه‌ها آشنا باشید، با عملیات‌هایی مانند اجتماع، اشتراک، تفاوت، تفاوت متقارن و دیگر موارد آشنا خواهید بود.  \n",
    "مجموعه‌های پایتون همه این عملیات‌ها را به صورت داخلی از طریق متدها یا عملگرها دارند.  \n",
    "برای هرکدام، دو روش معادل را نشان خواهیم داد:"
   ]
  },
  {
   "cell_type": "code",
   "execution_count": null,
   "id": "09e71f2e",
   "metadata": {},
   "outputs": [
    {
     "data": {
      "text/plain": [
       "{1, 2, 3, 5, 7, 9}"
      ]
     },
     "metadata": {},
     "output_type": "display_data"
    }
   ],
   "source": [
    "# union: items appearing in either\n",
    "primes | odds      # with an operator\n",
    "primes.union(odds) # equivalently with a method"
   ]
  },
  {
   "cell_type": "code",
   "execution_count": null,
   "id": "fac9f104",
   "metadata": {},
   "outputs": [
    {
     "data": {
      "text/plain": [
       "{3, 5, 7}"
      ]
     },
     "metadata": {},
     "output_type": "display_data"
    }
   ],
   "source": [
    "# intersection: items appearing in both\n",
    "primes & odds             # with an operator\n",
    "primes.intersection(odds) # equivalently with a method"
   ]
  },
  {
   "cell_type": "code",
   "execution_count": null,
   "id": "804f24de",
   "metadata": {},
   "outputs": [
    {
     "data": {
      "text/plain": [
       "{2}"
      ]
     },
     "metadata": {},
     "output_type": "display_data"
    }
   ],
   "source": [
    "# difference: items in primes but not in odds\n",
    "primes - odds           # with an operator\n",
    "primes.difference(odds) # equivalently with a method"
   ]
  },
  {
   "cell_type": "code",
   "execution_count": null,
   "id": "b8cd8bc0",
   "metadata": {},
   "outputs": [
    {
     "data": {
      "text/plain": [
       "{1, 2, 9}"
      ]
     },
     "metadata": {},
     "output_type": "display_data"
    }
   ],
   "source": [
    "# symmetric difference: items appearing in only one set\n",
    "primes ^ odds                     # with an operator\n",
    "primes.symmetric_difference(odds) # equivalently with a method"
   ]
  },
  {
   "cell_type": "markdown",
   "id": "89e06287",
   "metadata": {},
   "source": [
    "متدها و عملیات بسیار بیشتری برای مجموعه‌ها موجود است.  \n",
    "احتمالاً حدس زده‌اید که چه می‌خواهم بگویم: برای راهنمای کامل به [مستندات آنلاین پایتون](https://docs.python.org/3/library/stdtypes.html) مراجعه کنید."
   ]
  },
  {
   "cell_type": "markdown",
   "id": "7ab20801",
   "metadata": {},
   "source": [
    "## ساختارهای داده تخصصی‌تر\n",
    "\n",
    "پایتون شامل چندین ساختار داده دیگر است که ممکن است برای شما مفید باشند. این موارد معمولاً در ماژول توکار ``collections`` یافت می‌شوند.\n",
    "ماژول collections به طور کامل در [مستندات آنلاین پایتون](https://docs.python.org/3/library/collections.html) مستند شده است و می‌توانید درباره اشیاء مختلف موجود در آن اطلاعات بیشتری کسب کنید.\n",
    "\n",
    "به طور خاص، موارد زیر در عمل بسیار مفید بوده‌اند:\n",
    "\n",
    "- ``collections.namedtuple``: مشابه تاپل، اما هر مقدار دارای یک نام است\n",
    "- ``collections.defaultdict``: مشابه دیکشنری، اما کلیدهای مشخص‌نشده دارای یک مقدار پیش‌فرض تعریف‌شده توسط کاربر هستند\n",
    "- ``collections.OrderedDict``: مشابه دیکشنری، اما ترتیب کلیدها حفظ می‌شود\n",
    "\n",
    "پس از آشنایی با انواع مجموعه‌های توکار استاندارد، استفاده از این قابلیت‌های توسعه‌یافته بسیار شهودی خواهد بود و پیشنهاد می‌کنم [در مورد نحوه استفاده از آنها مطالعه کنید](https://docs.python.org/3/library/collections.html)."
   ]
  }
 ],
 "metadata": {
  "language_info": {
   "name": "python"
  }
 },
 "nbformat": 4,
 "nbformat_minor": 5
}
