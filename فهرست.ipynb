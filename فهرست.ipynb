{
 "cells": [
  {
   "cell_type": "markdown",
   "id": "7b16f585",
   "metadata": {},
   "source": [
    "<h1 dir=rtl>\n",
    "تور سریع السیر پایتون\n",
    "</h1>"
   ]
  },
  {
   "cell_type": "markdown",
   "id": "d21e4ed4",
   "metadata": {},
   "source": [
    "<p dir=rtl>جیک وندر پلاس</p>"
   ]
  },
  {
   "cell_type": "markdown",
   "id": "4cb6b5d8",
   "metadata": {},
   "source": [
    "<img src=\"./img/WhireWindBookCover.png\">"
   ]
  }
 ],
 "metadata": {
  "kernelspec": {
   "display_name": "base",
   "language": "python",
   "name": "python3"
  },
  "language_info": {
   "codemirror_mode": {
    "name": "ipython",
    "version": 3
   },
   "file_extension": ".py",
   "mimetype": "text/x-python",
   "name": "python",
   "nbconvert_exporter": "python",
   "pygments_lexer": "ipython3",
   "version": "3.13.5"
  }
 },
 "nbformat": 4,
 "nbformat_minor": 5
}
