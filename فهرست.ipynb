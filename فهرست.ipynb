{
 "cells": [
  {
   "cell_type": "markdown",
   "id": "7b16f585",
   "metadata": {},
   "source": [
    "<h1 dir=rtl>\n",
    "تور سریع السیر پایتون\n",
    "</h1>"
   ]
  },
  {
   "cell_type": "markdown",
   "id": "d21e4ed4",
   "metadata": {},
   "source": [
    "<p dir=rtl>جیک وندر پلاس</p>"
   ]
  },
  {
   "cell_type": "markdown",
   "id": "4cb6b5d8",
   "metadata": {},
   "source": [
    "<img src=\"./img/WhireWindBookCover.png\">"
   ]
  },
  {
   "cell_type": "markdown",
   "id": "26d80bc8",
   "metadata": {},
   "source": [
    "<p dir=rtl>اینها دفترچه‌های یادداشت  پشت گزارش اورِیلی من هستند، <a href=\"http://www.oreilly.com/programming/free/a-whirlwind-tour-of-python.csp)\">تور سریع السیر پایتون\n",
    "</a>.</p>\n",
    "\n",
    "<p dir=rtl>لیست کامل دفترچه های ژوپیترِ <a href=\"https://github.com/jakevdp/WhirlwindTourOfPython\">در گیتهاب</a> موجود است.</p>"
   ]
  },
  {
   "cell_type": "markdown",
   "id": "fe326a1c",
   "metadata": {},
   "source": [
    "<p dir=rtl>تور سریع السیر پایتون\n",
    " مقدمه‌ای سریع بر اجزای ضروری زبان پایتون برای محققان و توسعه‌دهندگانی است که از قبل با برنامه‌نویسی به زبان دیگری آشنا هستند.</p>\n",
    "\n",
    "<p dir=rtl>این مطالب به ویژه برای کسانی که مایل به استفاده از پایتون برای علم داده و/یا برنامه‌نویسی علمی هستند، در نظر گرفته شده است و در این راستا به عنوان مقدمه‌ای بر کتاب آینده من، *راهنمای علم داده پایتون*، عمل می‌کند. این دفترچه‌ها برگرفته از سخنرانی‌ها و کارگاه‌هایی هستند که من در مورد این موضوعات در دانشگاه واشنگتن و در کنفرانس‌ها، جلسات و کارگاه‌های مختلف در سراسر جهان ارائه داده‌ام.</p>"
   ]
  },
  {
   "cell_type": "markdown",
   "id": "960980da",
   "metadata": {},
   "source": [
    "<h3 dir=rtl>فهرست</h3>\n",
    "\n",
    "<div dir=rtl>\n",
    "<a href=\"./00-مقدمه.ipynb\">1. مقدمه</a>\n",
    "<br>\n",
    "<a href=\"./01-نحوه اجرای کد پایتون.ipynb\">2. نحوه اجرای کد پایتون</a>\n",
    "<br>\n",
    "<a href=\"./02-سینتکس پایه پایتون.ipynb\">3. سینتکس پایه پایتون</a>\n",
    "<br>\n",
    "<a href=\"./03-معناشناسی پایتون: متغیرها.ipynb\">4. معناشناسی پایتون: متغیرها</a>\n",
    "<br>\n",
    "<a href=\"./04-معناشناسی پایتون: عملگرها.ipynb\">5. معناشناسی پایتون: عملگرها</a>\n",
    "<br>\n",
    "<a href=\"./05-انواع داده اسکالر داخلی.ipynb\">6. انواع داده اسکالر داخلی</a>\n",
    "<br>\n",
    "<a href=\"./06-ساختارهای داده داخلی.ipynb\">7. ساختارهای داده داخلی</a>\n",
    "<br>\n",
    "<a href=\"./07-دستورات کنترل جریان.ipynb\">8. دستورات کنترل جریان</a>\n",
    "<br>\n",
    "<a href=\"./08-تعریف توابع.ipynb\">9. تعریف توابع</a>\n",
    "<br>\n",
    "<a href=\"./09-خطاها و استثناها.ipynb\">10. خطاها و استثناها</a>\n",
    "<br>\n",
    "<a href=\"./10-پیمایشگرها.ipynb\">11. پیمایشگرها</a>\n",
    "<br>\n",
    "<a href=\"./11-تعریف فشرده لیست.ipynb\">12. تعریف فشرده لیست</a>\n",
    "<br>\n",
    "<a href=\"./12-ژنراتورها و عبارات ژنراتور.ipynb\">13. ژنراتورها و عبارات ژنراتور</a>\n",
    "<br>\n",
    "<a href=\"./13-ماژول‌ها و بسته‌ها.ipynb\">14. ماژول‌ها و بسته‌ها</a>\n",
    "<br>\n",
    "<a href=\"./14-رشته‌ها و عبارات باقاعده.ipynb\">15. رشته‌ها و عبارات باقاعده</a>\n",
    "<br>\n",
    "<a href=\"./15-معرفی ابزارهای علم داده.ipynb\">16. معرفی ابزارهای علم داده</a>\n",
    "<br>\n",
    "<a href=\"./16-منابع برای یادگیری بیشتر.ipynb\">17. منابع برای یادگیری بیشتر</a>\n",
    "<br>\n",
    "<a href=\"./17-پیوست: کدی برای بازتولید شکل‌ها.ipynb\">18. پیوست: کدی برای بازتولید شکل‌ها</a>\n",
    "<br>\n",
    "</div>"
   ]
  },
  {
   "cell_type": "markdown",
   "id": "7a80f3d5",
   "metadata": {},
   "source": [
    "<h3 dir=rtl>لایسنس</h3>\n",
    "\n",
    "<p dir=rtl>\n",
    "این مطلب تحت مجوز «بدون حق محفوظ» <a href=(LICENSE)>[CC0]</a> منتشر شده است، و بنابراین شما آزاد هستید که این مطلب را برای هر منظوری مجدداً استفاده، اصلاح، تکمیل و ارتقا دهید.\n",
    "</p>\n",
    "\n",
    "<p dir=rtl>\n",
    "با این اوصاف، من درخواست می‌کنم (اما الزامی ندارم) که اگر از این مطالب استفاده یا اقتباس می‌کنید، ارجاع و/یا استناد مناسب را ذکر کنید؛ برای مثال:\n",
    "</p>\n",
    "\n",
    "> *A Whirlwind Tour of Python* by Jake VanderPlas (O’Reilly). Copyright 2016 O’Reilly Media, Inc., 978-1-491-96465-1\n",
    "\n",
    "\n",
    "<p dir=rtl>\n",
    "درباره CC0 بیشتر بخوانید:<a href=\"https://creativecommons.org/share-your-work/public-domain/cc0/\">اینجا</a>\n",
    "</p>"
   ]
  }
 ],
 "metadata": {
  "kernelspec": {
   "display_name": "base",
   "language": "python",
   "name": "python3"
  },
  "language_info": {
   "codemirror_mode": {
    "name": "ipython",
    "version": 3
   },
   "file_extension": ".py",
   "mimetype": "text/x-python",
   "name": "python",
   "nbconvert_exporter": "python",
   "pygments_lexer": "ipython3",
   "version": "3.13.5"
  }
 },
 "nbformat": 4,
 "nbformat_minor": 5
}
