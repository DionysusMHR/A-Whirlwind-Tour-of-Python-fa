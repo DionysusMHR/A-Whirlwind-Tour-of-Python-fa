{
 "cells": [
  {
   "cell_type": "markdown",
   "id": "7b16f585",
   "metadata": {},
   "source": [
    "<div dir=\"rtl\">\n",
    "#  تور سریع السیر پایتون\n",
    "</div>"
   ]
  },
  {
   "cell_type": "markdown",
   "id": "bb96c73b",
   "metadata": {},
   "source": [
    "#  تور سریع السیر پایتون"
   ]
  }
 ],
 "metadata": {
  "language_info": {
   "name": "python"
  }
 },
 "nbformat": 4,
 "nbformat_minor": 5
}
