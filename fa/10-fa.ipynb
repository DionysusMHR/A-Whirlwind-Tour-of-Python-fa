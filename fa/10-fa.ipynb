{
 "cells": [
  {
   "cell_type": "markdown",
   "id": "031ab4ef",
   "metadata": {},
   "source": [
    "تکرارکننده‌ها (Iterators)\n"
   ]
  },
  {
   "cell_type": "markdown",
   "id": "0ece4aa8",
   "metadata": {},
   "source": [
    "اغلب بخش مهمی از تحلیل داده، انجام محاسبات مشابه به صورت مکرر و خودکار است.\n",
    "\n",
    "برای مثال، ممکن است جدولی از نام‌ها داشته باشید که می‌خواهید آن را به نام و نام خانوادگی تقسیم کنید، یا جدولی از تاریخ‌ها که می‌خواهید به قالبی استاندارد تبدیل کنید.\n",
    "\n",
    "یکی از پاسخ‌های پایتون به این نیاز، سینتکس *تکرارکننده* است.\n",
    "ما قبلاً با تکرارکننده ``range`` آشنا شده‌ایم:"
   ]
  },
  {
   "cell_type": "code",
   "execution_count": null,
   "id": "07b557ac",
   "metadata": {},
   "outputs": [
    {
     "name": "stdout",
     "output_type": "stream",
     "text": [
      "0 1 2 3 4 5 6 7 8 9 "
     ]
    }
   ],
   "source": [
    "for i in range(10):\n",
    "    print(i, end=' ')"
   ]
  },
  {
   "cell_type": "markdown",
   "id": "172b7daf",
   "metadata": {},
   "source": [
    "در اینجا قصد داریم کمی عمیق‌تر به موضوع بپردازیم.\n",
    "مشخص شده که در پایتون ۳، ``range`` یک لیست نیست، بلکه چیزی به نام *تکرارکننده* (iterator) است، و درک نحوه عملکرد آن کلید فهم دسته وسیعی از قابلیت‌های بسیار مفید پایتون محسوب می‌شود."
   ]
  },
  {
   "cell_type": "markdown",
   "id": "c2b5edef",
   "metadata": {},
   "source": [
    "## پیمایش لیست‌ها\n",
    "\n",
    "تکرارکننده‌ها را شاید بتوان به ساده‌ترین شکل در مورد عینی پیمایش یک لیست درک کرد.  \n",
    "مثال زیر را در نظر بگیرید:"
   ]
  },
  {
   "cell_type": "code",
   "execution_count": null,
   "id": "d0a43012",
   "metadata": {},
   "outputs": [
    {
     "name": "stdout",
     "output_type": "stream",
     "text": [
      "3 5 7 9 11 "
     ]
    }
   ],
   "source": [
    "for value in [2, 4, 6, 8, 10]:\n",
    "    # do some operation\n",
    "    print(value + 1, end=' ')"
   ]
  },
  {
   "cell_type": "markdown",
   "id": "2f37f9a7",
   "metadata": {},
   "source": [
    "سینتکس آشنای \"``for x in y``\" به ما امکان می‌دهد تا یک عملیات را برای هر مقدار در لیست تکرار کنیم.  \n",
    "اینکه سینتکس کد بسیار نزدیک به توصیف انگلیسی آن است (\"*برای [هر] مقدار در [این] لیست*\")، تنها یکی از انتخاب‌های نحوی است که پایتون را به زبانی اینقوت intuitive برای یادگیری و استفاده تبدیل کرده است.\n",
    "\n",
    "اما آنچه در ظاهر اتفاق می‌افتد، چیزی نیست که *واقعاً* در جریان است.  \n",
    "وقتی چیزی مانند \"``for val in L``\" می‌نویسید، مفسر پایتون بررسی می‌کند که آیا این شیء دارای واسط *تکرارکننده* است یا خیر. شما خودتان می‌توانید این موضوع را با تابع توکار ``iter`` بررسی کنید:"
   ]
  },
  {
   "cell_type": "code",
   "execution_count": null,
   "id": "0eadab45",
   "metadata": {},
   "outputs": [
    {
     "data": {
      "text/plain": [
       "<list_iterator at 0x104722400>"
      ]
     },
     "metadata": {},
     "output_type": "display_data"
    }
   ],
   "source": [
    "iter([2, 4, 6, 8, 10])"
   ]
  },
  {
   "cell_type": "markdown",
   "id": "70131124",
   "metadata": {},
   "source": [
    "این شیء تکرارکننده است که قابلیت‌های مورد نیاز حلقه ``for`` را فراهم می‌کند.  \n",
    "شیء ``iter`` یک نگهدارنده است که تا زمانی که معتبر باشد، به شما امکان دسترسی به شیء بعدی را می‌دهد. این رفتار را می‌توان با تابع توکار ``next`` مشاهده کرد:"
   ]
  },
  {
   "cell_type": "code",
   "execution_count": null,
   "id": "c056df09",
   "metadata": {},
   "outputs": [],
   "source": [
    "I = iter([2, 4, 6, 8, 10])"
   ]
  },
  {
   "cell_type": "code",
   "execution_count": null,
   "id": "53b993e8",
   "metadata": {},
   "outputs": [
    {
     "name": "stdout",
     "output_type": "stream",
     "text": [
      "2\n"
     ]
    }
   ],
   "source": [
    "print(next(I))"
   ]
  },
  {
   "cell_type": "code",
   "execution_count": null,
   "id": "d98c8a5b",
   "metadata": {},
   "outputs": [
    {
     "name": "stdout",
     "output_type": "stream",
     "text": [
      "4\n"
     ]
    }
   ],
   "source": [
    "print(next(I))"
   ]
  },
  {
   "cell_type": "code",
   "execution_count": null,
   "id": "0855a3b3",
   "metadata": {},
   "outputs": [
    {
     "name": "stdout",
     "output_type": "stream",
     "text": [
      "6\n"
     ]
    }
   ],
   "source": [
    "print(next(I))"
   ]
  },
  {
   "cell_type": "markdown",
   "id": "c0adf099",
   "metadata": {},
   "source": [
    "هدف از این سطح از غیرمستقیم‌گویی چیست؟  \n",
    "خب، مشخص شده که این روش فوق‌العاده مفید است، زیرا به پایتون اجازه می‌دهد چیزهایی را به عنوان لیست در نظر بگیرد که *در واقع لیست نیستند*."
   ]
  },
  {
   "cell_type": "markdown",
   "id": "7997a90e",
   "metadata": {},
   "source": [
    "## ``range()``: همیشه یک لیست، لیست نیست\n",
    "\n",
    "شاید رایج‌ترین مثال از این تکرار غیرمستقیم، تابع ``range()`` در پایتون ۳ (با نام ``xrange()`` در پایتون ۲) باشد که نه یک لیست، بلکه یک شیء خاص ``range()`` برمی‌گرداند:"
   ]
  },
  {
   "cell_type": "code",
   "execution_count": null,
   "id": "a3703ce8",
   "metadata": {},
   "outputs": [
    {
     "data": {
      "text/plain": [
       "range(0, 10)"
      ]
     },
     "metadata": {},
     "output_type": "display_data"
    }
   ],
   "source": [
    "range(10)"
   ]
  },
  {
   "cell_type": "markdown",
   "id": "53d6d40b",
   "metadata": {},
   "source": [
    "``range``، همانند یک لیست، یک تکرارکننده در اختیار قرار می‌دهد:"
   ]
  },
  {
   "cell_type": "code",
   "execution_count": null,
   "id": "20345505",
   "metadata": {},
   "outputs": [
    {
     "data": {
      "text/plain": [
       "<range_iterator at 0x1045a1810>"
      ]
     },
     "metadata": {},
     "output_type": "display_data"
    }
   ],
   "source": [
    "iter(range(10))"
   ]
  },
  {
   "cell_type": "markdown",
   "id": "c57359da",
   "metadata": {},
   "source": [
    "بنابراین پایتون می‌داند که باید با آن *انگار* یک لیست است رفتار کند:"
   ]
  },
  {
   "cell_type": "code",
   "execution_count": null,
   "id": "020b26f7",
   "metadata": {},
   "outputs": [
    {
     "name": "stdout",
     "output_type": "stream",
     "text": [
      "0 1 2 3 4 5 6 7 8 9 "
     ]
    }
   ],
   "source": [
    "for i in range(10):\n",
    "    print(i, end=' ')"
   ]
  },
  {
   "cell_type": "code",
   "execution_count": null,
   "id": "bfdcddc6",
   "metadata": {},
   "outputs": [
    {
     "data": {
      "text/plain": [
       "<range_iterator at 0x1045a1810>"
      ]
     },
     "metadata": {},
     "output_type": "display_data"
    }
   ],
   "source": [
    "iter(range(10))"
   ]
  },
  {
   "cell_type": "markdown",
   "id": "82b965c3",
   "metadata": {},
   "source": [
    "مزیت غیرمستقیم‌گویی iterator این است که *لیست کامل هرگز به صورت صریح ایجاد نمی‌شود!*  \n",
    "ما می‌توانیم این را با انجام یک محاسبه‌ی range مشاهده کنیم که اگر واقعاً آن را نمونه‌سازی کنیم، حافظه سیستم را overwhelmed خواهد کرد (توجه داشته باشید که در پایتون 2، ``range`` یک لیست ایجاد می‌کند، بنابراین اجرای موارد زیر به نتایج خوبی منجر نخواهد شد!):"
   ]
  },
  {
   "cell_type": "code",
   "execution_count": null,
   "id": "32125916",
   "metadata": {},
   "outputs": [
    {
     "name": "stdout",
     "output_type": "stream",
     "text": [
      "0, 1, 2, 3, 4, 5, 6, 7, 8, 9, "
     ]
    }
   ],
   "source": [
    "N = 10 ** 12\n",
    "for i in range(N):\n",
    "    if i >= 10: break\n",
    "    print(i, end=', ')"
   ]
  },
  {
   "cell_type": "markdown",
   "id": "2afac76c",
   "metadata": {},
   "source": [
    "اگر ``range`` واقعاً آن لیست یک تریلیون مقداری را ایجاد می‌کرد، ده‌ها ترابایت از حافظه ماشین را اشغال می‌کرد: که هدررفتن منابع محسوب می‌شد، با توجه به این واقعیت که ما همه مقادیر به جز 10 مورد اول را نادیده می‌گیریم!\n",
    "\n",
    "در واقع، هیچ دلیلی وجود ندارد که تکرارکننده‌ها حتماً باید پایان داشته باشند!\n",
    "کتابخانه ``itertools`` پایتون شامل یک تابع ``count`` است که مانند یک range بی‌پایان عمل می‌کند:"
   ]
  },
  {
   "cell_type": "code",
   "execution_count": null,
   "id": "4b1475ea",
   "metadata": {},
   "outputs": [
    {
     "name": "stdout",
     "output_type": "stream",
     "text": [
      "0, 1, 2, 3, 4, 5, 6, 7, 8, 9, "
     ]
    }
   ],
   "source": [
    "from itertools import count\n",
    "\n",
    "for i in count():\n",
    "    if i >= 10:\n",
    "        break\n",
    "    print(i, end=', ')"
   ]
  },
  {
   "cell_type": "markdown",
   "id": "a148400c",
   "metadata": {},
   "source": [
    "اگر این دستور توقف (`break`) را در حلقه قرار نمی‌دادیم، برنامه به شکلی بی‌وقفه به شمارش ادامه می‌داد تا زمانی که فرآیند به صورت دستی متوقف یا خاتمه داده شود (برای مثال با استفاده از ``ctrl-C``)."
   ]
  },
  {
   "cell_type": "markdown",
   "id": "da5a42f6",
   "metadata": {},
   "source": [
    "## تکرارکننده‌های مفید\n",
    "\n",
    "این سینتکس تکرارکننده تقریباً به صورت جهانی در انواع توکار پایتون و همچنین در اشیاء خاص‌تر مربوط به علم داده که در بخش‌های بعدی بررسی خواهیم کرد، استفاده می‌شود.  \n",
    "در اینجا به برخی از تکرارکننده‌های مفیدتر در زبان پایتون می‌پردازیم:"
   ]
  },
  {
   "cell_type": "markdown",
   "id": "927538bc",
   "metadata": {},
   "source": [
    "### ``enumerate``\n",
    "\n",
    "اغلب نه تنها نیاز به تکرار مقادیر یک آرایه دارید، بلکه باید ایندکس (شماره‌ی) آن‌ها را نیز دنبال کنید.  \n",
    "ممکن است وسوسه شوید که این کار را به صورت زیر انجام دهید:"
   ]
  },
  {
   "cell_type": "code",
   "execution_count": null,
   "id": "db97e998",
   "metadata": {},
   "outputs": [
    {
     "name": "stdout",
     "output_type": "stream",
     "text": [
      "0 2\n",
      "1 4\n",
      "2 6\n",
      "3 8\n",
      "4 10\n"
     ]
    }
   ],
   "source": [
    "L = [2, 4, 6, 8, 10]\n",
    "for i in range(len(L)):\n",
    "    print(i, L[i])"
   ]
  },
  {
   "cell_type": "markdown",
   "id": "60cdb199",
   "metadata": {},
   "source": [
    "اگرچه این روش کار می‌کند، پایتون با استفاده از تکرارکننده ``enumerate`` یک سینتکس تمیزتر ارائه می‌دهد:"
   ]
  },
  {
   "cell_type": "code",
   "execution_count": null,
   "id": "8c372953",
   "metadata": {},
   "outputs": [
    {
     "name": "stdout",
     "output_type": "stream",
     "text": [
      "0 2\n",
      "1 4\n",
      "2 6\n",
      "3 8\n",
      "4 10\n"
     ]
    }
   ],
   "source": [
    "for i, val in enumerate(L):\n",
    "    print(i, val)"
   ]
  },
  {
   "cell_type": "markdown",
   "id": "cace79f8",
   "metadata": {},
   "source": [
    "این روش، راهی «پایتونی‌تر» برای شمارش اندیس‌ها و مقادیر یک لیست است."
   ]
  },
  {
   "cell_type": "markdown",
   "id": "fc4876b7",
   "metadata": {},
   "source": [
    "### ``zip``\n",
    "\n",
    "در مواقع دیگر، ممکن است چندین لیست داشته باشید که می‌خواهید به طور همزمان روی آن‌ها تکرار کنید.  \n",
    "مطمئناً می‌توانید مانند مثال غیرپایتونی که قبلاً بررسی کردیم، روی اندیس تکرار کنید، اما بهتر است از تکرارکننده ``zip`` استفاده کنید که تکرارپذیرها را به هم متصل می‌کند:"
   ]
  },
  {
   "cell_type": "code",
   "execution_count": null,
   "id": "a486e866",
   "metadata": {},
   "outputs": [
    {
     "name": "stdout",
     "output_type": "stream",
     "text": [
      "2 3\n",
      "4 6\n",
      "6 9\n",
      "8 12\n",
      "10 15\n"
     ]
    }
   ],
   "source": [
    "L = [2, 4, 6, 8, 10]\n",
    "R = [3, 6, 9, 12, 15]\n",
    "for lval, rval in zip(L, R):\n",
    "    print(lval, rval)"
   ]
  },
  {
   "cell_type": "markdown",
   "id": "a074fabf",
   "metadata": {},
   "source": [
    "هر تعداد از تکرارپذیرها را می‌توان با هم zip کرد، و اگر طول‌های متفاوتی داشته باشند، کوتاه‌ترین آن‌ها طول ``zip`` را تعیین می‌کند."
   ]
  },
  {
   "cell_type": "markdown",
   "id": "87ec3d54",
   "metadata": {},
   "source": [
    "### ``map`` و ``filter``\n",
    "\n",
    "تکرارکننده ``map`` یک تابع گرفته و آن را روی مقادیر در یک تکرارکننده اعمال می‌کند:"
   ]
  },
  {
   "cell_type": "code",
   "execution_count": null,
   "id": "ed08480b",
   "metadata": {},
   "outputs": [
    {
     "name": "stdout",
     "output_type": "stream",
     "text": [
      "0 1 4 9 16 25 36 49 64 81 "
     ]
    }
   ],
   "source": [
    "# find the first 10 square numbers\n",
    "square = lambda x: x ** 2\n",
    "for val in map(square, range(10)):\n",
    "    print(val, end=' ')"
   ]
  },
  {
   "cell_type": "markdown",
   "id": "5631ad21",
   "metadata": {},
   "source": [
    "تکرارکننده ``filter`` ظاهری مشابه دارد، با این تفاوت که فقط مقادیری را عبور می‌دهد که تابع فیلتر برای آن‌ها True ارزیابی شود:"
   ]
  },
  {
   "cell_type": "code",
   "execution_count": null,
   "id": "c5fcc55b",
   "metadata": {},
   "outputs": [
    {
     "name": "stdout",
     "output_type": "stream",
     "text": [
      "0 2 4 6 8 "
     ]
    }
   ],
   "source": [
    "# find values up to 10 for which x % 2 is zero\n",
    "is_even = lambda x: x % 2 == 0\n",
    "for val in filter(is_even, range(10)):\n",
    "    print(val, end=' ')"
   ]
  },
  {
   "cell_type": "markdown",
   "id": "ca6159a6",
   "metadata": {},
   "source": [
    "توابع ``map`` و ``filter``، به همراه تابع ``reduce`` (که در ماژول ``functools`` پایتون قرار دارد)، از اجزای اساسی سبک *برنامه‌نویسی تابعی* هستند. اگرچه این سبک، شیوهٔ غالب برنامه‌نویسی در دنیای پایتون نیست، اما طرفداران پرحرارتی دارد (برای مثال، کتابخانه [pytoolz](https://toolz.readthedocs.org/en/latest/) را ببینید)."
   ]
  },
  {
   "cell_type": "markdown",
   "id": "f6450d62",
   "metadata": {},
   "source": [
    "### تکرارکننده‌ها به عنوان آرگومان تابع\n",
    "\n",
    "در بخش [``*args`` و ``**kwargs``: آرگومان‌های انعطاف‌پذیر] مشاهده کردیم که از ``*args`` و ``**kwargs`` برای ارسال دنباله‌ها و دیکشنری‌ها به توابع استفاده می‌شود.  \n",
    "مشخص شده که سینتکس ``*args`` نه تنها با دنباله‌ها، بلکه با هر تکرارکننده‌ای کار می‌کند:"
   ]
  },
  {
   "cell_type": "code",
   "execution_count": null,
   "id": "6e88f156",
   "metadata": {},
   "outputs": [
    {
     "name": "stdout",
     "output_type": "stream",
     "text": [
      "0 1 2 3 4 5 6 7 8 9\n"
     ]
    }
   ],
   "source": [
    "print(*range(10))"
   ]
  },
  {
   "cell_type": "markdown",
   "id": "4f1d5eea",
   "metadata": {},
   "source": [
    "بنابراین، برای مثال، می‌توانیم با هوشمندی عمل کرده و نمونه ``map`` قبلی را به شکل زیر فشرده کنیم:"
   ]
  },
  {
   "cell_type": "code",
   "execution_count": null,
   "id": "170a578d",
   "metadata": {},
   "outputs": [
    {
     "name": "stdout",
     "output_type": "stream",
     "text": [
      "0 1 4 9 16 25 36 49 64 81\n"
     ]
    }
   ],
   "source": [
    "print(*map(lambda x: x ** 2, range(10)))"
   ]
  },
  {
   "cell_type": "markdown",
   "id": "8582f969",
   "metadata": {},
   "source": [
    "با استفاده از این ترفند می‌توانیم به پرسش همیشگی که در فروم‌های یادگیری پایتون مطرح می‌شود پاسخ دهیم: چرا تابع ``unzip()`` که برعکس ``zip()`` عمل کند وجود ندارد؟\n",
    "\n",
    "اگر برای مدتی در یک فضای تاریک به آن فکر کنید، ممکن است متوجه شوید که برعکس ``zip()`` در واقع... خود ``zip()`` است! نکته کلیدی این است که ``zip()`` می‌تواند هر تعداد تکرارکننده یا دنباله را با هم ترکیب کند. مشاهده کنید:"
   ]
  },
  {
   "cell_type": "code",
   "execution_count": null,
   "id": "ad8448c2",
   "metadata": {},
   "outputs": [],
   "source": [
    "L1 = (1, 2, 3, 4)\n",
    "L2 = ('a', 'b', 'c', 'd')"
   ]
  },
  {
   "cell_type": "code",
   "execution_count": null,
   "id": "ba8dc8b8",
   "metadata": {},
   "outputs": [
    {
     "name": "stdout",
     "output_type": "stream",
     "text": [
      "(1, 'a') (2, 'b') (3, 'c') (4, 'd')\n"
     ]
    }
   ],
   "source": [
    "z = zip(L1, L2)\n",
    "print(*z)"
   ]
  },
  {
   "cell_type": "code",
   "execution_count": null,
   "id": "17028e8f",
   "metadata": {},
   "outputs": [
    {
     "name": "stdout",
     "output_type": "stream",
     "text": [
      "(1, 2, 3, 4) ('a', 'b', 'c', 'd')\n"
     ]
    }
   ],
   "source": [
    "z = zip(L1, L2)\n",
    "new_L1, new_L2 = zip(*z)\n",
    "print(new_L1, new_L2)"
   ]
  },
  {
   "cell_type": "markdown",
   "id": "1cabe27b",
   "metadata": {},
   "source": [
    "مدتی در این باره تأمل کنید. اگر درک کنید که چرا این روش کار می‌کند، در مسیر فهم تکرارکننده‌های پایتون پیشرفت چشمگیری کرده‌اید!"
   ]
  },
  {
   "cell_type": "markdown",
   "id": "95d25ea3",
   "metadata": {},
   "source": [
    "## تکرارکننده‌های تخصصی: ``itertools``\n",
    "\n",
    "ما قبلاً نگاهی اجمالی به تکرارکننده بی‌نهایت ``range`` یعنی ``itertools.count`` داشتیم.  \n",
    "ماژول ``itertools`` شامل مجموعه‌ای کامل از تکرارکننده‌های مفید است؛ ارزش دارد که زمان بگذارید و ماژول را برای کشف قابلیت‌های موجود بررسی کنید.  \n",
    "\n",
    "به عنوان مثال، تابع ``itertools.permutations`` را در نظر بگیرید که روی تمام جایگشت‌های یک دنباله تکرار می‌کند:"
   ]
  },
  {
   "cell_type": "code",
   "execution_count": null,
   "id": "bbfa6b03",
   "metadata": {},
   "outputs": [
    {
     "name": "stdout",
     "output_type": "stream",
     "text": [
      "(0, 1, 2) (0, 2, 1) (1, 0, 2) (1, 2, 0) (2, 0, 1) (2, 1, 0)\n"
     ]
    }
   ],
   "source": [
    "from itertools import permutations\n",
    "p = permutations(range(3))\n",
    "print(*p)"
   ]
  },
  {
   "cell_type": "markdown",
   "id": "58a4afd8",
   "metadata": {},
   "source": [
    "به طور مشابه، تابع ``itertools.combinations`` روی تمام ترکیب‌های منحصر به فرد ``N`` مقدار درون یک لیست تکرار می‌کند:"
   ]
  },
  {
   "cell_type": "code",
   "execution_count": null,
   "id": "38c19af2",
   "metadata": {},
   "outputs": [
    {
     "name": "stdout",
     "output_type": "stream",
     "text": [
      "(0, 1) (0, 2) (0, 3) (1, 2) (1, 3) (2, 3)\n"
     ]
    }
   ],
   "source": [
    "from itertools import combinations\n",
    "c = combinations(range(4), 2)\n",
    "print(*c)"
   ]
  },
  {
   "cell_type": "markdown",
   "id": "5a98c550",
   "metadata": {},
   "source": [
    "تابع مرتبط دیگر، تکرارکننده ``product`` است که روی تمام مجموعه‌های زوج‌های بین دو یا چند تکرارپذیر تکرار می‌کند:"
   ]
  },
  {
   "cell_type": "code",
   "execution_count": null,
   "id": "7c67c0e8",
   "metadata": {},
   "outputs": [
    {
     "name": "stdout",
     "output_type": "stream",
     "text": [
      "('a', 0) ('a', 1) ('a', 2) ('b', 0) ('b', 1) ('b', 2)\n"
     ]
    }
   ],
   "source": [
    "from itertools import product\n",
    "p = product('ab', range(3))\n",
    "print(*p)"
   ]
  },
  {
   "cell_type": "markdown",
   "id": "8ac4a768",
   "metadata": {},
   "source": [
    "تکرارکننده‌های مفید بسیار دیگری در ``itertools`` وجود دارند: لیست کامل به همراه برخی مثال‌ها در [مستندات آنلاین پایتون](https://docs.python.org/3.5/library/itertools.html) قابل مشاهده است."
   ]
  }
 ],
 "metadata": {
  "language_info": {
   "name": "python"
  }
 },
 "nbformat": 4,
 "nbformat_minor": 5
}
