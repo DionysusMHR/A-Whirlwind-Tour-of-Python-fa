{
 "cells": [
  {
   "cell_type": "markdown",
   "id": "29456dcc",
   "metadata": {},
   "source": [
    "مولدها (Generators)"
   ]
  },
  {
   "cell_type": "markdown",
   "id": "b667d6d0",
   "metadata": {},
   "source": [
    "در این بخش به بررسی عمیق‌تر مولدهای پایتون می‌پردازیم که شامل *عبارات مولد* و *توابع مولد* می‌شود."
   ]
  },
  {
   "cell_type": "markdown",
   "id": "90459c0f",
   "metadata": {},
   "source": [
    "\n",
    "عبارات مولد (Generator Expressions)"
   ]
  },
  {
   "cell_type": "markdown",
   "id": "e8e9f0ec",
   "metadata": {},
   "source": [
    "تفاوت بین فهرست‌سازی (List Comprehensions) و عبارات مولد (Generator Expressions) گاهی اوقات گیج‌کننده است؛ در اینجا به سرعت تفاوت‌های بین آن‌ها را مرور می‌کنیم:"
   ]
  },
  {
   "cell_type": "markdown",
   "id": "e6341af7",
   "metadata": {},
   "source": [
    "### فهرست‌سازی از کروشه استفاده می‌کند، در حالی که عبارات مولد از پرانتز استفاده می‌کنند\n",
    "\n",
    "این یک نمونه از فهرست‌سازی است:"
   ]
  },
  {
   "cell_type": "code",
   "execution_count": null,
   "id": "5921795c",
   "metadata": {},
   "outputs": [
    {
     "data": {
      "text/plain": [
       "[0, 1, 4, 9, 16, 25, 36, 49, 64, 81, 100, 121]"
      ]
     },
     "metadata": {},
     "output_type": "display_data"
    }
   ],
   "source": [
    "[n ** 2 for n in range(12)]"
   ]
  },
  {
   "cell_type": "markdown",
   "id": "57317943",
   "metadata": {},
   "source": [
    "در حالی که این یک نمونه از عبارت مولد است:"
   ]
  },
  {
   "cell_type": "code",
   "execution_count": null,
   "id": "065500da",
   "metadata": {},
   "outputs": [
    {
     "data": {
      "text/plain": [
       "<generator object <genexpr> at 0x104a60518>"
      ]
     },
     "metadata": {},
     "output_type": "display_data"
    }
   ],
   "source": [
    "(n ** 2 for n in range(12))"
   ]
  },
  {
   "cell_type": "markdown",
   "id": "cf348606",
   "metadata": {},
   "source": [
    "توجه کنید که چاپ عبارت مولد، محتوای آن را نمایش نمی‌دهد؛ یکی از راه‌های نمایش محتوای یک عبارت مولد، انتقال آن به سازنده ``list`` است\n",
    ":"
   ]
  },
  {
   "cell_type": "code",
   "execution_count": null,
   "id": "0442a021",
   "metadata": {},
   "outputs": [
    {
     "data": {
      "text/plain": [
       "[0, 1, 4, 9, 16, 25, 36, 49, 64, 81, 100, 121]"
      ]
     },
     "metadata": {},
     "output_type": "display_data"
    }
   ],
   "source": [
    "G = (n ** 2 for n in range(12))\n",
    "list(G)"
   ]
  },
  {
   "cell_type": "markdown",
   "id": "c49bd5c7",
   "metadata": {},
   "source": [
    "### لیست مجموعه‌ای از مقادیر است، در حالی که مولد دستورالعملی برای تولید مقادیر محسوب می‌شود\n",
    "\n",
    "وقتی یک لیست ایجاد می‌کنید، در واقع در حال ساختن یک مجموعه از مقادیر هستید و این امر با هزینه حافظه‌ای همراه است.  \n",
    "اما وقتی یک مولد می‌سازید، مجموعه‌ای از مقادیر نمی‌سازید، بلکه یک دستورالعمل برای تولید آن مقادیر ایجاد می‌کنید.  \n",
    "\n",
    "هر دو، واسط یکسان تکرارکننده را ارائه می‌دهند، همان‌طور که در اینجا مشاهده می‌کنید:"
   ]
  },
  {
   "cell_type": "code",
   "execution_count": null,
   "id": "521c02f5",
   "metadata": {},
   "outputs": [
    {
     "name": "stdout",
     "output_type": "stream",
     "text": [
      "0 1 4 9 16 25 36 49 64 81 100 121 "
     ]
    }
   ],
   "source": [
    "L = [n ** 2 for n in range(12)]\n",
    "for val in L:\n",
    "    print(val, end=' ')"
   ]
  },
  {
   "cell_type": "code",
   "execution_count": null,
   "id": "53f5fefa",
   "metadata": {},
   "outputs": [
    {
     "name": "stdout",
     "output_type": "stream",
     "text": [
      "0 1 4 9 16 25 36 49 64 81 100 121 "
     ]
    }
   ],
   "source": [
    "G = (n ** 2 for n in range(12))\n",
    "for val in G:\n",
    "    print(val, end=' ')"
   ]
  },
  {
   "cell_type": "code",
   "execution_count": null,
   "id": "bb0ba065",
   "metadata": {},
   "outputs": [
    {
     "name": "stdout",
     "output_type": "stream",
     "text": [
      "0 1 4 9 16 25 36 49 64 81 100 121 "
     ]
    }
   ],
   "source": [
    "L = [n ** 2 for n in range(12)]\n",
    "for val in L:\n",
    "    print(val, end=' ')"
   ]
  },
  {
   "cell_type": "markdown",
   "id": "a14081f5",
   "metadata": {},
   "source": [
    "تفاوت در این است که یک عبارت مولد در واقع مقادیر را تا زمانی که مورد نیاز نباشند، محاسبه نمی‌کند.  \n",
    "این نه تنها به کارایی حافظه منجر می‌شود، بلکه به کارایی محاسباتی نیز کمک می‌کند!  \n",
    "این همچنین بدان معناست که در حالی که اندازه یک لیست توسط حافظه موجود محدود می‌شود، اندازه یک عبارت مولد نامحدود است!  \n",
    "\n",
    "یک نمونه از عبارت مولد بی‌پایان را می‌توان با استفاده از تکرارکننده ``count`` تعریف‌شده در ``itertools`` ایجاد کرد:"
   ]
  },
  {
   "cell_type": "code",
   "execution_count": null,
   "id": "7f9b3b0f",
   "metadata": {},
   "outputs": [
    {
     "data": {
      "text/plain": [
       "count(0)"
      ]
     },
     "metadata": {},
     "output_type": "display_data"
    }
   ],
   "source": [
    "from itertools import count\n",
    "count()"
   ]
  },
  {
   "cell_type": "code",
   "execution_count": null,
   "id": "7db0535a",
   "metadata": {},
   "outputs": [
    {
     "name": "stdout",
     "output_type": "stream",
     "text": [
      "0 1 2 3 4 5 6 7 8 9 10 "
     ]
    }
   ],
   "source": [
    "for i in count():\n",
    "    print(i, end=' ')\n",
    "    if i >= 10: break"
   ]
  },
  {
   "cell_type": "markdown",
   "id": "80118be5",
   "metadata": {},
   "source": [
    "تکرارکننده ``count`` با خوشحالی تا بی‌نهایت به شمارش ادامه خواهد داد تا زمانی که به آن بگویید متوقف شود؛ این ویژگی ایجاد مولدهایی که تا ابد ادامه می‌یابند را آسان می‌کند:"
   ]
  },
  {
   "cell_type": "code",
   "execution_count": null,
   "id": "f667a3c2",
   "metadata": {},
   "outputs": [
    {
     "name": "stdout",
     "output_type": "stream",
     "text": [
      "1 11 13 17 19 23 29 31 37 41 "
     ]
    }
   ],
   "source": [
    "factors = [2, 3, 5, 7]\n",
    "G = (i for i in count() if all(i % n > 0 for n in factors))\n",
    "for val in G:\n",
    "    print(val, end=' ')\n",
    "    if val > 40: break"
   ]
  },
  {
   "cell_type": "markdown",
   "id": "786cbbdb",
   "metadata": {},
   "source": [
    "شاید متوجه شده باشید که به چه سمتی داریم می‌رویم: اگر فهرست عوامل را به درستی گسترش دهیم، در واقع شروع به ساخت یک مولد اعداد اول کرده‌ایم که از الگوریتم غربال اراتوستن استفاده می‌کند. به زودی این موضوع را بیشتر بررسی خواهیم کرد."
   ]
  },
  {
   "cell_type": "markdown",
   "id": "6da9fb86",
   "metadata": {},
   "source": [
    "### یک لیست را می‌توان چندین بار تکرار کرد؛ یک عبارت مولد فقط یک بار قابل استفاده است\n",
    "\n",
    "این یکی از آن موارد احتمالی است که در کار با عبارات مولد ممکن است باعث اشتباه شود.  \n",
    "با یک لیست، می‌توانیم به سادگی این کار را انجام دهیم:"
   ]
  },
  {
   "cell_type": "code",
   "execution_count": null,
   "id": "f2952dd2",
   "metadata": {},
   "outputs": [
    {
     "name": "stdout",
     "output_type": "stream",
     "text": [
      "0 1 4 9 16 25 36 49 64 81 100 121 \n",
      "0 1 4 9 16 25 36 49 64 81 100 121 "
     ]
    }
   ],
   "source": [
    "L = [n ** 2 for n in range(12)]\n",
    "for val in L:\n",
    "    print(val, end=' ')\n",
    "print()\n",
    "\n",
    "for val in L:\n",
    "    print(val, end=' ')"
   ]
  },
  {
   "cell_type": "markdown",
   "id": "b22be0fa",
   "metadata": {},
   "source": [
    "از طرف دیگر، یک عبارت مولد پس از یک بار تکرار تمام می‌شود:"
   ]
  },
  {
   "cell_type": "code",
   "execution_count": null,
   "id": "f6f6dc4d",
   "metadata": {},
   "outputs": [
    {
     "data": {
      "text/plain": [
       "[0, 1, 4, 9, 16, 25, 36, 49, 64, 81, 100, 121]"
      ]
     },
     "metadata": {},
     "output_type": "display_data"
    }
   ],
   "source": [
    "G = (n ** 2 for n in range(12))\n",
    "list(G)"
   ]
  },
  {
   "cell_type": "code",
   "execution_count": null,
   "id": "941b15c7",
   "metadata": {},
   "outputs": [],
   "source": [
    "list(G)"
   ]
  },
  {
   "cell_type": "code",
   "execution_count": null,
   "id": "e117d9fb",
   "metadata": {},
   "outputs": [
    {
     "data": {
      "text/plain": [
       "[]"
      ]
     },
     "metadata": {},
     "output_type": "display_data"
    }
   ],
   "source": [
    "list(G)"
   ]
  },
  {
   "cell_type": "markdown",
   "id": "4bc047ee",
   "metadata": {},
   "source": [
    "این ویژگی می‌تواند بسیار مفید باشد زیرا به این معنی است که تکرار می‌تواند متوقف و دوباره شروع شود:"
   ]
  },
  {
   "cell_type": "code",
   "execution_count": null,
   "id": "8c32611e",
   "metadata": {},
   "outputs": [
    {
     "name": "stdout",
     "output_type": "stream",
     "text": [
      "0 1 4 9 16 25 36 \n",
      "doing something in between\n",
      "49 64 81 100 121 "
     ]
    }
   ],
   "source": [
    "G = (n**2 for n in range(12))\n",
    "for n in G:\n",
    "    print(n, end=' ')\n",
    "    if n > 30: break\n",
    "\n",
    "print(\"\\ndoing something in between\")\n",
    "\n",
    "for n in G:\n",
    "    print(n, end=' ')"
   ]
  },
  {
   "cell_type": "markdown",
   "id": "3f4913f7",
   "metadata": {},
   "source": [
    "یکی از جاهایی که این ویژگی را مفید یافته‌ام، هنگام کار با مجموعه‌ای از فایل‌های داده روی دیسک است؛ این یعنی می‌توانید به راحتی آن‌ها را به صورت دسته‌ای تحلیل کنید و اجازه دهید مولد پیگیری کند که کدام یک را هنوز مشاهده نکرده‌اید."
   ]
  },
  {
   "cell_type": "markdown",
   "id": "4c7bbb07",
   "metadata": {},
   "source": [
    "## توابع مولد: استفاده از ``yield``\n",
    "\n",
    "در بخش قبل دیدیم که فهرست‌سازی (List Comprehensions) برای ایجاد لیست‌های نسبتاً ساده بهترین کاربرد را دارد، در حالی که استفاده از یک حلقه عادی ``for`` می‌تواند در موقعیت‌های پیچیده‌تر مناسب‌تر باشد.  \n",
    "همین موضوع در مورد عبارات مولد نیز صادق است: ما می‌توانیم با استفاده از *توابع مولد* که از دستور ``yield`` استفاده می‌کنند، مولدهای پیچیده‌تری ایجاد کنیم.\n",
    "\n",
    "در اینجا دو روش برای ساخت یک لیست یکسان داریم:"
   ]
  },
  {
   "cell_type": "code",
   "execution_count": null,
   "id": "e063c1b4",
   "metadata": {},
   "outputs": [
    {
     "name": "stdout",
     "output_type": "stream",
     "text": [
      "[0, 1, 4, 9, 16, 25, 36, 49, 64, 81, 100, 121]\n",
      "[0, 1, 4, 9, 16, 25, 36, 49, 64, 81, 100, 121]\n"
     ]
    }
   ],
   "source": [
    "L1 = [n ** 2 for n in range(12)]\n",
    "\n",
    "L2 = []\n",
    "for n in range(12):\n",
    "    L2.append(n ** 2)\n",
    "\n",
    "print(L1)\n",
    "print(L2)"
   ]
  },
  {
   "cell_type": "markdown",
   "id": "19ec59c2",
   "metadata": {},
   "source": [
    "به طور مشابه، در اینجا دو روش برای ساخت مولدهای معادل داریم:"
   ]
  },
  {
   "cell_type": "code",
   "execution_count": null,
   "id": "5cc5babb",
   "metadata": {},
   "outputs": [
    {
     "name": "stdout",
     "output_type": "stream",
     "text": [
      "0 1 4 9 16 25 36 49 64 81 100 121\n",
      "0 1 4 9 16 25 36 49 64 81 100 121\n"
     ]
    }
   ],
   "source": [
    "G1 = (n ** 2 for n in range(12))\n",
    "\n",
    "def gen():\n",
    "    for n in range(12):\n",
    "        yield n ** 2\n",
    "\n",
    "G2 = gen()\n",
    "print(*G1)\n",
    "print(*G2)"
   ]
  },
  {
   "cell_type": "code",
   "execution_count": null,
   "id": "b2b8b083",
   "metadata": {},
   "outputs": [
    {
     "name": "stdout",
     "output_type": "stream",
     "text": [
      "0 1 4 9 16 25 36 49 64 81 100 121\n",
      "0 1 4 9 16 25 36 49 64 81 100 121\n"
     ]
    }
   ],
   "source": [
    "G1 = (n ** 2 for n in range(12))\n",
    "\n",
    "def gen():\n",
    "    for n in range(12):\n",
    "        yield n ** 2\n",
    "\n",
    "G2 = gen()\n",
    "print(*G1)\n",
    "print(*G2)"
   ]
  },
  {
   "cell_type": "markdown",
   "id": "0737c7db",
   "metadata": {},
   "source": [
    "یک تابع مولد، تابعی است که به جای استفاده از ``return`` برای بازگرداندن یک مقدار به صورت یک‌باره، از ``yield`` برای تولید یک دنباله (احتمالاً بی‌پایان) از مقادیر استفاده می‌کند.  \n",
    "دقیقاً مانند عبارات مولد، وضعیت مولد بین تکرارهای جزئی حفظ می‌شود، اما اگر بخواهیم یک کپی تازه از مولد داشته باشیم، می‌توانیم به سادگی دوباره تابع را فراخوانی کنیم."
   ]
  },
  {
   "cell_type": "markdown",
   "id": "62d046cf",
   "metadata": {},
   "source": [
    "## مثال: مولد اعداد اول  \n",
    "در اینجا مثال مورد علاقه‌ام از یک تابع مولد را نشان می‌دهم: تابعی برای تولید یک سری نامحدود از اعداد اول.  \n",
    "یک الگوریتم کلاسیک برای این کار *غربال اراتوستن* است که به این صورت عمل می‌کند:"
   ]
  },
  {
   "cell_type": "code",
   "execution_count": null,
   "id": "f727ec56",
   "metadata": {},
   "outputs": [
    {
     "name": "stdout",
     "output_type": "stream",
     "text": [
      "[2, 3, 4, 5, 6, 7, 8, 9, 10, 11, 12, 13, 14, 15, 16, 17, 18, 19, 20, 21, 22, 23, 24, 25, 26, 27, 28, 29, 30, 31, 32, 33, 34, 35, 36, 37, 38, 39]\n"
     ]
    }
   ],
   "source": [
    "# Generate a list of candidates\n",
    "L = [n for n in range(2, 40)]\n",
    "print(L)"
   ]
  },
  {
   "cell_type": "code",
   "execution_count": null,
   "id": "538f5aa0",
   "metadata": {},
   "outputs": [
    {
     "name": "stdout",
     "output_type": "stream",
     "text": [
      "[2, 3, 5, 7, 9, 11, 13, 15, 17, 19, 21, 23, 25, 27, 29, 31, 33, 35, 37, 39]\n"
     ]
    }
   ],
   "source": [
    "# Remove all multiples of the first value\n",
    "L = [n for n in L if n == L[0] or n % L[0] > 0]\n",
    "print(L)"
   ]
  },
  {
   "cell_type": "code",
   "execution_count": null,
   "id": "a5b04c5f",
   "metadata": {},
   "outputs": [
    {
     "name": "stdout",
     "output_type": "stream",
     "text": [
      "[2, 3, 5, 7, 11, 13, 17, 19, 23, 25, 29, 31, 35, 37]\n"
     ]
    }
   ],
   "source": [
    "# Remove all multiples of the second value\n",
    "L = [n for n in L if n == L[1] or n % L[1] > 0]\n",
    "print(L)"
   ]
  },
  {
   "cell_type": "code",
   "execution_count": null,
   "id": "3de44aae",
   "metadata": {},
   "outputs": [
    {
     "name": "stdout",
     "output_type": "stream",
     "text": [
      "[2, 3, 5, 7, 11, 13, 17, 19, 23, 29, 31, 37]\n"
     ]
    }
   ],
   "source": [
    "# Remove all multiples of the third value\n",
    "L = [n for n in L if n == L[2] or n % L[2] > 0]\n",
    "print(L)"
   ]
  },
  {
   "cell_type": "markdown",
   "id": "2f9b3e27",
   "metadata": {},
   "source": [
    "اگر این روش را به تعداد کافی روی یک لیست به اندازه کافی بزرگ تکرار کنیم، می‌توانیم هر تعداد عدد اول که می‌خواهیم تولید کنیم.\n",
    "\n",
    "بیایید این منطق را در یک تابع مولد کپسوله کنیم:"
   ]
  },
  {
   "cell_type": "code",
   "execution_count": null,
   "id": "d7078599",
   "metadata": {},
   "outputs": [
    {
     "name": "stdout",
     "output_type": "stream",
     "text": [
      "2 3 5 7 11 13 17 19 23 29 31 37 41 43 47 53 59 61 67 71 73 79 83 89 97\n"
     ]
    }
   ],
   "source": [
    "def gen_primes(N):\n",
    "    \"\"\"Generate primes up to N\"\"\"\n",
    "    primes = set()\n",
    "    for n in range(2, N):\n",
    "        if all(n % p > 0 for p in primes):\n",
    "            primes.add(n)\n",
    "            yield n\n",
    "\n",
    "print(*gen_primes(100))"
   ]
  },
  {
   "cell_type": "markdown",
   "id": "134920b5",
   "metadata": {},
   "source": [
    "تمام ماجرا همین است!  \n",
    "اگرچه این قطعاً کارآمدترین پیاده‌سازی محاسباتی غربال اراتوستن نیست، اما نشان می‌دهد که سینتکس تابع مولد چقدر می‌تواند برای ساخت دنباله‌های پیچیده‌تر مناسب باشد."
   ]
  }
 ],
 "metadata": {
  "language_info": {
   "name": "python"
  }
 },
 "nbformat": 4,
 "nbformat_minor": 5
}
