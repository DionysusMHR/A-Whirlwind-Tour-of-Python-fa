{
 "cells": [
  {
   "cell_type": "markdown",
   "id": "605a8181",
   "metadata": {},
   "source": [
    "# تعریف و استفاده از توابع"
   ]
  },
  {
   "cell_type": "markdown",
   "id": "b7841791",
   "metadata": {},
   "source": [
    "تاکنون، اسکریپت‌های ما بلوک‌های کد ساده و یک‌بارمصرف بوده‌اند.  \n",
    "یکی از راه‌های سازماندهی کد پایتون و خوانایی و استفاده مجدد از آن، استخراج بخش‌های مفید و تبدیل آن‌ها به *توابع* قابل استفاده مجدد است.  \n",
    "در اینجا دو روش برای ایجاد توابع را پوشش می‌دهیم: دستور ``def`` که برای هر نوع تابعی مفید است، و دستور ``lambda`` که برای ایجاد توابع کوتاه ناشناس مفید می‌باشد."
   ]
  },
  {
   "cell_type": "markdown",
   "id": "a9858b2b",
   "metadata": {},
   "source": [
    "## استفاده از توابع\n",
    "\n",
    "توابع گروه‌هایی از کد هستند که یک نام دارند و می‌توان آن‌ها را با استفاده از پرانتز فراخوانی کرد.  \n",
    "قبلاً با توابع آشنا شده‌اید. برای مثال، ``print`` در پایتون 3 یک تابع است:"
   ]
  },
  {
   "cell_type": "code",
   "execution_count": null,
   "id": "361f87ff",
   "metadata": {},
   "outputs": [
    {
     "name": "stdout",
     "output_type": "stream",
     "text": [
      "abc\n"
     ]
    }
   ],
   "source": [
    "print('abc')"
   ]
  },
  {
   "cell_type": "markdown",
   "id": "1bd73736",
   "metadata": {},
   "source": [
    "در اینجا ``print`` نام تابع و ``'abc'`` *آرگومان* تابع است.\n",
    "\n",
    "علاوه بر آرگومان‌ها، *آرگومان‌های کلیدی* نیز وجود دارند که توسط نام مشخص می‌شوند.  \n",
    "یکی از آرگومان‌های کلیدی موجود برای تابع ``print()`` (در پایتون 3) ``sep`` است که مشخص می‌کند از چه کاراکتر یا کاراکترهایی برای جدا کردن چندین مورد باید استفاده شود:"
   ]
  },
  {
   "cell_type": "code",
   "execution_count": null,
   "id": "b2129c8e",
   "metadata": {},
   "outputs": [
    {
     "name": "stdout",
     "output_type": "stream",
     "text": [
      "1 2 3\n"
     ]
    }
   ],
   "source": [
    "print(1, 2, 3)"
   ]
  },
  {
   "cell_type": "code",
   "execution_count": null,
   "id": "5edf1316",
   "metadata": {},
   "outputs": [
    {
     "name": "stdout",
     "output_type": "stream",
     "text": [
      "1--2--3\n"
     ]
    }
   ],
   "source": [
    "print(1, 2, 3, sep='--')"
   ]
  },
  {
   "cell_type": "markdown",
   "id": "3de09911",
   "metadata": {},
   "source": [
    "هنگامی که از آرگومان‌های غیرکلیدی همراه با آرگومان‌های کلیدی استفاده می‌شود، آرگومان‌های کلیدی باید در انتها قرار گیرند."
   ]
  },
  {
   "cell_type": "markdown",
   "id": "bf24a3be",
   "metadata": {},
   "source": [
    "Now we have a function named ``fibonacci`` which takes a single argument ``N``, does something with this argument, and ``return``s a value; in this case, a list of the first ``N`` Fibonacci numbers:"
   ]
  },
  {
   "cell_type": "code",
   "execution_count": null,
   "id": "9b6928ab",
   "metadata": {},
   "outputs": [],
   "source": [
    "def fibonacci(N):\n",
    "    L = []\n",
    "    a, b = 0, 1\n",
    "    while len(L) < N:\n",
    "        a, b = b, a + b\n",
    "        L.append(a)\n",
    "    return L"
   ]
  },
  {
   "cell_type": "markdown",
   "id": "f30312ed",
   "metadata": {},
   "source": [
    "اکنون یک تابع به نام ``fibonacci`` داریم که یک آرگومان ``N`` می‌گیرد، کاری با این آرگومان انجام می‌دهد و یک مقدار ``برمی‌گرداند``؛ در این مورد، یک لیست از ``N`` عدد اول فیبوناچی:"
   ]
  },
  {
   "cell_type": "code",
   "execution_count": null,
   "id": "9719f5cb",
   "metadata": {},
   "outputs": [
    {
     "data": {
      "text/plain": [
       "[1, 1, 2, 3, 5, 8, 13, 21, 34, 55]"
      ]
     },
     "metadata": {},
     "output_type": "display_data"
    }
   ],
   "source": [
    "fibonacci(10)"
   ]
  },
  {
   "cell_type": "markdown",
   "id": "9fc00d1e",
   "metadata": {},
   "source": [
    "اگر با زبان‌های strongly-typed مانند ``C`` آشنا باشید، بلافاصله متوجه خواهید شد که هیچ اطلاعات نوعی مرتبط با ورودی‌ها یا خروجی‌های تابع وجود ندارد.  \n",
    "توابع پایتون می‌توانند هر شیء پایتون، ساده یا مرکب را بازگردانند، که به این معنی است که ساختارهایی که در سایر زبان‌ها ممکن است دشوار باشند، در پایتون ساده هستند.  \n",
    "\n",
    "برای مثال، چندین مقدار بازگشتی به سادگی در یک تاپل قرار می‌گیرند که با کاما مشخص می‌شوند:"
   ]
  },
  {
   "cell_type": "code",
   "execution_count": null,
   "id": "1ca15a98",
   "metadata": {},
   "outputs": [
    {
     "name": "stdout",
     "output_type": "stream",
     "text": [
      "3.0 4.0 (3-4j)\n"
     ]
    }
   ],
   "source": [
    "def real_imag_conj(val):\n",
    "    return val.real, val.imag, val.conjugate()\n",
    "\n",
    "r, i, c = real_imag_conj(3 + 4j)\n",
    "print(r, i, c)"
   ]
  },
  {
   "cell_type": "markdown",
   "id": "a8a3dc1c",
   "metadata": {},
   "source": [
    "## مقادیر پیش‌فرض آرگومان‌ها\n",
    "\n",
    "اغلب هنگام تعریف یک تابع، مقادیر مشخصی وجود دارند که می‌خواهیم تابع در *بیشتر* مواقع از آن‌ها استفاده کند، اما در عین حال می‌خواهیم به کاربر انعطاف‌پذیری بدهیم.  \n",
    "در این حالت می‌توانیم از *مقادیر پیش‌فرض* برای آرگومان‌ها استفاده کنیم.  \n",
    "تابع ``fibonacci`` قبلی را در نظر بگیرید.  \n",
    "چه می‌شود اگر بخواهیم کاربر بتواند با مقادیر شروع کار کند؟  \n",
    "می‌توانیم این کار را به صورت زیر انجام دهیم:"
   ]
  },
  {
   "cell_type": "code",
   "execution_count": null,
   "id": "3ee1cc96",
   "metadata": {},
   "outputs": [],
   "source": [
    "def fibonacci(N, a=0, b=1):\n",
    "    L = []\n",
    "    while len(L) < N:\n",
    "        a, b = b, a + b\n",
    "        L.append(a)\n",
    "    return L"
   ]
  },
  {
   "cell_type": "markdown",
   "id": "b49ba3ee",
   "metadata": {},
   "source": [
    "با یک آرگومان، نتیجه فراخوانی تابع مشابه قبل است:"
   ]
  },
  {
   "cell_type": "code",
   "execution_count": null,
   "id": "24348f7a",
   "metadata": {},
   "outputs": [
    {
     "data": {
      "text/plain": [
       "[1, 1, 2, 3, 5, 8, 13, 21, 34, 55]"
      ]
     },
     "metadata": {},
     "output_type": "display_data"
    }
   ],
   "source": [
    "fibonacci(10)"
   ]
  },
  {
   "cell_type": "markdown",
   "id": "04ae45b6",
   "metadata": {},
   "source": [
    "اما اکنون می‌توانیم از تابع برای کاوش موارد جدید استفاده کنیم، مانند تأثیر مقادیر شروع جدید:"
   ]
  },
  {
   "cell_type": "code",
   "execution_count": null,
   "id": "16fe9c54",
   "metadata": {},
   "outputs": [
    {
     "data": {
      "text/plain": [
       "[2, 2, 4, 6, 10, 16, 26, 42, 68, 110]"
      ]
     },
     "metadata": {},
     "output_type": "display_data"
    }
   ],
   "source": [
    "fibonacci(10, 0, 2)"
   ]
  },
  {
   "cell_type": "markdown",
   "id": "b59f04c2",
   "metadata": {},
   "source": [
    "مقادیر همچنین در صورت تمایل می‌توانند بر اساس نام مشخص شوند، که در این case ترتیب مقادیر نام‌گذاری شده اهمیتی ندارد:"
   ]
  },
  {
   "cell_type": "code",
   "execution_count": null,
   "id": "de6efb3d",
   "metadata": {},
   "outputs": [
    {
     "data": {
      "text/plain": [
       "[3, 4, 7, 11, 18, 29, 47, 76, 123, 199]"
      ]
     },
     "metadata": {},
     "output_type": "display_data"
    }
   ],
   "source": [
    "fibonacci(10, b=3, a=1)"
   ]
  },
  {
   "cell_type": "markdown",
   "id": "55e3d8f1",
   "metadata": {},
   "source": [
    "## ``*args`` و ``**kwargs``: آرگومان‌های انعطاف‌پذیر  \n",
    "گاهی ممکن است بخواهید تابعی بنویسید که در ابتدا نمی‌دانید کاربر چند آرگومان ارسال خواهد کرد.  \n",
    "در این حالت می‌توانید از فرم خاص ``*args`` و ``**kwargs`` برای دریافت تمام آرگومان‌های ارسال شده استفاده کنید.  \n",
    "در اینجا یک مثال آورده شده است:"
   ]
  },
  {
   "cell_type": "code",
   "execution_count": null,
   "id": "110ab8eb",
   "metadata": {},
   "outputs": [],
   "source": [
    "def catch_all(*args, **kwargs):\n",
    "    print(\"args =\", args)\n",
    "    print(\"kwargs = \", kwargs)"
   ]
  },
  {
   "cell_type": "code",
   "execution_count": null,
   "id": "3bf4902e",
   "metadata": {},
   "outputs": [
    {
     "name": "stdout",
     "output_type": "stream",
     "text": [
      "args = (1, 2, 3)\n",
      "kwargs =  {'a': 4, 'b': 5}\n"
     ]
    }
   ],
   "source": [
    "catch_all(1, 2, 3, a=4, b=5)"
   ]
  },
  {
   "cell_type": "code",
   "execution_count": null,
   "id": "5dc8cc56",
   "metadata": {},
   "outputs": [
    {
     "name": "stdout",
     "output_type": "stream",
     "text": [
      "args = ('a',)\n",
      "kwargs =  {'keyword': 2}\n"
     ]
    }
   ],
   "source": [
    "catch_all('a', keyword=2)"
   ]
  },
  {
   "cell_type": "markdown",
   "id": "80c31c90",
   "metadata": {},
   "source": [
    "در اینجا نام‌های ``args`` و ``kwargs`` مهم نیستند، بلکه کاراکترهای ``*`` قبل از آن‌ها اهمیت دارند.  \n",
    "``args`` و ``kwargs`` فقط نام‌های متغیری هستند که معمولاً بر اساس قرارداد استفاده می‌شوند، مخفف «آرگومان‌ها» و «آرگومان‌های کلیدی».  \n",
    "تفاوت عملی در کاراکترهای ستاره است: یک ``*`` قبل از یک متغیر به معنای «این را به عنوان یک دنباله گسترش بده» است، در حالی که ``**`` قبل از یک متغیر به معنای «این را به عنوان یک دیکشنری گسترش بده» است.  \n",
    "در واقع، این سینتکس نه تنها در تعریف تابع، بلکه در فراخوانی تابع نیز می‌تواند استفاده شود!"
   ]
  },
  {
   "cell_type": "code",
   "execution_count": null,
   "id": "69fb317c",
   "metadata": {},
   "outputs": [
    {
     "name": "stdout",
     "output_type": "stream",
     "text": [
      "args = (1, 2, 3)\n",
      "kwargs =  {'pi': 3.14}\n"
     ]
    }
   ],
   "source": [
    "inputs = (1, 2, 3)\n",
    "keywords = {'pi': 3.14}\n",
    "\n",
    "catch_all(*inputs, **keywords)"
   ]
  },
  {
   "cell_type": "markdown",
   "id": "a87d9e8c",
   "metadata": {},
   "source": [
    "## توابع ناشناس (``lambda``)  \n",
    "پیش‌تر به طور خلاصه رایج‌ترین روش تعریف توابع، یعنی دستور ``def`` را پوشش دادیم.  \n",
    "احتمالاً با روش دیگری برای تعریف توابع کوتاه و یک‌بارمصرف با دستور ``lambda`` برخورد خواهید کرد.  \n",
    "این دستور به این شکل است:"
   ]
  },
  {
   "cell_type": "code",
   "execution_count": null,
   "id": "7a06c81b",
   "metadata": {},
   "outputs": [
    {
     "data": {
      "text/plain": [
       "3"
      ]
     },
     "metadata": {},
     "output_type": "display_data"
    }
   ],
   "source": [
    "add = lambda x, y: x + y\n",
    "add(1, 2)"
   ]
  },
  {
   "cell_type": "markdown",
   "id": "a3fa5114",
   "metadata": {},
   "source": [
    "این تابع لامبدا تقریباً معادل است با:"
   ]
  },
  {
   "cell_type": "code",
   "execution_count": null,
   "id": "cd1c0be6",
   "metadata": {},
   "outputs": [],
   "source": [
    "def add(x, y):\n",
    "    return x + y"
   ]
  },
  {
   "cell_type": "markdown",
   "id": "9c05a6ee",
   "metadata": {},
   "source": [
    "پس چرا باید از چنین چیزی استفاده کنید؟  \n",
    "در درجه اول، این موضوع به این حقیقت برمی‌گردد که *همه چیز در پایتون یک شیء است*، حتی خود توابع!  \n",
    "این یعنی توابع می‌توانند به عنوان آرگومان به توابع دیگر منتقل شوند.  \n",
    "\n",
    "به عنوان مثال، فرض کنید داده‌هایی در یک لیست از دیکشنری‌ها ذخیره شده است:"
   ]
  },
  {
   "cell_type": "code",
   "execution_count": null,
   "id": "d09432aa",
   "metadata": {},
   "outputs": [],
   "source": [
    "data = [{'first':'Guido', 'last':'Van Rossum', 'YOB':1956},\n",
    "        {'first':'Grace', 'last':'Hopper',     'YOB':1906},\n",
    "        {'first':'Alan',  'last':'Turing',     'YOB':1912}]"
   ]
  },
  {
   "cell_type": "markdown",
   "id": "ee103f06",
   "metadata": {},
   "source": [
    "حال فرض کنید می‌خواهیم این داده‌ها را مرتب کنیم.  \n",
    "پایتون یک تابع ``sorted`` دارد که این کار را انجام می‌دهد:"
   ]
  },
  {
   "cell_type": "code",
   "execution_count": null,
   "id": "2e9659fd",
   "metadata": {},
   "outputs": [
    {
     "data": {
      "text/plain": [
       "[1, 2, 3, 4, 5, 6]"
      ]
     },
     "metadata": {},
     "output_type": "display_data"
    }
   ],
   "source": [
    "sorted([2,4,3,5,1,6])"
   ]
  },
  {
   "cell_type": "code",
   "execution_count": null,
   "id": "00e2bdc9",
   "metadata": {},
   "outputs": [],
   "source": [
    "data = [{'first':'Guido', 'last':'Van Rossum', 'YOB':1956},\n",
    "        {'first':'Grace', 'last':'Hopper',     'YOB':1906},\n",
    "        {'first':'Alan',  'last':'Turing',     'YOB':1912}]"
   ]
  },
  {
   "cell_type": "markdown",
   "id": "925fff12",
   "metadata": {},
   "source": [
    "دیکشنری‌ها قابل مرتب‌سازی نیستند: به یک راه نیاز داریم تا به تابع بگوییم *چگونه* داده‌های ما را مرتب کند.  \n",
    "این کار را می‌توانیم با مشخص کردن تابع ``key`` انجام دهیم، تابعی که با دریافت یک آیتم، کلید مرتب‌سازی مربوط به آن آیتم را برمی‌گرداند."
   ]
  },
  {
   "cell_type": "code",
   "execution_count": null,
   "id": "913557ae",
   "metadata": {},
   "outputs": [
    {
     "data": {
      "text/plain": [
       "[{'YOB': 1912, 'first': 'Alan', 'last': 'Turing'},\n",
       " {'YOB': 1906, 'first': 'Grace', 'last': 'Hopper'},\n",
       " {'YOB': 1956, 'first': 'Guido', 'last': 'Van Rossum'}]"
      ]
     },
     "metadata": {},
     "output_type": "display_data"
    }
   ],
   "source": [
    "# sort alphabetically by first name\n",
    "sorted(data, key=lambda item: item['first'])"
   ]
  },
  {
   "cell_type": "code",
   "execution_count": null,
   "id": "6906a53e",
   "metadata": {},
   "outputs": [
    {
     "data": {
      "text/plain": [
       "[{'YOB': 1906, 'first': 'Grace', 'last': 'Hopper'},\n",
       " {'YOB': 1912, 'first': 'Alan', 'last': 'Turing'},\n",
       " {'YOB': 1956, 'first': 'Guido', 'last': 'Van Rossum'}]"
      ]
     },
     "metadata": {},
     "output_type": "display_data"
    }
   ],
   "source": [
    "# sort by year of birth\n",
    "sorted(data, key=lambda item: item['YOB'])"
   ]
  },
  {
   "cell_type": "markdown",
   "id": "ca0afaba",
   "metadata": {},
   "source": [
    "با اینکه این توابع کلید قطعاً می‌توانند با سینتکس معمولی ``def`` ساخته شوند، اما سینتکس ``lambda`` برای چنین توابع کوتاه و یک‌بارمصرفی مناسب‌تر است.\n"
   ]
  }
 ],
 "metadata": {
  "language_info": {
   "name": "python"
  }
 },
 "nbformat": 4,
 "nbformat_minor": 5
}
