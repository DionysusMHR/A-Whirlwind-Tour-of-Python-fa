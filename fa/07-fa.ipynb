{
 "cells": [
  {
   "cell_type": "markdown",
   "id": "c0c0c8b2",
   "metadata": {},
   "source": [
    "# کنترل جریان اجرا (Control Flow)"
   ]
  },
  {
   "cell_type": "markdown",
   "id": "1021c733",
   "metadata": {},
   "source": [
    "**Control Flow** یا کنترل جریان اجرا، جایی است که برنامه‌نویسی واقعاً معنای عملی پیدا می‌کند. بدون آن، یک برنامه صرفاً لیستی از دستورات است که به صورت متوالی اجرا می‌شوند. با کنترل جریان، شما می‌توانید بلوک‌های خاصی از کد را به صورت شرطی و/یا تکراری اجرا کنید: این بلوک‌های سازنده پایه می‌توانند ترکیب شده تا برنامه‌هایی به طور شگفت‌انگیزی پیچیده ایجاد کنند!\n",
    "\n",
    "در اینجا به **دستورات شرطی** (شامل `if`، `elif` و `else`) و **دستورات حلقه** (شامل `for` و `while` و همراهان آنها یعنی `break`، `continue` و `pass`) خواهیم پرداخت."
   ]
  },
  {
   "cell_type": "markdown",
   "id": "6f42dcb8",
   "metadata": {},
   "source": [
    "## دستورات شرطی: `if`-`elif`-`else`:\n",
    "\n",
    "دستورات شرطی که اغلب به عنوان دستورات *if-then* شناخته می‌شوند، به برنامه‌نویس اجازه می‌دهند قطعات خاصی از کد را بسته به برخی شرایط Boolean اجرا کند.\n",
    "\n",
    "یک مثال پایه از دستور شرطی در پایتون به این صورت است:"
   ]
  },
  {
   "cell_type": "code",
   "execution_count": null,
   "id": "047275fa",
   "metadata": {},
   "outputs": [
    {
     "name": "stdout",
     "output_type": "stream",
     "text": [
      "-15 is negative\n"
     ]
    }
   ],
   "source": [
    "x = -15\n",
    "\n",
    "if x == 0:\n",
    "    print(x, \"is zero\")\n",
    "elif x > 0:\n",
    "    print(x, \"is positive\")\n",
    "elif x < 0:\n",
    "    print(x, \"is negative\")\n",
    "else:\n",
    "    print(x, \"is unlike anything I've ever seen...\")"
   ]
  },
  {
   "cell_type": "markdown",
   "id": "b87a0e30",
   "metadata": {},
   "source": [
    "به ویژه به استفاده از دونقطه (`:`) و فاصله سفید (**whitespace**) برای مشخص کردن بلوک‌های جداگانه کد توجه کنید.\n",
    "\n",
    "پایتون از `if` و `else` که اغلب در زبان‌های دیگر استفاده می‌شوند، بهره می‌برد؛ اما کلمه کلیدی منحصر به فرد‌تر آن `elif` است که مخفف \"else if\" می‌باشد.\n",
    "در این clauseهای شرطی، بلوک‌های `elif` و `else` اختیاری هستند؛ علاوه بر این، می‌توانید به تعداد دلخواه از دستورات `elif` استفاده کنید."
   ]
  },
  {
   "cell_type": "markdown",
   "id": "9b402e62",
   "metadata": {},
   "source": [
    "## حلقه‌های `for`\n",
    "\n",
    "حلقه‌ها در پایتون راهی برای اجرای مکرر یک دستور کد هستند.\n",
    "برای مثال، اگر بخواهیم هر یک از آیتم‌های موجود در یک لیست را چاپ کنیم، می‌توانیم از یک حلقه `for` استفاده کنیم:"
   ]
  },
  {
   "cell_type": "code",
   "execution_count": null,
   "id": "5efe31fc",
   "metadata": {},
   "outputs": [
    {
     "name": "stdout",
     "output_type": "stream",
     "text": [
      "2 3 5 7 "
     ]
    }
   ],
   "source": [
    "for N in [2, 3, 5, 7]:\n",
    "    print(N, end=' ') # print all on same line"
   ]
  },
  {
   "cell_type": "markdown",
   "id": "0fefb033",
   "metadata": {},
   "source": [
    "به سادگی حلقه `for` توجه کنید: متغیری که می‌خواهیم استفاده کنیم را مشخص می‌کنیم، دنباله‌ای که می‌خواهیم روی آن حلقه بزنیم را تعیین می‌کنیم و از عملگر `in` برای ارتباط آن‌ها به شیوه‌ای قابل درک و خوانا استفاده می‌کنیم.\n",
    "\n",
    "به طور دقیق‌تر، آبجکت سمت راست `in` می‌تواند هر **iterator** پایتون باشد. یک **iterator** را می‌توان به عنوان یک دنباله تعمیم یافته در نظر گرفت که در بخش [Iterators](10-Iterators.ipynb) در مورد آن‌ها بحث خواهیم کرد.\n",
    "\n",
    "برای مثال، یکی از پرکاربردترین **iterator**ها در پایتون، آبجکت `range` است که یک دنباله از اعداد تولید می‌کند:"
   ]
  },
  {
   "cell_type": "code",
   "execution_count": null,
   "id": "3a88416f",
   "metadata": {},
   "outputs": [
    {
     "name": "stdout",
     "output_type": "stream",
     "text": [
      "0 1 2 3 4 5 6 7 8 9 "
     ]
    }
   ],
   "source": [
    "for i in range(10):\n",
    "    print(i, end=' ')"
   ]
  },
  {
   "cell_type": "markdown",
   "id": "737984fc",
   "metadata": {},
   "source": [
    "توجه کنید که به طور پیش‌فرض، `range` از صفر شروع می‌شود و طبق قرارداد، عدد انتهایی در خروجی شامل نمی‌شود.\n",
    "\n",
    "آبجکت‌های `range` می‌توانند مقادیر پیچیده‌تری نیز داشته باشند:"
   ]
  },
  {
   "cell_type": "code",
   "execution_count": null,
   "id": "1064af75",
   "metadata": {},
   "outputs": [
    {
     "data": {
      "text/plain": [
       "[5, 6, 7, 8, 9]"
      ]
     },
     "metadata": {},
     "output_type": "display_data"
    }
   ],
   "source": [
    "# range from 5 to 10\n",
    "list(range(5, 10))"
   ]
  },
  {
   "cell_type": "code",
   "execution_count": null,
   "id": "9395eba4",
   "metadata": {},
   "outputs": [
    {
     "data": {
      "text/plain": [
       "[0, 2, 4, 6, 8]"
      ]
     },
     "metadata": {},
     "output_type": "display_data"
    }
   ],
   "source": [
    "# range from 0 to 10 by 2\n",
    "list(range(0, 10, 2))"
   ]
  },
  {
   "cell_type": "markdown",
   "id": "ed1b99f2",
   "metadata": {},
   "source": [
    "ممکن است متوجه شده باشید که معنای آرگومان‌های `range` بسیار شبیه به syntax برش زنی (**slicing**) است که در بخش [لیست‌ها](06-Built-in-Data-Structures.ipynb#Lists) پوشش دادیم.\n",
    "\n",
    "توجه داشته باشید که رفتار `range()` یکی از تفاوت‌های بین پایتون ۲ و پایتون ۳ است: در پایتون ۲، `range()` یک لیست تولید می‌کند، در حالی که در پایتون ۳، `range()` یک آبجکت قابل تکرار (**iterable**) تولید می‌کند."
   ]
  },
  {
   "cell_type": "markdown",
   "id": "51045314",
   "metadata": {},
   "source": [
    "## حلقه‌های `while`\n",
    "\n",
    "نوع دیگر حلقه در پایتون، حلقه `while` است که تا زمانی که یک شرط برقرار باشد، به تکرار ادامه می‌دهد:"
   ]
  },
  {
   "cell_type": "code",
   "execution_count": null,
   "id": "126c6224",
   "metadata": {},
   "outputs": [
    {
     "name": "stdout",
     "output_type": "stream",
     "text": [
      "0 1 2 3 4 5 6 7 8 9 "
     ]
    }
   ],
   "source": [
    "i = 0\n",
    "while i < 10:\n",
    "    print(i, end=' ')\n",
    "    i += 1"
   ]
  },
  {
   "cell_type": "markdown",
   "id": "1b2ff277",
   "metadata": {},
   "source": [
    "آرگومان حلقه `while` به عنوان یک عبارت Boolean ارزیابی می‌شود و حلقه تا زمانی که عبارت به `False` ارزیابی شود، اجرا می‌گردد."
   ]
  },
  {
   "cell_type": "markdown",
   "id": "46fc7870",
   "metadata": {},
   "source": [
    "## `break` و `continue`: تنظیم دقیق حلقه‌های شما\n",
    "\n",
    "دو دستور مفید وجود دارند که می‌توان درون حلقه‌ها برای تنظیم دقیق نحوه اجرای آن‌ها استفاده کرد:\n",
    "\n",
    "- دستور `break` به طور کامل از حلقه خارج می‌شود\n",
    "- دستور `continue` باقی‌مانده حلقه جاری را نادیده گرفته و به تکرار بعدی می‌رود\n",
    "\n",
    "این دستورات را می‌توان در هر دو حلقه `for` و `while` استفاده کرد.\n",
    "\n",
    "در اینجا نمونه‌ای از استفاده از `continue` برای چاپ یک رشته از اعداد فرد آورده شده است.\n",
    "در این مورد، نتیجه را می‌توان به equally خوبی با یک دستور `if-else` نیز به دست آورد، اما گاهی اوقات دستور `continue` می‌تواند راهی راحت‌تر برای بیان ایده مورد نظر شما باشد:"
   ]
  },
  {
   "cell_type": "code",
   "execution_count": null,
   "id": "aa215c19",
   "metadata": {},
   "outputs": [
    {
     "name": "stdout",
     "output_type": "stream",
     "text": [
      "1 3 5 7 9 11 13 15 17 19 "
     ]
    }
   ],
   "source": [
    "for n in range(20):\n",
    "    # if the remainder of n / 2 is 0, skip the rest of the loop\n",
    "    if n % 2 == 0:\n",
    "        continue\n",
    "    print(n, end=' ')"
   ]
  },
  {
   "cell_type": "markdown",
   "id": "e2d33964",
   "metadata": {},
   "source": [
    "در اینجا نمونه‌ای از استفاده از دستور `break` برای یک کار کمتر پیش‌پاافتاده آورده شده است.\n",
    "این حلقه، یک لیست را با تمام اعداد فیبوناچی تا یک مقدار مشخص پر می‌کند:"
   ]
  },
  {
   "cell_type": "code",
   "execution_count": null,
   "id": "39ce4465",
   "metadata": {},
   "outputs": [
    {
     "name": "stdout",
     "output_type": "stream",
     "text": [
      "[1, 1, 2, 3, 5, 8, 13, 21, 34, 55, 89]\n"
     ]
    }
   ],
   "source": [
    "a, b = 0, 1\n",
    "amax = 100\n",
    "L = []\n",
    "\n",
    "while True:\n",
    "    (a, b) = (b, a + b)\n",
    "    if a > amax:\n",
    "        break\n",
    "    L.append(a)\n",
    "\n",
    "print(L)"
   ]
  },
  {
   "cell_type": "markdown",
   "id": "53a1a153",
   "metadata": {},
   "source": [
    "توجه کنید که از یک حلقه `while True` استفاده کرده‌ایم که برای همیشه ادامه خواهد یافت، مگر اینکه یک دستور break داشته باشیم!"
   ]
  },
  {
   "cell_type": "markdown",
   "id": "54517e73",
   "metadata": {},
   "source": [
    "## حلقه‌ها با بلوک `else`\n",
    "\n",
    "یک الگوی کمتر استفاده شده در پایتون، دستور `else` به عنوان بخشی از حلقه `for` یا `while` است.\n",
    "ما پیش‌تر در مورد بلوک `else` بحث کردیم: این بلوک در صورتی اجرا می‌شود که تمام دستورات `if` و `elif` به `False` ارزیابی شوند.\n",
    "`else` مربوط به حلقه شاید یکی از گیج‌کننده‌ترین نام‌گذاری‌ها در پایتون باشد؛ من ترجیح می‌دهم آن را به عنوان یک دستور `nobreak` در نظر بگیرم: یعنی بلوک `else` فقط در صورتی اجرا می‌شود که حلقه به صورت طبیعی پایان یابد، بدون اینکه با دستور `break` مواجه شود.\n",
    "\n",
    "به عنوان مثالی از کاربرد این قابلیت، پیاده‌سازی (غیربهینه) *الگوریتم غربال اراتوستن* را در نظر بگیرید که یک الگوریتم شناخته شده برای یافتن اعداد اول است:"
   ]
  },
  {
   "cell_type": "markdown",
   "id": "3167ddc4",
   "metadata": {},
   "source": [
    "L = []\n",
    "nmax = 30\n",
    "\n",
    "for n in range(2, nmax):\n",
    "    for factor in L:\n",
    "        if n % factor == 0:\n",
    "            break\n",
    "    else: # no break\n",
    "        L.append(n)\n",
    "print(L)"
   ]
  },
  {
   "cell_type": "code",
   "execution_count": null,
   "id": "b8f19a13",
   "metadata": {},
   "outputs": [
    {
     "name": "stdout",
     "output_type": "stream",
     "text": [
      "[2, 3, 5, 7, 11, 13, 17, 19, 23, 29]\n"
     ]
    }
   ],
   "source": [
    "L = []\n",
    "nmax = 30\n",
    "\n",
    "for n in range(2, nmax):\n",
    "    for factor in L:\n",
    "        if n % factor == 0:\n",
    "            break\n",
    "    else: # no break\n",
    "        L.append(n)\n",
    "print(L)"
   ]
  },
  {
   "cell_type": "markdown",
   "id": "0148c8fb",
   "metadata": {},
   "source": [
    "بلوک `else` فقط در صورتی اجرا می‌شود که هیچ یک از مقسوم‌علیه‌ها، عدد داده شده را تقسیم نکنند.\n",
    "دستور `else` به همین شکل با حلقه `while` نیز کار می‌کند."
   ]
  }
 ],
 "metadata": {
  "language_info": {
   "name": "python"
  }
 },
 "nbformat": 4,
 "nbformat_minor": 5
}
