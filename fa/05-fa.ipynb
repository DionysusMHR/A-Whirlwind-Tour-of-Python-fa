{
 "cells": [
  {
   "cell_type": "markdown",
   "id": "9b39cb0e",
   "metadata": {},
   "source": [
    "# انواع داده داخلی: مقادیر ساده"
   ]
  },
  {
   "cell_type": "markdown",
   "id": "0f089514",
   "metadata": {},
   "source": [
    "هنگام بحث در مورد متغیرها و آبجکت‌های پایتون، به این نکته اشاره کردیم که تمام آبجکت‌ها دارای اطلاعات **type** هستند. در اینجا به طور خلاصه انواع داده ساده و داخلی پایتون را مرور خواهیم کرد.\n",
    "\n",
    "ما از عبارت «انواع ساده» برای تقابل با چندین **type مرکب** استفاده می‌کنیم که در بخش بعدی مورد بحث قرار خواهند گرفت.\n",
    "\n",
    "انواع ساده پایتون در جدول زیر خلاصه شده‌اند:\n",
    "\n",
    "<center>**انواع Scalar در پایتون**</center>\n",
    "\n",
    "| Type        | Example        | Description                                                                 |\n",
    "|-------------|----------------|-----------------------------------------------------------------------------|\n",
    "| ``int``     | ``x = 1``      | اعداد صحیح                                                                  |\n",
    "| ``float``   | ``x = 1.0``    | اعداد اعشاری (یعنی اعداد حقیقی)                                             |\n",
    "| ``complex`` | ``x = 1 + 2j`` | اعداد مختلط (یعنی اعداد دارای بخش حقیقی و موهومی)                          |\n",
    "| ``bool``    | ``x = True``   | Boolean: مقادیر True/False                                                  |\n",
    "| ``str``     | ``x = 'abc'``  | String: کاراکترها یا متن                                                    |\n",
    "| ``NoneType``| ``x = None``   | آبجکت ویژه که نشان‌دهنده مقادیر null است                                    |\n",
    "\n",
    "به طور خلاصه هر یک از این موارد را بررسی خواهیم کرد."
   ]
  },
  {
   "cell_type": "markdown",
   "id": "397a048f",
   "metadata": {},
   "source": [
    "## Integers (اعداد صحیح)\n",
    "\n",
    "اساسی‌ترین نوع عددی، integer یا عدد صحیح است.\n",
    "هر عددی که بدون نقطه اعشار باشد، یک integer محسوب می‌شود:"
   ]
  },
  {
   "cell_type": "code",
   "execution_count": null,
   "id": "f28083d6",
   "metadata": {},
   "outputs": [
    {
     "data": {
      "text/plain": [
       "int"
      ]
     },
     "metadata": {},
     "output_type": "display_data"
    }
   ],
   "source": [
    "x = 1\n",
    "type(x)"
   ]
  },
  {
   "cell_type": "markdown",
   "id": "8a0992c4",
   "metadata": {},
   "source": [
    "**Integers** در پایتون در واقع بسیار پیشرفته‌تر از integers در زبان‌هایی مثل `C` هستند.\n",
    "\n",
    "**Integers** در C دارای دقت ثابت (**fixed-precision**) هستند و معمولاً پس از رسیدن به یک مقدار خاص (اغلب حول و حوش $2^{31}$ یا $2^{63}$، بسته به سیستم شما) **overflow** می‌کنند.\n",
    "\n",
    "**Integers** در پایتون دارای دقت متغیر (**variable-precision**) هستند، بنابراین می‌توانید محاسباتی را انجام دهید که در زبان‌های دیگر باعث **overflow** می‌شد:"
   ]
  },
  {
   "cell_type": "code",
   "execution_count": null,
   "id": "f7a90768",
   "metadata": {},
   "outputs": [
    {
     "data": {
      "text/plain": [
       "1606938044258990275541962092341162602522202993782792835301376"
      ]
     },
     "metadata": {},
     "output_type": "display_data"
    }
   ],
   "source": [
    "2 ** 200"
   ]
  },
  {
   "cell_type": "markdown",
   "id": "c5416f92",
   "metadata": {},
   "source": [
    "یک قابلیت کاربردی دیگر integers در پایتون این است که به طور پیش‌فرض، عملگر تقسیم (`/`)، نتیجه را به نوع **float** ارتقا می‌دهد (**up-cast** می‌کند):"
   ]
  },
  {
   "cell_type": "code",
   "execution_count": null,
   "id": "14828c11",
   "metadata": {},
   "outputs": [
    {
     "data": {
      "text/plain": [
       "2.5"
      ]
     },
     "metadata": {},
     "output_type": "display_data"
    }
   ],
   "source": [
    "5 / 2"
   ]
  },
  {
   "cell_type": "markdown",
   "id": "bed38b0c",
   "metadata": {},
   "source": [
    "توجه داشته باشید که این **upcasting** یک ویژگی از پایتون ۳ است. در پایتون ۲، مانند بسیاری از زبان‌های **statically-typed** مثل C، تقسیم اعداد صحیح، بخش اعشاری را حذف می‌کرد و همیشه یک integer برمی‌گرداند:\n",
    "\n",
    "```python\n",
    "# رفتار Python 2\n",
    ">>> 5 / 2\n",
    "2\n",
    "```\n",
    "\n",
    "برای دستیابی به این رفتار در پایتون ۳، می‌توانید از عملگر **floor-division** استفاده کنید:"
   ]
  },
  {
   "cell_type": "code",
   "execution_count": null,
   "id": "87c71d9e",
   "metadata": {},
   "outputs": [
    {
     "data": {
      "text/plain": [
       "2"
      ]
     },
     "metadata": {},
     "output_type": "display_data"
    }
   ],
   "source": [
    "5 // 2"
   ]
  },
  {
   "cell_type": "markdown",
   "id": "435c61a5",
   "metadata": {},
   "source": [
    "در نهایت توجه داشته باشید که هرچند پایتون *۲.x* همزمان دارای یک **type** به نام `int` و یک **type** به نام `long` بود، اما پایتون ۳ رفتار این دو را در یک **type** واحد به نام `int` ترکیب کرده است."
   ]
  },
  {
   "cell_type": "markdown",
   "id": "ac1d48bd",
   "metadata": {},
   "source": [
    "## Floating-Point Numbers (اعداد اعشاری)\n",
    "\n",
    "نوع **float** می‌تواند اعداد کسری را ذخیره کند.\n",
    "این اعداد را می‌توان هم با نماد دهیی استاندارد و هم با نماد نمایی (**exponential notation**) تعریف کرد:"
   ]
  },
  {
   "cell_type": "code",
   "execution_count": null,
   "id": "23d945e5",
   "metadata": {},
   "outputs": [
    {
     "name": "stdout",
     "output_type": "stream",
     "text": [
      "True\n"
     ]
    }
   ],
   "source": [
    "x = 0.000005\n",
    "y = 5e-6\n",
    "print(x == y)"
   ]
  },
  {
   "cell_type": "code",
   "execution_count": null,
   "id": "83a18220",
   "metadata": {},
   "outputs": [
    {
     "name": "stdout",
     "output_type": "stream",
     "text": [
      "True\n"
     ]
    }
   ],
   "source": [
    "x = 1400000.00\n",
    "y = 1.4e6\n",
    "print(x == y)"
   ]
  },
  {
   "cell_type": "markdown",
   "id": "f9ed7337",
   "metadata": {},
   "source": [
    "در نماد نمایی، `e` یا `E` را می‌توان به عنوان «... ضرب در ده به توان ...» خواند،\n",
    "بنابراین `1.4e6` به عنوان $~1.4 \\times 10^6$ تفسیر می‌شود."
   ]
  },
  {
   "cell_type": "markdown",
   "id": "3978c41d",
   "metadata": {},
   "source": [
    "می‌توان یک integer را به صورت صریح با استفاده از **constructor**ی `float` به یک float تبدیل کرد:"
   ]
  },
  {
   "cell_type": "code",
   "execution_count": null,
   "id": "dda93445",
   "metadata": {},
   "outputs": [
    {
     "data": {
      "text/plain": [
       "1.0"
      ]
     },
     "metadata": {},
     "output_type": "display_data"
    }
   ],
   "source": [
    "float(1)"
   ]
  },
  {
   "cell_type": "markdown",
   "id": "81c4216a",
   "metadata": {},
   "source": [
    "### نکته جانبی: دقت اعداد اعشاری\n",
    "\n",
    "یک نکته مهم در مورد محاسبات **floating-point** این است که دقت آن محدود است، که این می‌تواند باعث ناپایداری در تست برابری (**equality tests**) شود. برای مثال:"
   ]
  },
  {
   "cell_type": "code",
   "execution_count": null,
   "id": "a2883379",
   "metadata": {},
   "outputs": [
    {
     "data": {
      "text/plain": [
       "False"
      ]
     },
     "metadata": {},
     "output_type": "display_data"
    }
   ],
   "source": [
    "0.1 + 0.2 == 0.3"
   ]
  },
  {
   "cell_type": "markdown",
   "id": "066efd46",
   "metadata": {},
   "source": [
    "چرا اینطور است؟ مشخص شده که این رفتار مختص پایتون نیست، بلکه به دلیل فرمت **fixed-precision** ذخیره‌سازی اعداد **floating-point** در مبنای دو است که توسط اکثر پلتفرم‌های محاسبات علمی استفاده می‌شود.\n",
    "\n",
    "تمام زبان‌های برنامه‌نویسی که از اعداد اعشاری استفاده می‌کنند، آن‌ها را در تعداد ثابتی از **bit**ها ذخیره می‌کنند و این باعث می‌شود برخی از اعداد فقط به صورت تقریبی نمایش داده شوند.\n",
    "\n",
    "می‌توانیم این موضوع را با چاپ کردن سه مقدار با دقت بالا مشاهده کنیم:"
   ]
  },
  {
   "cell_type": "code",
   "execution_count": null,
   "id": "bc4b4453",
   "metadata": {},
   "outputs": [
    {
     "name": "stdout",
     "output_type": "stream",
     "text": [
      "0.1 = 0.10000000000000001\n",
      "0.2 = 0.20000000000000001\n",
      "0.3 = 0.29999999999999999\n"
     ]
    }
   ],
   "source": [
    "print(\"0.1 = {0:.17f}\".format(0.1))\n",
    "print(\"0.2 = {0:.17f}\".format(0.2))\n",
    "print(\"0.3 = {0:.17f}\".format(0.3))"
   ]
  },
  {
   "cell_type": "markdown",
   "id": "f64e7636",
   "metadata": {},
   "source": [
    "ما عادت کرده‌ایم که اعداد را در نماد ده‌دهی (**decimal** - مبنای ۱۰) در نظر بگیریم، به طوری که هر کسر باید به صورت مجموعی از توان‌های ۱۰ بیان شود:\n",
    "$$\n",
    "1 /8 = 1\\cdot 10^{-1} + 2\\cdot 10^{-2} + 5\\cdot 10^{-3}\n",
    "$$\n",
    "در نمایش آشنای مبنای ۱۰، این را با عبارت اعشاری شناخته شده‌ی $0.125$ نشان می‌دهیم.\n",
    "\n",
    "کامپیوترها معمولاً مقادیر را در نماد دودویی (**binary notation**) ذخیره می‌کنند، بنابراین هر عدد به صورت مجموعی از توان‌های ۲ بیان می‌شود:\n",
    "$$\n",
    "1/8 = 0\\cdot 2^{-1} + 0\\cdot 2^{-2} + 1\\cdot 2^{-3}\n",
    "$$\n",
    "در نمایش مبنای ۲، می‌توانیم این را به صورت $0.001_2$ بنویسیم، که زیرنویس ۲ نشان‌دهنده نماد دودویی است.\n",
    "مقدار $0.125 = 0.001_2$ اتفاقاً یکی از اعدادی است که هم نماد دودویی و هم نماد ده‌دهی می‌توانند آن را با تعداد رقم‌های محدود نمایش دهند.\n",
    "\n",
    "در نمایش شناخته شده اعداد در مبنای ۱۰، احتمالاً با اعدادی آشنا هستید که نمی‌توان آن‌ها را در تعداد رقم‌های محدود بیان کرد.\n",
    "برای مثال، تقسیم $۱$ بر $۳$ در نماد استاندارد ده‌دهی به این صورت است:\n",
    "$$\n",
    "1 / 3 = 0.333333333\\cdots\n",
    "$$\n",
    "۳ها تا بی‌نهایت ادامه دارند: یعنی برای نمایش واقعی این خارج‌قسمت، تعداد رقم‌های مورد نیاز بی‌نهایت است!\n",
    "\n",
    "به طور مشابه، اعدادی وجود دارند که نمایش دودویی آن‌ها به تعداد بی‌نهایت رقم نیاز دارد.\n",
    "برای مثال:\n",
    "$$\n",
    "1 / 10 = 0.00011001100110011\\cdots_2\n",
    "$$\n",
    "همان‌طور که نماد ده‌دهی به تعداد بی‌نهایت رقم برای نمایش دقیق $1/3$ نیاز دارد، نماد دودویی نیز برای نمایش $1/10$ به تعداد بی‌نهایت رقم نیاز دارد.\n",
    "پایتون به صورت داخلی این نمایش‌ها را در اکثر سیستم‌ها پس از ۵۲ **bit** بعد از اولین **bit** غیرصفر، قطع می‌کند (**truncate** می‌کند).\n",
    "\n",
    "این خطای گردکردن (**rounding error**) برای مقادیر اعشاری، یک شر ضروری در کار با اعداد **floating-point** است.\n",
    "بهترین راه برای مدیریت آن، این است که همیشه به خاطر داشته باشید که محاسبات اعشاری تقریبی هستند و هرگز به تست برابری دقیق (**exact equality tests**) با مقادیر **floating-point** اتکا نکنید."
   ]
  },
  {
   "cell_type": "markdown",
   "id": "4ab5bf1b",
   "metadata": {},
   "source": [
    "## Complex Numbers (اعداد مختلط)\n",
    "\n",
    "اعداد مختلط، اعدادی با بخش حقیقی و موهومی (از نوع **floating-point**) هستند.\n",
    "ما پیش از این با integers و اعداد حقیقی آشنا شده‌ایم؛ می‌توانیم از این‌ها برای ساخت یک عدد مختلط استفاده کنیم:"
   ]
  },
  {
   "cell_type": "code",
   "execution_count": null,
   "id": "ded28219",
   "metadata": {},
   "outputs": [
    {
     "data": {
      "text/plain": [
       "(1+2j)"
      ]
     },
     "metadata": {},
     "output_type": "display_data"
    }
   ],
   "source": [
    "complex(1, 2)"
   ]
  },
  {
   "cell_type": "markdown",
   "id": "c7395ab8",
   "metadata": {},
   "source": [
    "به طور جایگزین، می‌توانیم از پسوند \"`j`\" در عبارات برای نشان دادن بخش موهومی استفاده کنیم:"
   ]
  },
  {
   "cell_type": "code",
   "execution_count": null,
   "id": "e6471b2e",
   "metadata": {},
   "outputs": [
    {
     "data": {
      "text/plain": [
       "(1+2j)"
      ]
     },
     "metadata": {},
     "output_type": "display_data"
    }
   ],
   "source": [
    "1 + 2j"
   ]
  },
  {
   "cell_type": "markdown",
   "id": "3eb8e418",
   "metadata": {},
   "source": [
    "اعداد مختلط دارای ویژگی‌ها و متدهای جالب توجهی هستند که در ادامه به طور خلاصه به آن‌ها می‌پردازیم:"
   ]
  },
  {
   "cell_type": "code",
   "execution_count": null,
   "id": "6ab46f5a",
   "metadata": {},
   "outputs": [],
   "source": [
    "c = 3 + 4j"
   ]
  },
  {
   "cell_type": "code",
   "execution_count": null,
   "id": "d4966a74",
   "metadata": {},
   "outputs": [
    {
     "data": {
      "text/plain": [
       "3.0"
      ]
     },
     "metadata": {},
     "output_type": "display_data"
    }
   ],
   "source": [
    "c.real  # real part"
   ]
  },
  {
   "cell_type": "code",
   "execution_count": null,
   "id": "7c7a1d17",
   "metadata": {},
   "outputs": [
    {
     "data": {
      "text/plain": [
       "4.0"
      ]
     },
     "metadata": {},
     "output_type": "display_data"
    }
   ],
   "source": [
    "c.imag  # imaginary part"
   ]
  },
  {
   "cell_type": "code",
   "execution_count": null,
   "id": "9ea923bb",
   "metadata": {},
   "outputs": [
    {
     "data": {
      "text/plain": [
       "(3-4j)"
      ]
     },
     "metadata": {},
     "output_type": "display_data"
    }
   ],
   "source": [
    "c.conjugate()  # complex conjugate"
   ]
  },
  {
   "cell_type": "code",
   "execution_count": null,
   "id": "3417b0f5",
   "metadata": {},
   "outputs": [
    {
     "data": {
      "text/plain": [
       "5.0"
      ]
     },
     "metadata": {},
     "output_type": "display_data"
    }
   ],
   "source": [
    "abs(c)  # magnitude, i.e. sqrt(c.real ** 2 + c.imag ** 2)"
   ]
  },
  {
   "cell_type": "markdown",
   "id": "e9702e33",
   "metadata": {},
   "source": [
    "## String Type (نوع رشته‌ای)\n",
    "\n",
    "**String**ها در پایتون با استفاده از نقل قول تکی یا دوتایی ساخته می‌شوند:"
   ]
  },
  {
   "cell_type": "code",
   "execution_count": null,
   "id": "9346941f",
   "metadata": {},
   "outputs": [],
   "source": [
    "message = \"what do you like?\"\n",
    "response = 'spam'"
   ]
  },
  {
   "cell_type": "markdown",
   "id": "3456cbe4",
   "metadata": {},
   "source": [
    "پایتون دارای توابع و متدهای بسیار کاربردی برای **string**ها است؛ در ادامه به چند مورد از آن‌ها اشاره می‌کنیم:"
   ]
  },
  {
   "cell_type": "code",
   "execution_count": null,
   "id": "cf27f0c9",
   "metadata": {},
   "outputs": [
    {
     "data": {
      "text/plain": [
       "4"
      ]
     },
     "metadata": {},
     "output_type": "display_data"
    }
   ],
   "source": [
    "# length of string\n",
    "len(response)"
   ]
  },
  {
   "cell_type": "code",
   "execution_count": null,
   "id": "7d5bb59a",
   "metadata": {},
   "outputs": [
    {
     "data": {
      "text/plain": [
       "'SPAM'"
      ]
     },
     "metadata": {},
     "output_type": "display_data"
    }
   ],
   "source": [
    "# Make upper-case. See also str.lower()\n",
    "response.upper()"
   ]
  },
  {
   "cell_type": "code",
   "execution_count": null,
   "id": "34d8c2f2",
   "metadata": {},
   "outputs": [
    {
     "data": {
      "text/plain": [
       "'What do you like?'"
      ]
     },
     "metadata": {},
     "output_type": "display_data"
    }
   ],
   "source": [
    "# Capitalize. See also str.title()\n",
    "message.capitalize()"
   ]
  },
  {
   "cell_type": "code",
   "execution_count": null,
   "id": "f2bdd51d",
   "metadata": {},
   "outputs": [
    {
     "data": {
      "text/plain": [
       "'what do you like?spam'"
      ]
     },
     "metadata": {},
     "output_type": "display_data"
    }
   ],
   "source": [
    "# concatenation with +\n",
    "message + response"
   ]
  },
  {
   "cell_type": "code",
   "execution_count": null,
   "id": "343dbe46",
   "metadata": {},
   "outputs": [
    {
     "data": {
      "text/plain": [
       "'spamspamspamspamspam'"
      ]
     },
     "metadata": {},
     "output_type": "display_data"
    }
   ],
   "source": [
    "# multiplication is multiple concatenation\n",
    "5 * response"
   ]
  },
  {
   "cell_type": "code",
   "execution_count": null,
   "id": "e0ac1d1c",
   "metadata": {},
   "outputs": [
    {
     "data": {
      "text/plain": [
       "'w'"
      ]
     },
     "metadata": {},
     "output_type": "display_data"
    }
   ],
   "source": [
    "# Access individual characters (zero-based indexing)\n",
    "message[0]"
   ]
  },
  {
   "cell_type": "markdown",
   "id": "2b5101a2",
   "metadata": {},
   "source": [
    "برای بحث بیشتر در مورد **indexing** در پایتون، به بخش [\"لیست‌ها\"](06-Built-in-Data-Structures.ipynb#Lists) مراجعه کنید."
   ]
  },
  {
   "cell_type": "markdown",
   "id": "3b76b1f7",
   "metadata": {},
   "source": [
    "## None Type\n",
    "\n",
    "پایتون شامل یک **type** ویژه به نام `NoneType` است که تنها یک مقدار ممکن دارد: `None`. برای مثال:"
   ]
  },
  {
   "cell_type": "code",
   "execution_count": null,
   "id": "330a2079",
   "metadata": {},
   "outputs": [
    {
     "data": {
      "text/plain": [
       "NoneType"
      ]
     },
     "metadata": {},
     "output_type": "display_data"
    }
   ],
   "source": [
    "type(None)"
   ]
  },
  {
   "cell_type": "markdown",
   "id": "069b4df2",
   "metadata": {},
   "source": [
    "شما `None` را در بسیاری از جاها خواهید دید، اما شاید رایج‌ترین کاربرد آن به عنوان مقدار بازگشتی پیش‌فرض یک تابع باشد.\n",
    "\n",
    "برای مثال، تابع `print()` در پایتون ۳ چیزی **return** نمی‌کند، اما همچنان می‌توانیم مقدار آن را دریافت کنیم:"
   ]
  },
  {
   "cell_type": "code",
   "execution_count": null,
   "id": "b9b7bd52",
   "metadata": {},
   "outputs": [
    {
     "name": "stdout",
     "output_type": "stream",
     "text": [
      "abc\n"
     ]
    }
   ],
   "source": [
    "return_value = print('abc')"
   ]
  },
  {
   "cell_type": "code",
   "execution_count": null,
   "id": "c2192c22",
   "metadata": {},
   "outputs": [
    {
     "name": "stdout",
     "output_type": "stream",
     "text": [
      "None\n"
     ]
    }
   ],
   "source": [
    "print(return_value)"
   ]
  },
  {
   "cell_type": "markdown",
   "id": "ea1fe270",
   "metadata": {},
   "source": [
    "به همین ترتیب، هر تابعی در پایتون که بدون مقدار بازگشتی باشد، در واقع `None` را **return** می‌کند."
   ]
  },
  {
   "cell_type": "markdown",
   "id": "348498de",
   "metadata": {},
   "source": [
    "## Boolean Type\n",
    "\n",
    "نوع **Boolean** یک نوع ساده با دو مقدار ممکن است: `True` و `False`. این نوع توسط عملگرهای مقایسه‌ای که پیش‌تر讨论 شدند، بازگردانده می‌شود:"
   ]
  },
  {
   "cell_type": "code",
   "execution_count": null,
   "id": "e8f03e38",
   "metadata": {},
   "outputs": [
    {
     "data": {
      "text/plain": [
       "True"
      ]
     },
     "metadata": {},
     "output_type": "display_data"
    }
   ],
   "source": [
    "result = (4 < 5)\n",
    "result"
   ]
  },
  {
   "cell_type": "code",
   "execution_count": null,
   "id": "3f9fff06",
   "metadata": {},
   "outputs": [
    {
     "data": {
      "text/plain": [
       "bool"
      ]
     },
     "metadata": {},
     "output_type": "display_data"
    }
   ],
   "source": [
    "type(result)"
   ]
  },
  {
   "cell_type": "markdown",
   "id": "43d9540c",
   "metadata": {},
   "source": [
    "به خاطر داشته باشید که مقادیر Boolean به حروف بزرگ و کوچک حساس هستند: برخلاف برخی زبان‌های دیگر، `True` و `False` باید با حرف بزرگ نوشته شوند!"
   ]
  },
  {
   "cell_type": "code",
   "execution_count": null,
   "id": "076b8506",
   "metadata": {},
   "outputs": [
    {
     "name": "stdout",
     "output_type": "stream",
     "text": [
      "True False\n"
     ]
    }
   ],
   "source": [
    "print(True, False)"
   ]
  },
  {
   "cell_type": "markdown",
   "id": "2434043e",
   "metadata": {},
   "source": [
    "مقادیر Boolean را می‌توان با استفاده از **constructor** آبجکت `bool()` نیز ساخت: مقادیر هر نوع دیگری را می‌توان با استفاده از قوانین قابل پیش‌بینی به Boolean تبدیل کرد.\n",
    "\n",
    "برای مثال، هر نوع عددی اگر برابر با صفر باشد، `False` و در غیر این صورت `True` خواهد بود:"
   ]
  },
  {
   "cell_type": "code",
   "execution_count": null,
   "id": "b34ecdd2",
   "metadata": {},
   "outputs": [
    {
     "data": {
      "text/plain": [
       "True"
      ]
     },
     "metadata": {},
     "output_type": "display_data"
    }
   ],
   "source": [
    "bool(2014)"
   ]
  },
  {
   "cell_type": "code",
   "execution_count": null,
   "id": "afc8deed",
   "metadata": {},
   "outputs": [
    {
     "data": {
      "text/plain": [
       "False"
      ]
     },
     "metadata": {},
     "output_type": "display_data"
    }
   ],
   "source": [
    "bool(0)"
   ]
  },
  {
   "cell_type": "code",
   "execution_count": null,
   "id": "8cca709a",
   "metadata": {},
   "outputs": [
    {
     "data": {
      "text/plain": [
       "True"
      ]
     },
     "metadata": {},
     "output_type": "display_data"
    }
   ],
   "source": [
    "bool(3.1415)"
   ]
  },
  {
   "cell_type": "markdown",
   "id": "ae08acb3",
   "metadata": {},
   "source": [
    "تبدیل Boolean از `None` همیشه `False` است:"
   ]
  },
  {
   "cell_type": "code",
   "execution_count": null,
   "id": "1deadf51",
   "metadata": {},
   "outputs": [
    {
     "data": {
      "text/plain": [
       "False"
      ]
     },
     "metadata": {},
     "output_type": "display_data"
    }
   ],
   "source": [
    "bool(None)"
   ]
  },
  {
   "cell_type": "markdown",
   "id": "45686d7a",
   "metadata": {},
   "source": [
    "برای رشته‌ها، `bool(s)` برای رشته‌های خالی `False` و برای بقیه `True` است:"
   ]
  },
  {
   "cell_type": "code",
   "execution_count": null,
   "id": "519df934",
   "metadata": {},
   "outputs": [
    {
     "data": {
      "text/plain": [
       "False"
      ]
     },
     "metadata": {},
     "output_type": "display_data"
    }
   ],
   "source": [
    "bool(\"\")"
   ]
  },
  {
   "cell_type": "code",
   "execution_count": null,
   "id": "66f2822b",
   "metadata": {},
   "outputs": [
    {
     "data": {
      "text/plain": [
       "True"
      ]
     },
     "metadata": {},
     "output_type": "display_data"
    }
   ],
   "source": [
    "bool(\"abc\")"
   ]
  },
  {
   "cell_type": "markdown",
   "id": "2524bb4c",
   "metadata": {},
   "source": [
    "برای دنباله‌ها (**sequences**) که در بخش بعدی با آن‌ها آشنا خواهیم شد، نمایش Boolean برای دنباله‌های خالی `False` و برای هر دنباله دیگری `True` خواهد بود."
   ]
  },
  {
   "cell_type": "code",
   "execution_count": null,
   "id": "4e76b23c",
   "metadata": {},
   "outputs": [
    {
     "data": {
      "text/plain": [
       "True"
      ]
     },
     "metadata": {},
     "output_type": "display_data"
    }
   ],
   "source": [
    "bool([1, 2, 3])"
   ]
  },
  {
   "cell_type": "code",
   "execution_count": null,
   "id": "daeef1e5",
   "metadata": {},
   "outputs": [
    {
     "data": {
      "text/plain": [
       "False"
      ]
     },
     "metadata": {},
     "output_type": "display_data"
    }
   ],
   "source": [
    "bool([])"
   ]
  }
 ],
 "metadata": {
  "language_info": {
   "name": "python"
  }
 },
 "nbformat": 4,
 "nbformat_minor": 5
}
