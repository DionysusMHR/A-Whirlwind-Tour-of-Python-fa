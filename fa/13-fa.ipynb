{
 "cells": [
  {
   "cell_type": "markdown",
   "id": "dd2f35bd",
   "metadata": {},
   "source": [
    "ماژول‌ها و پکیج‌ها"
   ]
  },
  {
   "cell_type": "markdown",
   "id": "c284ae79",
   "metadata": {},
   "source": [
    "یکی از ویژگی‌های پایتون که آن را برای طیف گسترده‌ای از کارها مفید می‌کند، این است که به اصطلاح «باتری‌هایش Included هستند» - یعنی کتابخانه استاندارد پایتون حاوی ابزارهای مفیدی برای کارهای مختلف است.\n",
    "\n",
    "علاوه بر این، یک اکوسیستم گسترده از ابزارها و پکیج‌های ثالث (Third-party) وجود دارد که عملکردهای تخصصی‌تری ارائه می‌دهند.\n",
    "\n",
    "در اینجا نگاهی خواهیم انداخت به ایمپورت کردن ماژول‌های کتابخانه استاندارد، ابزارهای نصب ماژول‌های ثالث، و نحوه ساخت ماژول‌های شخصی خودتان."
   ]
  },
  {
   "cell_type": "markdown",
   "id": "f596da0e",
   "metadata": {},
   "source": [
    "## بارگذاری ماژول‌ها: دستور ``import``\n",
    "\n",
    "برای بارگذاری ماژول‌های built-in و third-party، پایتون دستور ``import`` را فراهم کرده است.\n",
    "این دستور به چند روش قابل استفاده است که به طور خلاصه و از روش توصیه‌شده تا کمتر توصیه‌شده، آن‌ها را مرور خواهیم کرد."
   ]
  },
  {
   "cell_type": "markdown",
   "id": "34058ba6",
   "metadata": {},
   "source": [
    "### ایمپورت صریح ماژول\n",
    "\n",
    "ایمپورت صریح یک ماژول، محتوای آن را در یک namespace حفظ می‌کند. سپس از این namespace برای اشاره به محتویات آن با استفاده از «`.`» بین آن‌ها استفاده می‌شود.\n",
    "\n",
    "برای مثال، در اینجا ماژول built-in به نام ``math`` را ایمپورت کرده و کسینوس پی را محاسبه می‌کنیم:"
   ]
  },
  {
   "cell_type": "code",
   "execution_count": null,
   "id": "9520781b",
   "metadata": {},
   "outputs": [
    {
     "data": {
      "text/plain": [
       "-1.0"
      ]
     },
     "metadata": {},
     "output_type": "display_data"
    }
   ],
   "source": [
    "import math\n",
    "math.cos(math.pi)"
   ]
  },
  {
   "cell_type": "markdown",
   "id": "76ed50de",
   "metadata": {},
   "source": [
    "### ایمپورت صریح ماژول با نام مستعار (Alias)\n",
    "\n",
    "برای نام‌های طولانی ماژول، استفاده از نام کامل ماژول هر بار که بخواهید به یک المان دسترسی پیدا کنید، مناسب نیست.  \n",
    "به همین دلیل، معمولاً از الگوی `import ... as ...` برای ایجاد یک نام مستعار کوتاه‌تر برای namespace استفاده می‌کنیم.  \n",
    "\n",
    "برای مثال، پکیج NumPy (مخفف Numerical Python)، که یک پکیج third-party محبوب و مفید در علم داده است، طبق قرارداد با نام مستعار `np` ایمپورت می‌شود:"
   ]
  },
  {
   "cell_type": "code",
   "execution_count": null,
   "id": "43b3e7b3",
   "metadata": {},
   "outputs": [
    {
     "data": {
      "text/plain": [
       "-1.0"
      ]
     },
     "metadata": {},
     "output_type": "display_data"
    }
   ],
   "source": [
    "import numpy as np\n",
    "np.cos(np.pi)"
   ]
  },
  {
   "cell_type": "markdown",
   "id": "27c6145d",
   "metadata": {},
   "source": [
    "### ایمپورت صریح محتویات ماژول\n",
    "\n",
    "گاهی اوقات به جای ایمپورت کردن namespace ماژول، فقط می‌خواهید چند آیتم خاص از ماژول را ایمپورت کنید.  \n",
    "این کار با الگوی `from ... import ...` قابل انجام است.  \n",
    "\n",
    "برای مثال، می‌توانیم فقط تابع `cos` و ثابت `pi` را از ماژول `math` ایمپورت کنیم:"
   ]
  },
  {
   "cell_type": "code",
   "execution_count": null,
   "id": "211b9869",
   "metadata": {},
   "outputs": [
    {
     "data": {
      "text/plain": [
       "-1.0"
      ]
     },
     "metadata": {},
     "output_type": "display_data"
    }
   ],
   "source": [
    "from math import cos, pi\n",
    "cos(pi)"
   ]
  },
  {
   "cell_type": "markdown",
   "id": "f9107ed8",
   "metadata": {},
   "source": [
    "### ایمپورت ضمنی محتویات ماژول\n",
    "\n",
    "در نهایت، گاهی اوقات مفید است که تمامی محتویات ماژول مستقیماً به فضای نام محلی (local namespace) اضافه شوند.  \n",
    "این کار با الگوی `from ... import *` قابل انجام است:"
   ]
  },
  {
   "cell_type": "code",
   "execution_count": null,
   "id": "43416534",
   "metadata": {},
   "outputs": [
    {
     "data": {
      "text/plain": [
       "1.0"
      ]
     },
     "metadata": {},
     "output_type": "display_data"
    }
   ],
   "source": [
    "from math import *\n",
    "sin(pi) ** 2 + cos(pi) ** 2"
   ]
  },
  {
   "cell_type": "markdown",
   "id": "0003a041",
   "metadata": {},
   "source": [
    "این الگو باید به ندرت و با احتیاط استفاده شود.  \n",
    "مشکل اینجاست که چنین ایمپورت‌هایی گاهی می‌توانند نام توابعی را که قصد تغییرشان را ندارید، بازنویسی کنند و ضمنی بودن این دستور، تشخیص اینکه چه چیزی تغییر کرده را دشوار می‌سازد.  \n",
    "\n",
    "برای مثال، پایتون یک تابع built-in به نام `sum` دارد که برای عملیات مختلفی قابل استفاده است:"
   ]
  },
  {
   "cell_type": "code",
   "execution_count": null,
   "id": "0c0109bb",
   "metadata": {},
   "outputs": [
    {
     "name": "stdout",
     "output_type": "stream",
     "text": [
      "Help on built-in function sum in module builtins:\n",
      "\n",
      "sum(...)\n",
      "    sum(iterable[, start]) -> value\n",
      "    \n",
      "    Return the sum of an iterable of numbers (NOT strings) plus the value\n",
      "    of parameter 'start' (which defaults to 0).  When the iterable is\n",
      "    empty, return start.\n",
      "\n"
     ]
    }
   ],
   "source": [
    "help(sum)"
   ]
  },
  {
   "cell_type": "markdown",
   "id": "14d96ee7",
   "metadata": {},
   "source": [
    "می‌توانیم از این تابع برای محاسبه مجموع یک دنباله استفاده کنیم که از یک مقدار مشخص شروع می‌شود (در اینجا از `-1` شروع می‌کنیم):"
   ]
  },
  {
   "cell_type": "code",
   "execution_count": null,
   "id": "c96eb83d",
   "metadata": {},
   "outputs": [
    {
     "data": {
      "text/plain": [
       "9"
      ]
     },
     "metadata": {},
     "output_type": "display_data"
    }
   ],
   "source": [
    "sum(range(5), -1)"
   ]
  },
  {
   "cell_type": "markdown",
   "id": "3d2ab8f7",
   "metadata": {},
   "source": [
    "حال مشاهده کنید که اگر همان **دقیقاً همان فراخوانی تابع** را پس از ایمپورت `*` از `numpy` انجام دهیم، چه اتفاقی می‌افتد:"
   ]
  },
  {
   "cell_type": "code",
   "execution_count": null,
   "id": "4e168eb6",
   "metadata": {},
   "outputs": [],
   "source": [
    "from numpy import *"
   ]
  },
  {
   "cell_type": "code",
   "execution_count": null,
   "id": "48801054",
   "metadata": {},
   "outputs": [
    {
     "data": {
      "text/plain": [
       "10"
      ]
     },
     "metadata": {},
     "output_type": "display_data"
    }
   ],
   "source": [
    "sum(range(5), -1)"
   ]
  },
  {
   "cell_type": "markdown",
   "id": "d6f1fa8f",
   "metadata": {},
   "source": [
    "نتیجه یک واحد اختلاف دارد!  \n",
    "دلیل این است که دستور `import *`، تابع built-in به نام `sum` را با تابع `numpy.sum` **جایگزین** می‌کند که signature فراخوانی متفاوتی دارد: در حالت اول، ما `range(5)` را از `-1` شروع به جمع‌زدن می‌کنیم؛ در حالی که در حالت دوم، `range(5)` را در امتداد last axis (که با `-1` نشان داده شده) جمع می‌زنیم.  \n",
    "این نمونه‌ای از situations است که در صورت عدم دقت هنگام استفاده از `import *` ممکن است رخ دهد – به همین دلیل، بهترین practice این است که از این روش اجتناب کنید، مگر اینکه دقیقاً بدانید چه می‌کنید."
   ]
  },
  {
   "cell_type": "markdown",
   "id": "0cfaf8a4",
   "metadata": {},
   "source": [
    "## ایمپورت از کتابخانه استاندارد پایتون\n",
    "\n",
    "کتابخانه استاندارد پایتون شامل ماژول‌های built-in مفید بسیاری است که می‌توانید به طور کامل در [مستندات پایتون](https://docs.python.org/3/library/) مطالعه کنید.  \n",
    "هر یک از این ماژول‌ها را می‌توان با دستور `import` ایمپورت کرد و سپس با استفاده از تابع help که در بخش قبل دیدیم، آن‌ها را بررسی نمود.  \n",
    "در ادامه لیست بسیار ناقصی از برخی ماژول‌هایی که ممکن است بخواهید بررسی و یاد بگیرید آورده شده است:  \n",
    "\n",
    "- **`os`** و **`sys`**: ابزارهایی برای تعامل با سیستم عامل، شامل پیمایش ساختار دایرکتوری فایل‌ها و اجرای دستورات shell  \n",
    "- **`math`** و **`cmath`**: توابع و عملیات ریاضی روی اعداد حقیقی و مختلط  \n",
    "- **`itertools`**: ابزارهایی برای ساخت و تعامل با iteratorها و generatorها  \n",
    "- **`functools`**: ابزارهایی که به برنامه‌نویسی تابعی (functional programming) کمک می‌کنند  \n",
    "- **`random`**: ابزارهای تولید اعداد تصادفی شبه‌تصادفی (pseudorandom)  \n",
    "- **`pickle`**: ابزارهای persistence شیء: ذخیره اشیاء در دیسک و بارگذاری آن‌ها از دیسک  \n",
    "- **`json`** و **`csv`**: ابزارهایی برای خواندن فایل‌های با فرمت JSON و CSV  \n",
    "- **`urllib`**: ابزارهایی برای انجام درخواست‌های HTTP و سایر درخواست‌های وب  \n",
    "\n",
    "می‌توانید اطلاعاتی درباره این ماژول‌ها و موارد بسیار بیشتر در مستندات کتابخانه استاندارد پایتون پیدا کنید:  \n",
    "https://docs.python.org/3/library/"
   ]
  },
  {
   "cell_type": "markdown",
   "id": "e4a612d0",
   "metadata": {},
   "source": [
    "## ایمپورت از ماژول‌های شخص ثالث (Third-Party)\n",
    "\n",
    "یکی از ویژگی‌هایی که پایتون را به ویژه در دنیای علم داده مفید می‌سازد، اکوسیستم ماژول‌های شخص ثالث آن است.  \n",
    "این ماژول‌ها دقیقاً مانند ماژول‌های built-in قابل ایمپورت هستند، اما ابتدا باید روی سیستم شما نصب شوند.  \n",
    "ثبت‌ استاندارد این ماژول‌ها، Python Package Index (به اختصار *PyPI*) است که در آدرس http://pypi.python.org/ در دسترس می‌باشد.  \n",
    "\n",
    "برای راحتی کار، پایتون با برنامه‌ای به نام `pip` (یک سرواژه بازگشتی به معنای «Pip Installs Packages») ارائه می‌شود که به طور خودکار پکیج‌های منتشر شده در PyPI را دریافت و نصب می‌کند (اگر از نسخه ۲ پایتون استفاده می‌کنید، `pip` باید جداگانه نصب شود).  \n",
    "\n",
    "برای مثال، اگر می‌خواهید پکیج `supersmoother` که نوشته‌ام را نصب کنید، تنها کافی است در خط فرمان تایپ کنید:  \n",
    "\n",
    "```\n",
    "$ pip install supersmoother\n",
    "```\n",
    "\n",
    "سورس کد پکیج به طور خودکار از مخزن PyPI دانلود شده و پکیج در مسیر استاندارد پایتون نصب می‌شود (با فرض داشتن مجوز لازم روی کامپیوتر مورد استفاده).  \n",
    "\n",
    "برای اطلاعات بیشتر درباره PyPI و نصب‌کننده `pip`، به مستندات موجود در http://pypi.python.org/ مراجعه کنید."
   ]
  }
 ],
 "metadata": {
  "language_info": {
   "name": "python"
  }
 },
 "nbformat": 4,
 "nbformat_minor": 5
}
