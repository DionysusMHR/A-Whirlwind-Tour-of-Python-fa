{
 "cells": [
  {
   "cell_type": "markdown",
   "id": "a49616a1",
   "metadata": {},
   "source": [
    "# List Comprehensions (درک لیست)"
   ]
  },
  {
   "cell_type": "markdown",
   "id": "20f23824",
   "metadata": {},
   "source": [
    "اگر به اندازه کافی کد پایتون بخوانید، بالاخره با ساختار مختصر و کارآمدی به نام *list comprehension* روبرو خواهید شد.\n",
    "این یکی از ویژگی‌های پایتون است که مطمئنم اگر قبلاً از آن استفاده نکرده باشید، عاشقش خواهید شد. این ساختار چیزی شبیه به این است:"
   ]
  },
  {
   "cell_type": "code",
   "execution_count": null,
   "id": "a21cf997",
   "metadata": {},
   "outputs": [
    {
     "data": {
      "text/plain": [
       "[1, 2, 4, 5, 7, 8, 10, 11, 13, 14, 16, 17, 19]"
      ]
     },
     "metadata": {},
     "output_type": "display_data"
    }
   ],
   "source": [
    "[i for i in range(20) if i % 3 > 0]"
   ]
  },
  {
   "cell_type": "markdown",
   "id": "884fc544",
   "metadata": {},
   "source": [
    "نتیجه این کار یک لیست از اعداد است که مضارب عدد ۳ را حذف می‌کند.\n",
    "اگرچه این مثال ممکن است در نگاه اول کمی گیج‌کننده به نظر برسد، اما با افزایش familiarity با پایتون، خواندن و نوشتن list comprehensions به امری طبیعی تبدیل خواهد شد."
   ]
  },
  {
   "cell_type": "markdown",
   "id": "6832f3f4",
   "metadata": {},
   "source": [
    "## List Comprehensions پایه‌ای\n",
    "\n",
    "List comprehensions در واقع روشی برای فشرده‌سازی یک حلقه for سازنده لیست در یک خط کوتاه و خوانا هستند.\n",
    "\n",
    "به عنوان مثال، در ادامه یک حلقه را مشاهده می‌کنید که لیستی از ۱۲ مربع کامل اول را می‌سازد:"
   ]
  },
  {
   "cell_type": "code",
   "execution_count": null,
   "id": "0f44e3c6",
   "metadata": {},
   "outputs": [
    {
     "data": {
      "text/plain": [
       "[0, 1, 4, 9, 16, 25, 36, 49, 64, 81, 100, 121]"
      ]
     },
     "metadata": {},
     "output_type": "display_data"
    }
   ],
   "source": [
    "L = []\n",
    "for n in range(12):\n",
    "    L.append(n ** 2)\n",
    "L"
   ]
  },
  {
   "cell_type": "markdown",
   "id": "b218b7f7",
   "metadata": {},
   "source": [
    "معادل این کد به صورت List Comprehension به صورت زیر است:"
   ]
  },
  {
   "cell_type": "code",
   "execution_count": null,
   "id": "2b213e1a",
   "metadata": {},
   "outputs": [
    {
     "data": {
      "text/plain": [
       "[0, 1, 4, 9, 16, 25, 36, 49, 64, 81, 100, 121]"
      ]
     },
     "metadata": {},
     "output_type": "display_data"
    }
   ],
   "source": [
    "[n ** 2 for n in range(12)]"
   ]
  },
  {
   "cell_type": "markdown",
   "id": "bfc66a43",
   "metadata": {},
   "source": [
    "همانند بسیاری از دستورات پایتون، می‌توانید معنای این عبارت را تقریباً به زبان انگلیسی ساده بخوانید: «لیستی بسازید متشکل از مربع `n` برای هر `n` تا عدد ۱۲».\n",
    "\n",
    "سینتکس پایه آن به این شکل است:  \n",
    "`[`*`عبارت`* `for` *`متغیر`* `in` *`پیمایش‌پذیر`*`]`،  \n",
    "که در آن *`عبارت`* هر عبارت معتبری است، *`متغیر`* یک نام متغیر است و *`پیمایش‌پذیر`* هر شیء پیمایش‌پذیر پایتون می‌باشد."
   ]
  },
  {
   "cell_type": "markdown",
   "id": "5ba3e962",
   "metadata": {},
   "source": [
    "## پیمایش چندگانه\n",
    "\n",
    "گاهی اوقات نیاز دارید یک لیست نه فقط از یک مقدار، بلکه از دو مقدار بسازید. برای این کار کافیست یک عبارت ``for`` دیگر به comprehension اضافه کنید:"
   ]
  },
  {
   "cell_type": "code",
   "execution_count": null,
   "id": "3632ca67",
   "metadata": {},
   "outputs": [
    {
     "data": {
      "text/plain": [
       "[(0, 0), (0, 1), (0, 2), (1, 0), (1, 1), (1, 2)]"
      ]
     },
     "metadata": {},
     "output_type": "display_data"
    }
   ],
   "source": [
    "[(i, j) for i in range(2) for j in range(3)]"
   ]
  },
  {
   "cell_type": "markdown",
   "id": "d896d63b",
   "metadata": {},
   "source": [
    "توجه کنید که عبارت دوم ``for`` به عنوان ایندکس داخلی عمل می‌کند و سریع‌ترین تغییر را در لیست حاصل دارد.\n",
    "\n",
    "این نوع ساختار را می‌توان به سه، چهار یا تعداد بیشتری iterator در درون comprehension گسترش داد، اگرچه در نقطه‌ای خوانایی کد کاهش خواهد یافت!"
   ]
  },
  {
   "cell_type": "markdown",
   "id": "196220c4",
   "metadata": {},
   "source": [
    "## شرط‌ها روی Iterator\n",
    "\n",
    "می‌توانید با افزودن یک شرط در انتهای عبارت، کنترل بیشتری روی پیمایش اعمال کنید.\n",
    "در اولین مثال این بخش، روی تمام اعداد از ۱ تا ۲۰ پیمایش کردیم، اما مضارب ۳ را حذف نمودیم.\n",
    "دوباره به این مثال نگاه کنید و ساختار آن را توجه کنید:"
   ]
  },
  {
   "cell_type": "code",
   "execution_count": null,
   "id": "e5b87894",
   "metadata": {},
   "outputs": [
    {
     "data": {
      "text/plain": [
       "[1, 2, 4, 5, 7, 8, 10, 11, 13, 14, 16, 17, 19]"
      ]
     },
     "metadata": {},
     "output_type": "display_data"
    }
   ],
   "source": [
    "[val for val in range(20) if val % 3 > 0]"
   ]
  },
  {
   "cell_type": "markdown",
   "id": "11e37874",
   "metadata": {},
   "source": [
    "عبارت ``(i % 3 > 0)`` تنها در صورتی `False` می‌شود که مقدار بر ۳ بخش‌پذیر باشد.\n",
    "\n",
    "باز هم می‌توان معنای این عبارت را مستقیماً به زبان انگلیسی خواند: \"یک لیست از مقادیر برای هر عدد تا ۲۰ بساز، اما فقط در صورتی که مقدار بر ۳ بخش‌پذیر نباشد\".\n",
    "\n",
    "زمانی که با این syntax آشنا شوید، نوشتن آن - و درک آن در نگاه اول - بسیار ساده‌تر از syntax معادل با حلقه خواهد بود:"
   ]
  },
  {
   "cell_type": "code",
   "execution_count": null,
   "id": "179b86bd",
   "metadata": {},
   "outputs": [
    {
     "data": {
      "text/plain": [
       "[1, 2, 4, 5, 7, 8, 10, 11, 13, 14, 16, 17, 19]"
      ]
     },
     "metadata": {},
     "output_type": "display_data"
    }
   ],
   "source": [
    "L = []\n",
    "for val in range(20):\n",
    "    if val % 3:\n",
    "        L.append(val)\n",
    "L"
   ]
  },
  {
   "cell_type": "markdown",
   "id": "b9e90b85",
   "metadata": {},
   "source": [
    "## شرط‌ها روی مقدار\n",
    "\n",
    "اگر قبلاً در C برنامه‌نویسی کرده باشید، احتمالاً با شرط تک خطی که با اپراتور ``?`` فعال می‌شود آشنا هستید:\n",
    "``` C\n",
    "int absval = (val < 0) ? -val : val\n",
    "```\n",
    "پایتون چیزی بسیار شبیه به این دارد که اغلب در List Comprehensions، توابع ``lambda`` و سایر جاهایی که یک expression ساده مورد نیاز است استفاده می‌شود:"
   ]
  },
  {
   "cell_type": "code",
   "execution_count": null,
   "id": "5a37682b",
   "metadata": {},
   "outputs": [
    {
     "data": {
      "text/plain": [
       "10"
      ]
     },
     "metadata": {},
     "output_type": "display_data"
    }
   ],
   "source": [
    "val = -10\n",
    "val if val >= 0 else -val"
   ]
  },
  {
   "cell_type": "markdown",
   "id": "681eac4f",
   "metadata": {},
   "source": [
    "می‌بینیم که این فقط عملکرد تابع داخلی ``abs()`` را تکرار می‌کند، اما این ساختار به شما امکان می‌دهد کارهای واقعاً جالبی درون List Comprehensions انجام دهید.\n",
    "\n",
    "اگرچه الان دارد کمی پیچیده می‌شود، اما می‌توانید چیزی شبیه به این انجام دهید:"
   ]
  },
  {
   "cell_type": "code",
   "execution_count": null,
   "id": "a0e214a9",
   "metadata": {},
   "outputs": [
    {
     "data": {
      "text/plain": [
       "[1, -2, -4, 5, 7, -8, -10, 11, 13, -14, -16, 17, 19]"
      ]
     },
     "metadata": {},
     "output_type": "display_data"
    }
   ],
   "source": [
    "[val if val % 2 else -val\n",
    " for val in range(20) if val % 3]"
   ]
  },
  {
   "cell_type": "markdown",
   "id": "2575c7b1",
   "metadata": {},
   "source": [
    "توجه کنید به شکستن خط درون list comprehension قبل از عبارت ``for``: این کار در پایتون معتبر است و اغلب روش خوبی برای شکستن list comprehensionهای طولانی و بهبود خوانایی محسوب می‌شود.\n",
    "\n",
    "به این نگاه کنید: کاری که ما انجام می‌دهیم، ساخت یک لیست است که مضارب ۳ را حذف می‌کند و همه مضارب ۲ را منفی می‌کند."
   ]
  },
  {
   "cell_type": "markdown",
   "id": "7223f37d",
   "metadata": {},
   "source": [
    "وقتی dynamics مربوط به list comprehensions را درک کنید، حرکت به سمت سایر انواع comprehensions بسیار ساده خواهد بود. syntax تا حد زیادی یکسان است؛ تنها تفاوت در نوع براکتی است که استفاده می‌کنید.\n",
    "\n",
    "برای مثال، با استفاده از curly braces می‌توانید یک `set` با *set comprehension* ایجاد کنید:"
   ]
  },
  {
   "cell_type": "code",
   "execution_count": null,
   "id": "2bb0886e",
   "metadata": {},
   "outputs": [
    {
     "data": {
      "text/plain": [
       "{0, 1, 4, 9, 16, 25, 36, 49, 64, 81, 100, 121}"
      ]
     },
     "metadata": {},
     "output_type": "display_data"
    }
   ],
   "source": [
    "{n**2 for n in range(12)}"
   ]
  },
  {
   "cell_type": "markdown",
   "id": "2bb2dd30",
   "metadata": {},
   "source": [
    "به خاطر دارید که `set` یک مجموعه است که شامل هیچ مورد تکراری نیست.\n",
    "set comprehension این قانون را رعایت می‌کند و هر ورودی تکراری را حذف می‌کند:"
   ]
  },
  {
   "cell_type": "code",
   "execution_count": null,
   "id": "2ffe0c61",
   "metadata": {},
   "outputs": [
    {
     "data": {
      "text/plain": [
       "{0, 1, 2}"
      ]
     },
     "metadata": {},
     "output_type": "display_data"
    }
   ],
   "source": [
    "{a % 3 for a in range(1000)}"
   ]
  },
  {
   "cell_type": "markdown",
   "id": "71335060",
   "metadata": {},
   "source": [
    "با یک تغییر کوچک، می‌توانید یک کولن (``:``) اضافه کنید تا یک *dict comprehension* ایجاد کنید:"
   ]
  },
  {
   "cell_type": "code",
   "execution_count": null,
   "id": "c07a225e",
   "metadata": {},
   "outputs": [
    {
     "data": {
      "text/plain": [
       "{0: 0, 1: 1, 2: 4, 3: 9, 4: 16, 5: 25}"
      ]
     },
     "metadata": {},
     "output_type": "display_data"
    }
   ],
   "source": [
    "{n:n**2 for n in range(6)}"
   ]
  },
  {
   "cell_type": "markdown",
   "id": "d53849ed",
   "metadata": {},
   "source": [
    "در نهایت، اگر به جای براکت‌های مربعی از پرانتز استفاده کنید، به چیزی به نام *generator expression* می‌رسید:"
   ]
  },
  {
   "cell_type": "code",
   "execution_count": null,
   "id": "38c7b615",
   "metadata": {},
   "outputs": [
    {
     "data": {
      "text/plain": [
       "<generator object <genexpr> at 0x1027a5a50>"
      ]
     },
     "metadata": {},
     "output_type": "display_data"
    }
   ],
   "source": [
    "(n**2 for n in range(12))"
   ]
  },
  {
   "cell_type": "markdown",
   "id": "f1d9e7c4",
   "metadata": {},
   "source": [
    "یک generator expression در اصل یک list comprehension است که در آن المان‌ها به صورت on-demand و نه یک‌باره تولید می‌شوند. این سادگی، قدرت این ویژگی زبانی را پنهان می‌کند که بیشتر در ادامه به آن خواهیم پرداخت."
   ]
  }
 ],
 "metadata": {
  "language_info": {
   "name": "python"
  }
 },
 "nbformat": 4,
 "nbformat_minor": 5
}
